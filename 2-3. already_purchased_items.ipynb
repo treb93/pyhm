{
 "cells": [
  {
   "cell_type": "markdown",
   "metadata": {},
   "source": [
    "## Liste des articles déjà achetés\n",
    "Dans ce notebook, nous dressons la liste des articles déjà achetés pour chaque client, et regardons le score obtenu.\n",
    "Cela nous permet d'obtenir un score de base auquel comparer les résultats des modèles ultérieurs.\n",
    "\n",
    "Par la suite elle sera utile pour générer une sélection restreinte d'articles par client, sur laquelle entraîner le modèle."
   ]
  },
  {
   "cell_type": "code",
   "execution_count": 1,
   "metadata": {},
   "outputs": [],
   "source": [
    "import pandas as pd\n",
    "import numpy as np\n",
    "import swifter\n",
    "import matplotlib.pyplot as plt\n",
    "import seaborn as sns\n",
    "%matplotlib inline\n"
   ]
  },
  {
   "cell_type": "code",
   "execution_count": 2,
   "metadata": {},
   "outputs": [],
   "source": [
    "# Import des transactions\n",
    "transactions = pd.read_pickle('pickles/transactions_clean.pkl')\n",
    "\n",
    "# Modifications propres à la présente manipulation\n",
    "last_day = transactions['t_dat'].max()\n",
    "transactions['day_number'] = (last_day - transactions['t_dat']).dt.days\n",
    "\n",
    "transactions = transactions[['article_id', 'day_number', 'customer_id']].drop_duplicates()"
   ]
  },
  {
   "cell_type": "code",
   "execution_count": 3,
   "metadata": {},
   "outputs": [],
   "source": [
    "# Création de la table voulue\n",
    "already_purchased = transactions.groupby(['customer_id', 'article_id'], as_index = False, sort = False).agg(\n",
    "    days_list = ('day_number', lambda x: list(x)) # Le tableau est censé déjà être trié .\n",
    ")"
   ]
  },
  {
   "cell_type": "code",
   "execution_count": 4,
   "metadata": {},
   "outputs": [],
   "source": [
    "# Ajout de champs supplémentaires après le groupage, celui-ci étant déjà lourd. \n",
    "already_purchased['count'] = already_purchased['days_list'].apply(lambda x: len(x))\n",
    "already_purchased['last_day'] = already_purchased['days_list'].apply(lambda x: x[0])\n",
    "already_purchased['first_day'] = already_purchased['days_list'].apply(lambda x: x[-1])"
   ]
  },
  {
   "cell_type": "code",
   "execution_count": 5,
   "metadata": {},
   "outputs": [
    {
     "data": {
      "text/html": [
       "<div>\n",
       "<style scoped>\n",
       "    .dataframe tbody tr th:only-of-type {\n",
       "        vertical-align: middle;\n",
       "    }\n",
       "\n",
       "    .dataframe tbody tr th {\n",
       "        vertical-align: top;\n",
       "    }\n",
       "\n",
       "    .dataframe thead th {\n",
       "        text-align: right;\n",
       "    }\n",
       "</style>\n",
       "<table border=\"1\" class=\"dataframe\">\n",
       "  <thead>\n",
       "    <tr style=\"text-align: right;\">\n",
       "      <th></th>\n",
       "      <th>customer_id</th>\n",
       "      <th>article_id</th>\n",
       "      <th>days_list</th>\n",
       "      <th>count</th>\n",
       "      <th>last_day</th>\n",
       "      <th>first_day</th>\n",
       "    </tr>\n",
       "  </thead>\n",
       "  <tbody>\n",
       "    <tr>\n",
       "      <th>0</th>\n",
       "      <td>fffef3b6b73545df065b521e19f64bf6fe93bfd450ab20...</td>\n",
       "      <td>0898573003</td>\n",
       "      <td>[0]</td>\n",
       "      <td>1</td>\n",
       "      <td>0</td>\n",
       "      <td>0</td>\n",
       "    </tr>\n",
       "    <tr>\n",
       "      <th>1</th>\n",
       "      <td>53d5f95331b01525404c3cbb2da6a84e1173dccb979d28...</td>\n",
       "      <td>0752814021</td>\n",
       "      <td>[0, 1]</td>\n",
       "      <td>2</td>\n",
       "      <td>0</td>\n",
       "      <td>1</td>\n",
       "    </tr>\n",
       "    <tr>\n",
       "      <th>2</th>\n",
       "      <td>53da4b44e81286ed175a46d8ffd5a2baf47843089dc03f...</td>\n",
       "      <td>0793506006</td>\n",
       "      <td>[0]</td>\n",
       "      <td>1</td>\n",
       "      <td>0</td>\n",
       "      <td>0</td>\n",
       "    </tr>\n",
       "    <tr>\n",
       "      <th>3</th>\n",
       "      <td>53da4b44e81286ed175a46d8ffd5a2baf47843089dc03f...</td>\n",
       "      <td>0802459001</td>\n",
       "      <td>[0]</td>\n",
       "      <td>1</td>\n",
       "      <td>0</td>\n",
       "      <td>0</td>\n",
       "    </tr>\n",
       "    <tr>\n",
       "      <th>4</th>\n",
       "      <td>53da4b44e81286ed175a46d8ffd5a2baf47843089dc03f...</td>\n",
       "      <td>0874169001</td>\n",
       "      <td>[0]</td>\n",
       "      <td>1</td>\n",
       "      <td>0</td>\n",
       "      <td>0</td>\n",
       "    </tr>\n",
       "  </tbody>\n",
       "</table>\n",
       "</div>"
      ],
      "text/plain": [
       "                                         customer_id  article_id days_list  \\\n",
       "0  fffef3b6b73545df065b521e19f64bf6fe93bfd450ab20...  0898573003       [0]   \n",
       "1  53d5f95331b01525404c3cbb2da6a84e1173dccb979d28...  0752814021    [0, 1]   \n",
       "2  53da4b44e81286ed175a46d8ffd5a2baf47843089dc03f...  0793506006       [0]   \n",
       "3  53da4b44e81286ed175a46d8ffd5a2baf47843089dc03f...  0802459001       [0]   \n",
       "4  53da4b44e81286ed175a46d8ffd5a2baf47843089dc03f...  0874169001       [0]   \n",
       "\n",
       "   count  last_day  first_day  \n",
       "0      1         0          0  \n",
       "1      2         0          1  \n",
       "2      1         0          0  \n",
       "3      1         0          0  \n",
       "4      1         0          0  "
      ]
     },
     "execution_count": 5,
     "metadata": {},
     "output_type": "execute_result"
    }
   ],
   "source": [
    "already_purchased.to_pickle(\"pickles/list_already_purchased.pkl\")\n",
    "already_purchased.head()"
   ]
  },
  {
   "cell_type": "markdown",
   "metadata": {},
   "source": [
    "#### Affichage des intervalles entre deux rachats"
   ]
  },
  {
   "cell_type": "code",
   "execution_count": 9,
   "metadata": {},
   "outputs": [
    {
     "name": "stderr",
     "output_type": "stream",
     "text": [
      "Pandas Apply: 100%|██████████| 1141216/1141216 [00:01<00:00, 992716.68it/s] \n"
     ]
    }
   ],
   "source": [
    "intervals = []\n",
    "\n",
    "def append_interval(day_list):\n",
    "    end = len(day_list)\n",
    "    \n",
    "    for i in range(0, end):\n",
    "        for j in range(i + 1, end):\n",
    "            interval = day_list[j] - day_list[i]\n",
    "            \n",
    "            intervals.append(interval)\n",
    "\n",
    "blank = already_purchased[already_purchased['count'] > 1]['days_list'].swifter.apply(append_interval)"
   ]
  },
  {
   "cell_type": "code",
   "execution_count": 10,
   "metadata": {},
   "outputs": [],
   "source": [
    "intervals_distribution = pd.Series(intervals).value_counts()\n",
    "intervals_distribution.to_pickle('pickles/repurchases_interval_distribution.pkl')"
   ]
  },
  {
   "cell_type": "code",
   "execution_count": 8,
   "metadata": {},
   "outputs": [],
   "source": [
    "intervals_distribution = pd.read_pickle('pickles/repurchases_interval_distribution.pkl')"
   ]
  },
  {
   "cell_type": "code",
   "execution_count": 18,
   "metadata": {},
   "outputs": [
    {
     "data": {
      "image/png": "[encoded data removed]",
      "text/plain": [
       "<Figure size 432x288 with 1 Axes>"
      ]
     },
     "metadata": {
      "needs_background": "light"
     },
     "output_type": "display_data"
    }
   ],
   "source": [
    "plt.figure()\n",
    "plt.plot(intervals_distribution.index, intervals_distribution)\n",
    "plt.xticks([0, 30, 60, 90, 120, 150, 180])\n",
    "plt.xlim(0, 210)\n",
    "plt.xlabel(\"Nombre de jours\")\n",
    "plt.ylabel(\"Nombre de rachats\")\n",
    "plt.title(\"Intervalles entre deux rachats d'un même article\")\n",
    "plt.show()"
   ]
  },
  {
   "cell_type": "code",
   "execution_count": 25,
   "metadata": {},
   "outputs": [
    {
     "name": "stdout",
     "output_type": "stream",
     "text": [
      "Pourcentage de rachats effectués dans les 15 jours :  0.5786424064449749\n",
      "Pourcentage de rachats après 90 jours :  0.18938098654944338\n"
     ]
    }
   ],
   "source": [
    "interval_normalized = pd.Series(intervals).value_counts(normalize = True)\n",
    "print(\"Pourcentage de rachats effectués dans les 15 jours : \", interval_normalized.iloc[0:15].sum())\n",
    "print(\"Pourcentage de rachats après 30 jours : \", interval_normalized.iloc[31:].sum())"
   ]
  },
  {
   "cell_type": "markdown",
   "metadata": {},
   "source": [
    "Observations : \n",
    "- 57% des rachats d'un même article se font dans les 15 jours."
   ]
  },
  {
   "cell_type": "code",
   "execution_count": 3,
   "metadata": {},
   "outputs": [],
   "source": [
    "already_purchased = pd.read_pickle(\"pickles/list_already_purchased.pkl\")"
   ]
  },
  {
   "cell_type": "code",
   "execution_count": 11,
   "metadata": {},
   "outputs": [],
   "source": [
    "# Ajout des données client et produit\n",
    "customers = pd.read_pickle('pickles/customers_second_iteration.pkl')\n",
    "customers = customers[['customer_id', 'repurchases', 'repurchases_interval']]\n",
    "\n",
    "articles = pd.read_pickle('pickles/articles_second_iteration.pkl')\n",
    "articles = articles[['article_id', 'repurchases', 'repurchase_interval']]\n",
    "\n",
    "already_purchased = already_purchased.merge(customers, on = 'customer_id', how = 'left')\n",
    "already_purchased = already_purchased.merge(articles, on = 'article_id', how = 'left', suffixes = ('_customer', '_article'))"
   ]
  },
  {
   "cell_type": "code",
   "execution_count": 12,
   "metadata": {},
   "outputs": [],
   "source": [
    "already_purchased['mean_interval'] = (already_purchased['repurchases_interval'] + already_purchased['repurchase_interval']) / 2\n",
    "already_purchased['score'] = already_purchased['repurchases_article'] * already_purchased['repurchases_customer']\n",
    "\n",
    "already_purchased['interval_weighted'] =  already_purchased['last_day'] / already_purchased['mean_interval']\n",
    "already_purchased = already_purchased[already_purchased['interval_weighted'] <= 50]"
   ]
  },
  {
   "cell_type": "code",
   "execution_count": 13,
   "metadata": {},
   "outputs": [],
   "source": [
    "already_purchased['score'] *= already_purchased['interval_weighted'].apply(lambda x: \n",
    "    intervals_distribution.loc[max(round(x), 1)]\n",
    ")"
   ]
  },
  {
   "cell_type": "code",
   "execution_count": 14,
   "metadata": {},
   "outputs": [],
   "source": [
    "already_purchased = already_purchased[['customer_id', 'article_id', 'score']].sort_values(['customer_id', 'score'], ascending = False)"
   ]
  },
  {
   "cell_type": "code",
   "execution_count": 15,
   "metadata": {},
   "outputs": [],
   "source": [
    "already_purchased.reset_index(drop = True, inplace = True)"
   ]
  },
  {
   "cell_type": "code",
   "execution_count": 16,
   "metadata": {},
   "outputs": [],
   "source": [
    "# Finalisation de la liste.\n",
    "\n",
    "repurchase_lists = already_purchased.groupby('customer_id', as_index = False, sort = False).agg(\n",
    "    list = ('article_id', lambda x: list(x))\n",
    ")\n",
    "\n",
    "repurchase_lists['list'] = repurchase_lists['list'].apply(lambda x: x[0:101])\n",
    "\n",
    "repurchase_lists.to_pickle('pickles/already_purchased_list.pkl')"
   ]
  },
  {
   "cell_type": "code",
   "execution_count": 36,
   "metadata": {},
   "outputs": [],
   "source": [
    "# Création du fichier de soumission Kaggle.\n",
    "repurchase_lists['prediction'] = repurchase_lists['list'].apply(lambda x: ' '.join(x[0:12]))"
   ]
  },
  {
   "cell_type": "code",
   "execution_count": 37,
   "metadata": {},
   "outputs": [
    {
     "data": {
      "text/html": [
       "<div>\n",
       "<style scoped>\n",
       "    .dataframe tbody tr th:only-of-type {\n",
       "        vertical-align: middle;\n",
       "    }\n",
       "\n",
       "    .dataframe tbody tr th {\n",
       "        vertical-align: top;\n",
       "    }\n",
       "\n",
       "    .dataframe thead th {\n",
       "        text-align: right;\n",
       "    }\n",
       "</style>\n",
       "<table border=\"1\" class=\"dataframe\">\n",
       "  <thead>\n",
       "    <tr style=\"text-align: right;\">\n",
       "      <th></th>\n",
       "      <th>customer_id</th>\n",
       "      <th>prediction</th>\n",
       "    </tr>\n",
       "  </thead>\n",
       "  <tbody>\n",
       "    <tr>\n",
       "      <th>0</th>\n",
       "      <td>00000dbacae5abe5e23885899a1fa44253a17956c6d1c3...</td>\n",
       "      <td>0568601043 0795440001 0841260003 0859416011 08...</td>\n",
       "    </tr>\n",
       "    <tr>\n",
       "      <th>1</th>\n",
       "      <td>0000423b00ade91418cceaf3b26c6af3dd342b51fd051e...</td>\n",
       "      <td>0826211002 0351484002 0559630026 0599580055 05...</td>\n",
       "    </tr>\n",
       "    <tr>\n",
       "      <th>2</th>\n",
       "      <td>000058a12d5b43e67d225668fa1f8d618c13dc232df0ca...</td>\n",
       "      <td>0794321007 0750424014 0851400006 0852643001 08...</td>\n",
       "    </tr>\n",
       "    <tr>\n",
       "      <th>3</th>\n",
       "      <td>00005ca1c9ed5f5146b52ac8639a40ca9d57aeff4d1bd2...</td>\n",
       "      <td>0732413001 0742079001</td>\n",
       "    </tr>\n",
       "    <tr>\n",
       "      <th>4</th>\n",
       "      <td>00006413d8573cd20ed7128e53b7b13819fe5cfc2d801f...</td>\n",
       "      <td>0927530004 0896152002 0791587015 0730683050 08...</td>\n",
       "    </tr>\n",
       "  </tbody>\n",
       "</table>\n",
       "</div>"
      ],
      "text/plain": [
       "                                         customer_id  \\\n",
       "0  00000dbacae5abe5e23885899a1fa44253a17956c6d1c3...   \n",
       "1  0000423b00ade91418cceaf3b26c6af3dd342b51fd051e...   \n",
       "2  000058a12d5b43e67d225668fa1f8d618c13dc232df0ca...   \n",
       "3  00005ca1c9ed5f5146b52ac8639a40ca9d57aeff4d1bd2...   \n",
       "4  00006413d8573cd20ed7128e53b7b13819fe5cfc2d801f...   \n",
       "\n",
       "                                          prediction  \n",
       "0  0568601043 0795440001 0841260003 0859416011 08...  \n",
       "1  0826211002 0351484002 0559630026 0599580055 05...  \n",
       "2  0794321007 0750424014 0851400006 0852643001 08...  \n",
       "3                              0732413001 0742079001  \n",
       "4  0927530004 0896152002 0791587015 0730683050 08...  "
      ]
     },
     "execution_count": 37,
     "metadata": {},
     "output_type": "execute_result"
    }
   ],
   "source": [
    "customers = pd.read_pickle(\"pickles/customers_clean.pkl\")\n",
    "submission = customers[['customer_id']]\n",
    "submission = customers[['customer_id']].merge(repurchase_lists[['customer_id', 'prediction']], on  = \"customer_id\", how = 'left').fillna(\"\")\n",
    "submission.head()"
   ]
  },
  {
   "cell_type": "code",
   "execution_count": 38,
   "metadata": {},
   "outputs": [],
   "source": [
    "submission.to_csv('submissions/submission_already_purchased.csv', index = False)"
   ]
  },
  {
   "cell_type": "markdown",
   "metadata": {},
   "source": [
    "**Score MAP@12 de la soumission Kaggle : 0.01920**"
   ]
  },
  {
   "cell_type": "code",
   "execution_count": null,
   "metadata": {},
   "outputs": [],
   "source": []
  }
 ],
 "metadata": {
  "interpreter": {
   "hash": "556b15acb71fbccb0059bce8ff607ae84b982497bd2dd0381fcb515435bd8f90"
  },
  "kernelspec": {
   "display_name": "Python 3.9.7 ('base')",
   "language": "python",
   "name": "python3"
  },
  "language_info": {
   "codemirror_mode": {
    "name": "ipython",
    "version": 3
   },
   "file_extension": ".py",
   "mimetype": "text/x-python",
   "name": "python",
   "nbconvert_exporter": "python",
   "pygments_lexer": "ipython3",
   "version": "3.9.7"
  },
  "orig_nbformat": 4
 },
 "nbformat": 4,
 "nbformat_minor": 2
}
