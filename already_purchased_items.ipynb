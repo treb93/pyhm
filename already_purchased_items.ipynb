{
 "cells": [
  {
   "cell_type": "code",
   "execution_count": 10,
   "metadata": {},
   "outputs": [],
   "source": [
    "import pandas as pd\n",
    "import numpy as np\n",
    "import matplotlib.pyplot as plt\n",
    "%matplotlib inline\n"
   ]
  },
  {
   "cell_type": "code",
   "execution_count": 11,
   "metadata": {},
   "outputs": [],
   "source": [
    "# Import des transactions\n",
    "transactions = pd.read_pickle('pickles/transactions.pkl')\n",
    "transactions = transactions[transactions['week_number'] < 54]"
   ]
  },
  {
   "cell_type": "code",
   "execution_count": 12,
   "metadata": {},
   "outputs": [],
   "source": [
    "already_purchased = transactions.groupby(['customer_id', 'article_id'], as_index = False).agg(\n",
    "    last_week = ('week_number', 'min'),\n",
    "    week_list = ('week_number', lambda x: list(x)),\n",
    "    count = ('article_id', 'count')\n",
    ")\n",
    "\n",
    "already_purchased = already_purchased[already_purchased['count'] > 1]"
   ]
  },
  {
   "cell_type": "code",
   "execution_count": 13,
   "metadata": {},
   "outputs": [],
   "source": [
    "intervals = []\n",
    "\n",
    "def append_interval(week_list):\n",
    "    end = len(week_list)\n",
    "    \n",
    "    for i in range(0, end):\n",
    "        for j in range(i + 1, end):\n",
    "            interval = week_list[i] - week_list[j]\n",
    "            \n",
    "            intervals.append(interval)\n",
    "\n",
    "blank = already_purchased.week_list.apply(append_interval)"
   ]
  },
  {
   "cell_type": "code",
   "execution_count": 16,
   "metadata": {},
   "outputs": [
    {
     "data": {
      "image/png": "[encoded data removed]",
      "text/plain": [
       "<Figure size 432x288 with 1 Axes>"
      ]
     },
     "metadata": {
      "needs_background": "light"
     },
     "output_type": "display_data"
    }
   ],
   "source": [
    "plt.figure()\n",
    "plt.hist(intervals, bins = 50)\n",
    "plt.xlabel(\"Nombre de semaines\")\n",
    "plt.ylabel(\"Nombre de rachats\")\n",
    "plt.title(\"Intervalles entre deux rachats d'un même article\")\n",
    "plt.show()"
   ]
  },
  {
   "cell_type": "code",
   "execution_count": 15,
   "metadata": {},
   "outputs": [
    {
     "data": {
      "text/plain": [
       "0    0.372514\n",
       "1    0.250935\n",
       "2    0.086008\n",
       "3    0.046487\n",
       "4    0.031989\n",
       "5    0.023936\n",
       "6    0.019021\n",
       "7    0.015860\n",
       "8    0.014003\n",
       "9    0.012767\n",
       "dtype: float64"
      ]
     },
     "execution_count": 15,
     "metadata": {},
     "output_type": "execute_result"
    }
   ],
   "source": [
    "intervals_distribution = pd.Series(intervals).value_counts(normalize=True)\n",
    "intervals_distribution.head(10)"
   ]
  },
  {
   "cell_type": "markdown",
   "metadata": {},
   "source": [
    "Observations : \n",
    "- 62% des rachats d'un même article se font dans les deux semaines.\n",
    "- passé la quatrième semaine, la probabilité de rachat d'un même article diminue très fortement."
   ]
  },
  {
   "cell_type": "code",
   "execution_count": 17,
   "metadata": {},
   "outputs": [],
   "source": [
    "# Ajout des données client et produit\n",
    "customers = pd.read_pickle('pickles/customers_second_iteration.pkl')\n",
    "customers = customers[['customer_id', 'repurchases', 'repurchases_interval']]"
   ]
  },
  {
   "cell_type": "code",
   "execution_count": 18,
   "metadata": {},
   "outputs": [],
   "source": [
    "articles = pd.read_pickle('pickles/articles_second_iteration.pkl')\n",
    "articles = articles[['article_id', 'repurchases', 'repurchase_interval']]"
   ]
  },
  {
   "cell_type": "code",
   "execution_count": 19,
   "metadata": {},
   "outputs": [],
   "source": [
    "already_purchased = already_purchased.merge(customers, on = 'customer_id', how = 'left')"
   ]
  },
  {
   "cell_type": "code",
   "execution_count": 20,
   "metadata": {},
   "outputs": [],
   "source": [
    "already_purchased = already_purchased.merge(articles, on = 'article_id', how = 'left', suffixes = ('_customer', '_article'))"
   ]
  },
  {
   "cell_type": "code",
   "execution_count": 21,
   "metadata": {},
   "outputs": [],
   "source": [
    "already_purchased['mean_interval'] = (already_purchased['repurchases_interval'] + already_purchased['repurchase_interval']) / 2"
   ]
  },
  {
   "cell_type": "code",
   "execution_count": 22,
   "metadata": {},
   "outputs": [],
   "source": [
    "already_purchased['score'] = already_purchased['repurchases_article'] * already_purchased['repurchases_customer']\n"
   ]
  },
  {
   "cell_type": "code",
   "execution_count": 23,
   "metadata": {},
   "outputs": [],
   "source": [
    "already_purchased['interval_weighted'] =  already_purchased['last_week'] / already_purchased['mean_interval']\n",
    "already_purchased = already_purchased[already_purchased['interval_weighted'] <= 50]"
   ]
  },
  {
   "cell_type": "code",
   "execution_count": 24,
   "metadata": {},
   "outputs": [],
   "source": [
    "already_purchased['score'] *= already_purchased['interval_weighted'].apply(lambda x: \n",
    "    intervals_distribution.loc[round(x)]\n",
    ")"
   ]
  },
  {
   "cell_type": "code",
   "execution_count": 25,
   "metadata": {},
   "outputs": [],
   "source": [
    "already_purchased = already_purchased[['customer_id', 'article_id', 'score']].sort_values(['customer_id', 'score'], ascending = False)"
   ]
  },
  {
   "cell_type": "code",
   "execution_count": 26,
   "metadata": {},
   "outputs": [],
   "source": [
    "already_purchased.reset_index(drop = True, inplace = True)"
   ]
  },
  {
   "cell_type": "code",
   "execution_count": 27,
   "metadata": {},
   "outputs": [
    {
     "data": {
      "text/html": [
       "<div>\n",
       "<style scoped>\n",
       "    .dataframe tbody tr th:only-of-type {\n",
       "        vertical-align: middle;\n",
       "    }\n",
       "\n",
       "    .dataframe tbody tr th {\n",
       "        vertical-align: top;\n",
       "    }\n",
       "\n",
       "    .dataframe thead th {\n",
       "        text-align: right;\n",
       "    }\n",
       "</style>\n",
       "<table border=\"1\" class=\"dataframe\">\n",
       "  <thead>\n",
       "    <tr style=\"text-align: right;\">\n",
       "      <th></th>\n",
       "      <th>customer_id</th>\n",
       "      <th>article_id</th>\n",
       "      <th>score</th>\n",
       "    </tr>\n",
       "  </thead>\n",
       "  <tbody>\n",
       "    <tr>\n",
       "      <th>0</th>\n",
       "      <td>ffffd7744cebcf3aca44ae7049d2a94b87074c3d4ffe38...</td>\n",
       "      <td>0866755002</td>\n",
       "      <td>0.000430</td>\n",
       "    </tr>\n",
       "    <tr>\n",
       "      <th>1</th>\n",
       "      <td>ffffcd5046a6143d29a04fb8c424ce494a76e5cdf4fab5...</td>\n",
       "      <td>0663568009</td>\n",
       "      <td>0.001645</td>\n",
       "    </tr>\n",
       "    <tr>\n",
       "      <th>2</th>\n",
       "      <td>ffffcd5046a6143d29a04fb8c424ce494a76e5cdf4fab5...</td>\n",
       "      <td>0877009001</td>\n",
       "      <td>0.000311</td>\n",
       "    </tr>\n",
       "    <tr>\n",
       "      <th>3</th>\n",
       "      <td>ffffbbf78b6eaac697a8a5dfbfd2bfa8113ee5b403e474...</td>\n",
       "      <td>0557599022</td>\n",
       "      <td>0.078538</td>\n",
       "    </tr>\n",
       "    <tr>\n",
       "      <th>4</th>\n",
       "      <td>ffffbbf78b6eaac697a8a5dfbfd2bfa8113ee5b403e474...</td>\n",
       "      <td>0713997002</td>\n",
       "      <td>0.012731</td>\n",
       "    </tr>\n",
       "    <tr>\n",
       "      <th>...</th>\n",
       "      <td>...</td>\n",
       "      <td>...</td>\n",
       "      <td>...</td>\n",
       "    </tr>\n",
       "    <tr>\n",
       "      <th>541544</th>\n",
       "      <td>00009d946eec3ea54add5ba56d5210ea898def4b46c685...</td>\n",
       "      <td>0693242018</td>\n",
       "      <td>0.004934</td>\n",
       "    </tr>\n",
       "    <tr>\n",
       "      <th>541545</th>\n",
       "      <td>00006413d8573cd20ed7128e53b7b13819fe5cfc2d801f...</td>\n",
       "      <td>0399061015</td>\n",
       "      <td>0.000398</td>\n",
       "    </tr>\n",
       "    <tr>\n",
       "      <th>541546</th>\n",
       "      <td>0000423b00ade91418cceaf3b26c6af3dd342b51fd051e...</td>\n",
       "      <td>0590928022</td>\n",
       "      <td>0.014261</td>\n",
       "    </tr>\n",
       "    <tr>\n",
       "      <th>541547</th>\n",
       "      <td>0000423b00ade91418cceaf3b26c6af3dd342b51fd051e...</td>\n",
       "      <td>0599580049</td>\n",
       "      <td>0.009479</td>\n",
       "    </tr>\n",
       "    <tr>\n",
       "      <th>541548</th>\n",
       "      <td>0000423b00ade91418cceaf3b26c6af3dd342b51fd051e...</td>\n",
       "      <td>0800436010</td>\n",
       "      <td>0.005522</td>\n",
       "    </tr>\n",
       "  </tbody>\n",
       "</table>\n",
       "<p>541549 rows × 3 columns</p>\n",
       "</div>"
      ],
      "text/plain": [
       "                                              customer_id  article_id  \\\n",
       "0       ffffd7744cebcf3aca44ae7049d2a94b87074c3d4ffe38...  0866755002   \n",
       "1       ffffcd5046a6143d29a04fb8c424ce494a76e5cdf4fab5...  0663568009   \n",
       "2       ffffcd5046a6143d29a04fb8c424ce494a76e5cdf4fab5...  0877009001   \n",
       "3       ffffbbf78b6eaac697a8a5dfbfd2bfa8113ee5b403e474...  0557599022   \n",
       "4       ffffbbf78b6eaac697a8a5dfbfd2bfa8113ee5b403e474...  0713997002   \n",
       "...                                                   ...         ...   \n",
       "541544  00009d946eec3ea54add5ba56d5210ea898def4b46c685...  0693242018   \n",
       "541545  00006413d8573cd20ed7128e53b7b13819fe5cfc2d801f...  0399061015   \n",
       "541546  0000423b00ade91418cceaf3b26c6af3dd342b51fd051e...  0590928022   \n",
       "541547  0000423b00ade91418cceaf3b26c6af3dd342b51fd051e...  0599580049   \n",
       "541548  0000423b00ade91418cceaf3b26c6af3dd342b51fd051e...  0800436010   \n",
       "\n",
       "           score  \n",
       "0       0.000430  \n",
       "1       0.001645  \n",
       "2       0.000311  \n",
       "3       0.078538  \n",
       "4       0.012731  \n",
       "...          ...  \n",
       "541544  0.004934  \n",
       "541545  0.000398  \n",
       "541546  0.014261  \n",
       "541547  0.009479  \n",
       "541548  0.005522  \n",
       "\n",
       "[541549 rows x 3 columns]"
      ]
     },
     "execution_count": 27,
     "metadata": {},
     "output_type": "execute_result"
    }
   ],
   "source": [
    "already_purchased"
   ]
  },
  {
   "cell_type": "code",
   "execution_count": 28,
   "metadata": {},
   "outputs": [],
   "source": [
    "repurchase_lists = already_purchased.groupby('customer_id', as_index = False, sort = False).agg(\n",
    "    list = ('article_id', lambda x: list(x))\n",
    ")"
   ]
  },
  {
   "cell_type": "code",
   "execution_count": 30,
   "metadata": {},
   "outputs": [],
   "source": [
    "repurchase_lists['list'] = repurchase_lists['list'].apply(lambda x: x[0:11])"
   ]
  },
  {
   "cell_type": "code",
   "execution_count": 31,
   "metadata": {},
   "outputs": [],
   "source": [
    "repurchase_lists.to_pickle('pickles/already_purchased_list.pkl')"
   ]
  },
  {
   "cell_type": "code",
   "execution_count": 32,
   "metadata": {},
   "outputs": [
    {
     "data": {
      "text/html": [
       "<div>\n",
       "<style scoped>\n",
       "    .dataframe tbody tr th:only-of-type {\n",
       "        vertical-align: middle;\n",
       "    }\n",
       "\n",
       "    .dataframe tbody tr th {\n",
       "        vertical-align: top;\n",
       "    }\n",
       "\n",
       "    .dataframe thead th {\n",
       "        text-align: right;\n",
       "    }\n",
       "</style>\n",
       "<table border=\"1\" class=\"dataframe\">\n",
       "  <thead>\n",
       "    <tr style=\"text-align: right;\">\n",
       "      <th></th>\n",
       "      <th>customer_id</th>\n",
       "      <th>list</th>\n",
       "    </tr>\n",
       "  </thead>\n",
       "  <tbody>\n",
       "    <tr>\n",
       "      <th>0</th>\n",
       "      <td>ffffd7744cebcf3aca44ae7049d2a94b87074c3d4ffe38...</td>\n",
       "      <td>[0866755002]</td>\n",
       "    </tr>\n",
       "    <tr>\n",
       "      <th>1</th>\n",
       "      <td>ffffcd5046a6143d29a04fb8c424ce494a76e5cdf4fab5...</td>\n",
       "      <td>[0663568009, 0877009001]</td>\n",
       "    </tr>\n",
       "    <tr>\n",
       "      <th>2</th>\n",
       "      <td>ffffbbf78b6eaac697a8a5dfbfd2bfa8113ee5b403e474...</td>\n",
       "      <td>[0557599022, 0713997002]</td>\n",
       "    </tr>\n",
       "    <tr>\n",
       "      <th>3</th>\n",
       "      <td>ffff61677073258d461e043cc9ed4ed97be5617a920640...</td>\n",
       "      <td>[0723167001]</td>\n",
       "    </tr>\n",
       "    <tr>\n",
       "      <th>4</th>\n",
       "      <td>ffff12aa623c69eae8959d673f1f12ad0194ad760d77fd...</td>\n",
       "      <td>[0399256001]</td>\n",
       "    </tr>\n",
       "    <tr>\n",
       "      <th>...</th>\n",
       "      <td>...</td>\n",
       "      <td>...</td>\n",
       "    </tr>\n",
       "    <tr>\n",
       "      <th>226834</th>\n",
       "      <td>0001177027259b455f979d85a278e4b280205d4de5cce4...</td>\n",
       "      <td>[0811715001]</td>\n",
       "    </tr>\n",
       "    <tr>\n",
       "      <th>226835</th>\n",
       "      <td>0000f1c71aafe5963c3d195cf273f7bfd50bbf17761c91...</td>\n",
       "      <td>[0917434002]</td>\n",
       "    </tr>\n",
       "    <tr>\n",
       "      <th>226836</th>\n",
       "      <td>00009d946eec3ea54add5ba56d5210ea898def4b46c685...</td>\n",
       "      <td>[0706016001, 0797892001, 0730863038, 056224509...</td>\n",
       "    </tr>\n",
       "    <tr>\n",
       "      <th>226837</th>\n",
       "      <td>00006413d8573cd20ed7128e53b7b13819fe5cfc2d801f...</td>\n",
       "      <td>[0399061015]</td>\n",
       "    </tr>\n",
       "    <tr>\n",
       "      <th>226838</th>\n",
       "      <td>0000423b00ade91418cceaf3b26c6af3dd342b51fd051e...</td>\n",
       "      <td>[0590928022, 0599580049, 0800436010]</td>\n",
       "    </tr>\n",
       "  </tbody>\n",
       "</table>\n",
       "<p>226839 rows × 2 columns</p>\n",
       "</div>"
      ],
      "text/plain": [
       "                                              customer_id  \\\n",
       "0       ffffd7744cebcf3aca44ae7049d2a94b87074c3d4ffe38...   \n",
       "1       ffffcd5046a6143d29a04fb8c424ce494a76e5cdf4fab5...   \n",
       "2       ffffbbf78b6eaac697a8a5dfbfd2bfa8113ee5b403e474...   \n",
       "3       ffff61677073258d461e043cc9ed4ed97be5617a920640...   \n",
       "4       ffff12aa623c69eae8959d673f1f12ad0194ad760d77fd...   \n",
       "...                                                   ...   \n",
       "226834  0001177027259b455f979d85a278e4b280205d4de5cce4...   \n",
       "226835  0000f1c71aafe5963c3d195cf273f7bfd50bbf17761c91...   \n",
       "226836  00009d946eec3ea54add5ba56d5210ea898def4b46c685...   \n",
       "226837  00006413d8573cd20ed7128e53b7b13819fe5cfc2d801f...   \n",
       "226838  0000423b00ade91418cceaf3b26c6af3dd342b51fd051e...   \n",
       "\n",
       "                                                     list  \n",
       "0                                            [0866755002]  \n",
       "1                                [0663568009, 0877009001]  \n",
       "2                                [0557599022, 0713997002]  \n",
       "3                                            [0723167001]  \n",
       "4                                            [0399256001]  \n",
       "...                                                   ...  \n",
       "226834                                       [0811715001]  \n",
       "226835                                       [0917434002]  \n",
       "226836  [0706016001, 0797892001, 0730863038, 056224509...  \n",
       "226837                                       [0399061015]  \n",
       "226838               [0590928022, 0599580049, 0800436010]  \n",
       "\n",
       "[226839 rows x 2 columns]"
      ]
     },
     "execution_count": 32,
     "metadata": {},
     "output_type": "execute_result"
    }
   ],
   "source": [
    "repurchase_lists"
   ]
  },
  {
   "cell_type": "code",
   "execution_count": 33,
   "metadata": {},
   "outputs": [
    {
     "data": {
      "text/plain": [
       "count    226839.000000\n",
       "mean          2.272087\n",
       "std           2.102758\n",
       "min           1.000000\n",
       "25%           1.000000\n",
       "50%           1.000000\n",
       "75%           3.000000\n",
       "max          11.000000\n",
       "Name: list, dtype: float64"
      ]
     },
     "execution_count": 33,
     "metadata": {},
     "output_type": "execute_result"
    }
   ],
   "source": [
    "repurchase_lists['list'].apply(lambda x: len(x)).describe()"
   ]
  },
  {
   "cell_type": "code",
   "execution_count": null,
   "metadata": {},
   "outputs": [],
   "source": []
  }
 ],
 "metadata": {
  "interpreter": {
   "hash": "556b15acb71fbccb0059bce8ff607ae84b982497bd2dd0381fcb515435bd8f90"
  },
  "kernelspec": {
   "display_name": "Python 3.9.7 ('base')",
   "language": "python",
   "name": "python3"
  },
  "language_info": {
   "codemirror_mode": {
    "name": "ipython",
    "version": 3
   },
   "file_extension": ".py",
   "mimetype": "text/x-python",
   "name": "python",
   "nbconvert_exporter": "python",
   "pygments_lexer": "ipython3",
   "version": "3.9.7"
  },
  "orig_nbformat": 4
 },
 "nbformat": 4,
 "nbformat_minor": 2
}
