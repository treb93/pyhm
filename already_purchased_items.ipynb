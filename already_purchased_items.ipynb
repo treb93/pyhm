{
 "cells": [
  {
   "cell_type": "code",
   "execution_count": null,
   "metadata": {},
   "outputs": [],
   "source": [
    "import pandas as pd\n",
    "import numpy as np\n"
   ]
  },
  {
   "cell_type": "code",
   "execution_count": null,
   "metadata": {},
   "outputs": [],
   "source": [
    "# Import des transactions\n",
    "transactions = pd.read_pickle('pickles/transactions.pkl')\n",
    "transactions = transactions[transactions['week_number'] < 54]"
   ]
  },
  {
   "cell_type": "code",
   "execution_count": null,
   "metadata": {},
   "outputs": [],
   "source": [
    "already_purchased = transactions.groupby(['customer_id', 'article_id'], as_index = False).agg(\n",
    "    week_list = ('week_number', lambda x: list(x))\n",
    ")"
   ]
  },
  {
   "cell_type": "code",
   "execution_count": null,
   "metadata": {},
   "outputs": [],
   "source": [
    "intervals = []\n",
    "\n",
    "def append_interval(week_list):\n",
    "    end = len(week_list)\n",
    "    \n",
    "    for i in range(0, end):\n",
    "        for j in range(i + 1, end):\n",
    "            interval = week_list[i] - week_list[j]\n",
    "            \n",
    "            intervals.append(interval)\n",
    "\n",
    "already_purchased.week_number.apply(append_interval)"
   ]
  },
  {
   "cell_type": "code",
   "execution_count": null,
   "metadata": {},
   "outputs": [],
   "source": []
  }
 ],
 "metadata": {
  "language_info": {
   "name": "python"
  },
  "orig_nbformat": 4
 },
 "nbformat": 4,
 "nbformat_minor": 2
}
