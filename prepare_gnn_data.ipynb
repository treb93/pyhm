{
 "cells": [
  {
   "cell_type": "code",
   "execution_count": 77,
   "metadata": {},
   "outputs": [],
   "source": [
    "import pandas as pd\n",
    "import numpy as np\n",
    "import pickle"
   ]
  },
  {
   "cell_type": "markdown",
   "metadata": {},
   "source": [
    "\n",
    "    Format de données : \n",
    "    CUSTOMER IDENTIFIER | SPECIFIC ITEM IDENTIFIER | GENERAL ITEM IDENTIFIER | hit_date | buy\n",
    "    \n",
    "    \n",
    "    Feats user : is_male , is_female\n",
    "    Feats article : is_junior, is_male, is_female, eco_design\n",
    "    \n",
    "    \n",
    "    Sports - user :  CUSTOMER IDENTIFIER | sport_id\n",
    "    \n",
    "    Sports - item :  SPECIFIC ITEM IDENTIFIER | sport_id\n",
    "    \n",
    "    Sports - Sports g : sports_id | sportsgroup_id\n",
    "    \n",
    "    Sports feats: osef\n",
    "    \n",
    "    Sports one hot : sport_id, \n",
    "    "
   ]
  },
  {
   "cell_type": "markdown",
   "metadata": {},
   "source": [
    "### Préparation des interactions Client - Article"
   ]
  },
  {
   "cell_type": "code",
   "execution_count": 79,
   "metadata": {},
   "outputs": [],
   "source": [
    "transactions = pd.read_pickle('pickles/transactions')"
   ]
  },
  {
   "cell_type": "code",
   "execution_count": 81,
   "metadata": {},
   "outputs": [
    {
     "data": {
      "text/html": [
       "<div>\n",
       "<style scoped>\n",
       "    .dataframe tbody tr th:only-of-type {\n",
       "        vertical-align: middle;\n",
       "    }\n",
       "\n",
       "    .dataframe tbody tr th {\n",
       "        vertical-align: top;\n",
       "    }\n",
       "\n",
       "    .dataframe thead th {\n",
       "        text-align: right;\n",
       "    }\n",
       "</style>\n",
       "<table border=\"1\" class=\"dataframe\">\n",
       "  <thead>\n",
       "    <tr style=\"text-align: right;\">\n",
       "      <th></th>\n",
       "      <th>customer_id</th>\n",
       "      <th>article_id</th>\n",
       "      <th>t_dat</th>\n",
       "      <th>price</th>\n",
       "      <th>sales_channel_id</th>\n",
       "      <th>quantity</th>\n",
       "      <th>day_of_week</th>\n",
       "      <th>day_of_year</th>\n",
       "    </tr>\n",
       "  </thead>\n",
       "  <tbody>\n",
       "    <tr>\n",
       "      <th>20523780</th>\n",
       "      <td>b6227fbf6968093cde31b5335a522c36827ed7cc715d01...</td>\n",
       "      <td>685687004</td>\n",
       "      <td>2018-09-20</td>\n",
       "      <td>0.016542</td>\n",
       "      <td>2</td>\n",
       "      <td>1</td>\n",
       "      <td>3</td>\n",
       "      <td>263</td>\n",
       "    </tr>\n",
       "    <tr>\n",
       "      <th>1594079</th>\n",
       "      <td>0e129e8643d295d3f00e0d57f55d7d8dff13b82592f590...</td>\n",
       "      <td>700828002</td>\n",
       "      <td>2018-09-20</td>\n",
       "      <td>0.050831</td>\n",
       "      <td>1</td>\n",
       "      <td>1</td>\n",
       "      <td>3</td>\n",
       "      <td>263</td>\n",
       "    </tr>\n",
       "    <tr>\n",
       "      <th>17533528</th>\n",
       "      <td>9b871e8d5636a7bad8c826012c7a2b1a04bc93d0075c6e...</td>\n",
       "      <td>685683001</td>\n",
       "      <td>2018-09-20</td>\n",
       "      <td>0.025407</td>\n",
       "      <td>1</td>\n",
       "      <td>1</td>\n",
       "      <td>3</td>\n",
       "      <td>263</td>\n",
       "    </tr>\n",
       "    <tr>\n",
       "      <th>4498464</th>\n",
       "      <td>27c273bffa5d3b2558627f2bb5d8de121e2530cd7e2f10...</td>\n",
       "      <td>541519024</td>\n",
       "      <td>2018-09-20</td>\n",
       "      <td>0.016932</td>\n",
       "      <td>1</td>\n",
       "      <td>1</td>\n",
       "      <td>3</td>\n",
       "      <td>263</td>\n",
       "    </tr>\n",
       "    <tr>\n",
       "      <th>23254377</th>\n",
       "      <td>ce698d3c10ec286f4aa65cee781ed8a9926eeb3fae330a...</td>\n",
       "      <td>565379023</td>\n",
       "      <td>2018-09-20</td>\n",
       "      <td>0.008458</td>\n",
       "      <td>1</td>\n",
       "      <td>1</td>\n",
       "      <td>3</td>\n",
       "      <td>263</td>\n",
       "    </tr>\n",
       "  </tbody>\n",
       "</table>\n",
       "</div>"
      ],
      "text/plain": [
       "                                                customer_id  article_id  \\\n",
       "20523780  b6227fbf6968093cde31b5335a522c36827ed7cc715d01...   685687004   \n",
       "1594079   0e129e8643d295d3f00e0d57f55d7d8dff13b82592f590...   700828002   \n",
       "17533528  9b871e8d5636a7bad8c826012c7a2b1a04bc93d0075c6e...   685683001   \n",
       "4498464   27c273bffa5d3b2558627f2bb5d8de121e2530cd7e2f10...   541519024   \n",
       "23254377  ce698d3c10ec286f4aa65cee781ed8a9926eeb3fae330a...   565379023   \n",
       "\n",
       "               t_dat     price  sales_channel_id  quantity  day_of_week  \\\n",
       "20523780  2018-09-20  0.016542                 2         1            3   \n",
       "1594079   2018-09-20  0.050831                 1         1            3   \n",
       "17533528  2018-09-20  0.025407                 1         1            3   \n",
       "4498464   2018-09-20  0.016932                 1         1            3   \n",
       "23254377  2018-09-20  0.008458                 1         1            3   \n",
       "\n",
       "          day_of_year  \n",
       "20523780          263  \n",
       "1594079           263  \n",
       "17533528          263  \n",
       "4498464           263  \n",
       "23254377          263  "
      ]
     },
     "execution_count": 81,
     "metadata": {},
     "output_type": "execute_result"
    }
   ],
   "source": [
    "transactions.head()"
   ]
  },
  {
   "cell_type": "code",
   "execution_count": 82,
   "metadata": {},
   "outputs": [
    {
     "data": {
      "text/html": [
       "<div>\n",
       "<style scoped>\n",
       "    .dataframe tbody tr th:only-of-type {\n",
       "        vertical-align: middle;\n",
       "    }\n",
       "\n",
       "    .dataframe tbody tr th {\n",
       "        vertical-align: top;\n",
       "    }\n",
       "\n",
       "    .dataframe thead th {\n",
       "        text-align: right;\n",
       "    }\n",
       "</style>\n",
       "<table border=\"1\" class=\"dataframe\">\n",
       "  <thead>\n",
       "    <tr style=\"text-align: right;\">\n",
       "      <th></th>\n",
       "      <th>customer_id</th>\n",
       "      <th>article_id</th>\n",
       "      <th>t_dat</th>\n",
       "      <th>price</th>\n",
       "      <th>sales_channel_id</th>\n",
       "      <th>quantity</th>\n",
       "      <th>day_of_week</th>\n",
       "      <th>day_of_year</th>\n",
       "    </tr>\n",
       "  </thead>\n",
       "  <tbody>\n",
       "    <tr>\n",
       "      <th>19456539</th>\n",
       "      <td>ac933df9b0f55286fc3f547759879edc3f83c2cd24fcd0...</td>\n",
       "      <td>880553002</td>\n",
       "      <td>2020-09-21</td>\n",
       "      <td>0.025407</td>\n",
       "      <td>2</td>\n",
       "      <td>2</td>\n",
       "      <td>0</td>\n",
       "      <td>265</td>\n",
       "    </tr>\n",
       "    <tr>\n",
       "      <th>23463746</th>\n",
       "      <td>d04c8253b51d97880d69dca07ab73eecc735f1ddfc811a...</td>\n",
       "      <td>839496002</td>\n",
       "      <td>2020-09-21</td>\n",
       "      <td>0.011847</td>\n",
       "      <td>2</td>\n",
       "      <td>1</td>\n",
       "      <td>0</td>\n",
       "      <td>265</td>\n",
       "    </tr>\n",
       "    <tr>\n",
       "      <th>19456541</th>\n",
       "      <td>ac933df9b0f55286fc3f547759879edc3f83c2cd24fcd0...</td>\n",
       "      <td>894757001</td>\n",
       "      <td>2020-09-21</td>\n",
       "      <td>0.030492</td>\n",
       "      <td>2</td>\n",
       "      <td>1</td>\n",
       "      <td>0</td>\n",
       "      <td>265</td>\n",
       "    </tr>\n",
       "    <tr>\n",
       "      <th>10184553</th>\n",
       "      <td>5a769171a2a9b5a13228ae5edb308c0ad81921cbdc233a...</td>\n",
       "      <td>677930037</td>\n",
       "      <td>2020-09-21</td>\n",
       "      <td>0.015237</td>\n",
       "      <td>2</td>\n",
       "      <td>1</td>\n",
       "      <td>0</td>\n",
       "      <td>265</td>\n",
       "    </tr>\n",
       "    <tr>\n",
       "      <th>19456544</th>\n",
       "      <td>ac933df9b0f55286fc3f547759879edc3f83c2cd24fcd0...</td>\n",
       "      <td>903910001</td>\n",
       "      <td>2020-09-21</td>\n",
       "      <td>0.084729</td>\n",
       "      <td>2</td>\n",
       "      <td>1</td>\n",
       "      <td>0</td>\n",
       "      <td>265</td>\n",
       "    </tr>\n",
       "  </tbody>\n",
       "</table>\n",
       "</div>"
      ],
      "text/plain": [
       "                                                customer_id  article_id  \\\n",
       "19456539  ac933df9b0f55286fc3f547759879edc3f83c2cd24fcd0...   880553002   \n",
       "23463746  d04c8253b51d97880d69dca07ab73eecc735f1ddfc811a...   839496002   \n",
       "19456541  ac933df9b0f55286fc3f547759879edc3f83c2cd24fcd0...   894757001   \n",
       "10184553  5a769171a2a9b5a13228ae5edb308c0ad81921cbdc233a...   677930037   \n",
       "19456544  ac933df9b0f55286fc3f547759879edc3f83c2cd24fcd0...   903910001   \n",
       "\n",
       "               t_dat     price  sales_channel_id  quantity  day_of_week  \\\n",
       "19456539  2020-09-21  0.025407                 2         2            0   \n",
       "23463746  2020-09-21  0.011847                 2         1            0   \n",
       "19456541  2020-09-21  0.030492                 2         1            0   \n",
       "10184553  2020-09-21  0.015237                 2         1            0   \n",
       "19456544  2020-09-21  0.084729                 2         1            0   \n",
       "\n",
       "          day_of_year  \n",
       "19456539          265  \n",
       "23463746          265  \n",
       "19456541          265  \n",
       "10184553          265  \n",
       "19456544          265  "
      ]
     },
     "execution_count": 82,
     "metadata": {},
     "output_type": "execute_result"
    }
   ],
   "source": [
    "transactions_sampled = transactions.tail(50000)\n",
    "transactions_sampled.head()"
   ]
  },
  {
   "cell_type": "code",
   "execution_count": 83,
   "metadata": {},
   "outputs": [],
   "source": [
    "transactions_sampled = transactions_sampled[['customer_id', 'article_id', 't_dat']]"
   ]
  },
  {
   "cell_type": "code",
   "execution_count": 84,
   "metadata": {},
   "outputs": [],
   "source": [
    "transactions_sampled.rename({\n",
    "    'customer_id': 'CUSTOMER IDENTIFIER',\n",
    "    'article_id': 'SPECIFIC ITEM IDENTIFIER',\n",
    "    't_dat': 'hit_date'\n",
    "}, axis=1, inplace = True)"
   ]
  },
  {
   "cell_type": "code",
   "execution_count": 85,
   "metadata": {},
   "outputs": [],
   "source": [
    "transactions_sampled['buy'] = 1"
   ]
  },
  {
   "cell_type": "code",
   "execution_count": 86,
   "metadata": {},
   "outputs": [
    {
     "data": {
      "text/html": [
       "<div>\n",
       "<style scoped>\n",
       "    .dataframe tbody tr th:only-of-type {\n",
       "        vertical-align: middle;\n",
       "    }\n",
       "\n",
       "    .dataframe tbody tr th {\n",
       "        vertical-align: top;\n",
       "    }\n",
       "\n",
       "    .dataframe thead th {\n",
       "        text-align: right;\n",
       "    }\n",
       "</style>\n",
       "<table border=\"1\" class=\"dataframe\">\n",
       "  <thead>\n",
       "    <tr style=\"text-align: right;\">\n",
       "      <th></th>\n",
       "      <th>CUSTOMER IDENTIFIER</th>\n",
       "      <th>SPECIFIC ITEM IDENTIFIER</th>\n",
       "      <th>hit_date</th>\n",
       "      <th>buy</th>\n",
       "    </tr>\n",
       "  </thead>\n",
       "  <tbody>\n",
       "    <tr>\n",
       "      <th>19456539</th>\n",
       "      <td>ac933df9b0f55286fc3f547759879edc3f83c2cd24fcd0...</td>\n",
       "      <td>880553002</td>\n",
       "      <td>2020-09-21</td>\n",
       "      <td>1</td>\n",
       "    </tr>\n",
       "    <tr>\n",
       "      <th>23463746</th>\n",
       "      <td>d04c8253b51d97880d69dca07ab73eecc735f1ddfc811a...</td>\n",
       "      <td>839496002</td>\n",
       "      <td>2020-09-21</td>\n",
       "      <td>1</td>\n",
       "    </tr>\n",
       "    <tr>\n",
       "      <th>19456541</th>\n",
       "      <td>ac933df9b0f55286fc3f547759879edc3f83c2cd24fcd0...</td>\n",
       "      <td>894757001</td>\n",
       "      <td>2020-09-21</td>\n",
       "      <td>1</td>\n",
       "    </tr>\n",
       "    <tr>\n",
       "      <th>10184553</th>\n",
       "      <td>5a769171a2a9b5a13228ae5edb308c0ad81921cbdc233a...</td>\n",
       "      <td>677930037</td>\n",
       "      <td>2020-09-21</td>\n",
       "      <td>1</td>\n",
       "    </tr>\n",
       "    <tr>\n",
       "      <th>19456544</th>\n",
       "      <td>ac933df9b0f55286fc3f547759879edc3f83c2cd24fcd0...</td>\n",
       "      <td>903910001</td>\n",
       "      <td>2020-09-21</td>\n",
       "      <td>1</td>\n",
       "    </tr>\n",
       "  </tbody>\n",
       "</table>\n",
       "</div>"
      ],
      "text/plain": [
       "                                        CUSTOMER IDENTIFIER  \\\n",
       "19456539  ac933df9b0f55286fc3f547759879edc3f83c2cd24fcd0...   \n",
       "23463746  d04c8253b51d97880d69dca07ab73eecc735f1ddfc811a...   \n",
       "19456541  ac933df9b0f55286fc3f547759879edc3f83c2cd24fcd0...   \n",
       "10184553  5a769171a2a9b5a13228ae5edb308c0ad81921cbdc233a...   \n",
       "19456544  ac933df9b0f55286fc3f547759879edc3f83c2cd24fcd0...   \n",
       "\n",
       "          SPECIFIC ITEM IDENTIFIER    hit_date  buy  \n",
       "19456539                 880553002  2020-09-21    1  \n",
       "23463746                 839496002  2020-09-21    1  \n",
       "19456541                 894757001  2020-09-21    1  \n",
       "10184553                 677930037  2020-09-21    1  \n",
       "19456544                 903910001  2020-09-21    1  "
      ]
     },
     "execution_count": 86,
     "metadata": {},
     "output_type": "execute_result"
    }
   ],
   "source": [
    "transactions_sampled.head()"
   ]
  },
  {
   "cell_type": "code",
   "execution_count": 87,
   "metadata": {},
   "outputs": [],
   "source": [
    "transactions_sampled.to_pickle(\"pickles/gnn_user_item.pkl\")"
   ]
  },
  {
   "cell_type": "markdown",
   "metadata": {},
   "source": [
    "### Préparation des features client"
   ]
  },
  {
   "cell_type": "code",
   "execution_count": 88,
   "metadata": {},
   "outputs": [],
   "source": [
    "customers = pd.read_pickle('pickles/customers.pkl')"
   ]
  },
  {
   "cell_type": "code",
   "execution_count": 90,
   "metadata": {},
   "outputs": [],
   "source": [
    "# Rename columns.\n",
    "customers.rename({\n",
    "    \"customer_id\": 'CUSTOMER IDENTIFIER',\n",
    "    \"FN\": 'is_male',\n",
    "    \"fashion_news_frequency\": \"is_female\"\n",
    "}, axis = 1, inplace = True)"
   ]
  },
  {
   "cell_type": "code",
   "execution_count": 91,
   "metadata": {},
   "outputs": [],
   "source": [
    "# Selecting only customers that are mentionned in user_item DataFrame.\n",
    "user_items = pd.read_pickle(\"pickles/gnn_user_item.pkl\")\n",
    "user_ids = pd.Series(user_items['CUSTOMER IDENTIFIER'].unique())\n",
    "customers = customers.merge(user_ids.rename('CUSTOMER IDENTIFIER'), how = \"inner\", on = \"CUSTOMER IDENTIFIER\")"
   ]
  },
  {
   "cell_type": "code",
   "execution_count": 92,
   "metadata": {},
   "outputs": [],
   "source": [
    "customers = customers[['CUSTOMER IDENTIFIER', 'is_male', 'is_female']]"
   ]
  },
  {
   "cell_type": "code",
   "execution_count": 93,
   "metadata": {},
   "outputs": [],
   "source": [
    "customers['is_female'] = np.where(customers['is_female'] == 'Regularly', 1, 0) "
   ]
  },
  {
   "cell_type": "code",
   "execution_count": 94,
   "metadata": {},
   "outputs": [],
   "source": [
    "customers['is_male'] = customers['is_male'].astype(int)"
   ]
  },
  {
   "cell_type": "code",
   "execution_count": 96,
   "metadata": {},
   "outputs": [
    {
     "data": {
      "text/html": [
       "<div>\n",
       "<style scoped>\n",
       "    .dataframe tbody tr th:only-of-type {\n",
       "        vertical-align: middle;\n",
       "    }\n",
       "\n",
       "    .dataframe tbody tr th {\n",
       "        vertical-align: top;\n",
       "    }\n",
       "\n",
       "    .dataframe thead th {\n",
       "        text-align: right;\n",
       "    }\n",
       "</style>\n",
       "<table border=\"1\" class=\"dataframe\">\n",
       "  <thead>\n",
       "    <tr style=\"text-align: right;\">\n",
       "      <th></th>\n",
       "      <th>CUSTOMER IDENTIFIER</th>\n",
       "      <th>is_male</th>\n",
       "      <th>is_female</th>\n",
       "    </tr>\n",
       "  </thead>\n",
       "  <tbody>\n",
       "    <tr>\n",
       "      <th>0</th>\n",
       "      <td>0003e867a930d0d6842f923d6ba7c9b77aba33fe2a0fbf...</td>\n",
       "      <td>1</td>\n",
       "      <td>1</td>\n",
       "    </tr>\n",
       "    <tr>\n",
       "      <th>1</th>\n",
       "      <td>000525e3fe01600d717da8423643a8303390a055c578ed...</td>\n",
       "      <td>1</td>\n",
       "      <td>1</td>\n",
       "    </tr>\n",
       "    <tr>\n",
       "      <th>2</th>\n",
       "      <td>0010e8eb18f131e724d6997909af0808adbba057529edb...</td>\n",
       "      <td>1</td>\n",
       "      <td>1</td>\n",
       "    </tr>\n",
       "    <tr>\n",
       "      <th>3</th>\n",
       "      <td>001436e2c83cda28548dd668cfc7d621d70d2baf6f6cf0...</td>\n",
       "      <td>0</td>\n",
       "      <td>0</td>\n",
       "    </tr>\n",
       "    <tr>\n",
       "      <th>4</th>\n",
       "      <td>0026ebdd70715d8fa2befa14dfed317a1ffe5451aba839...</td>\n",
       "      <td>1</td>\n",
       "      <td>1</td>\n",
       "    </tr>\n",
       "  </tbody>\n",
       "</table>\n",
       "</div>"
      ],
      "text/plain": [
       "                                 CUSTOMER IDENTIFIER  is_male  is_female\n",
       "0  0003e867a930d0d6842f923d6ba7c9b77aba33fe2a0fbf...        1          1\n",
       "1  000525e3fe01600d717da8423643a8303390a055c578ed...        1          1\n",
       "2  0010e8eb18f131e724d6997909af0808adbba057529edb...        1          1\n",
       "3  001436e2c83cda28548dd668cfc7d621d70d2baf6f6cf0...        0          0\n",
       "4  0026ebdd70715d8fa2befa14dfed317a1ffe5451aba839...        1          1"
      ]
     },
     "execution_count": 96,
     "metadata": {},
     "output_type": "execute_result"
    }
   ],
   "source": [
    "customers.to_pickle(\"pickles/gnn_user_features.pkl\")\n",
    "customers.head()"
   ]
  },
  {
   "cell_type": "code",
   "execution_count": 100,
   "metadata": {},
   "outputs": [
    {
     "data": {
      "text/html": [
       "<div>\n",
       "<style scoped>\n",
       "    .dataframe tbody tr th:only-of-type {\n",
       "        vertical-align: middle;\n",
       "    }\n",
       "\n",
       "    .dataframe tbody tr th {\n",
       "        vertical-align: top;\n",
       "    }\n",
       "\n",
       "    .dataframe thead th {\n",
       "        text-align: right;\n",
       "    }\n",
       "</style>\n",
       "<table border=\"1\" class=\"dataframe\">\n",
       "  <thead>\n",
       "    <tr style=\"text-align: right;\">\n",
       "      <th></th>\n",
       "      <th>CUSTOMER IDENTIFIER</th>\n",
       "      <th>sport_id</th>\n",
       "    </tr>\n",
       "  </thead>\n",
       "  <tbody>\n",
       "  </tbody>\n",
       "</table>\n",
       "</div>"
      ],
      "text/plain": [
       "Empty DataFrame\n",
       "Columns: [CUSTOMER IDENTIFIER, sport_id]\n",
       "Index: []"
      ]
     },
     "execution_count": 100,
     "metadata": {},
     "output_type": "execute_result"
    }
   ],
   "source": [
    "customer_sports = pd.DataFrame(columns = ['CUSTOMER IDENTIFIER', 'sport_id'])\n",
    "customer_sports.to_pickle(\"pickles/gnn_user_sport.pkl\")\n",
    "customer_sports.head()"
   ]
  },
  {
   "cell_type": "markdown",
   "metadata": {},
   "source": [
    "### Préparation des features Article et des Catégories"
   ]
  },
  {
   "cell_type": "code",
   "execution_count": 120,
   "metadata": {},
   "outputs": [],
   "source": [
    "articles = pd.read_pickle('pickles/articles')"
   ]
  },
  {
   "cell_type": "code",
   "execution_count": 121,
   "metadata": {},
   "outputs": [],
   "source": [
    "articles.rename({\n",
    "    \"article_id\": 'SPECIFIC ITEM IDENTIFIER',\n",
    "}, axis = 1, inplace = True)"
   ]
  },
  {
   "cell_type": "code",
   "execution_count": 123,
   "metadata": {},
   "outputs": [],
   "source": [
    "user_items = pd.read_pickle(\"pickles/gnn_user_item.pkl\")\n",
    "item_ids = pd.Series(user_items['SPECIFIC ITEM IDENTIFIER'].unique()).rename('SPECIFIC ITEM IDENTIFIER')\n",
    "articles = articles.merge(item_ids, how = \"inner\", on = \"SPECIFIC ITEM IDENTIFIER\")"
   ]
  },
  {
   "cell_type": "code",
   "execution_count": 124,
   "metadata": {},
   "outputs": [],
   "source": [
    "articles['GENERAL ITEM IDENTIFIER'] = articles['product_code']"
   ]
  },
  {
   "cell_type": "code",
   "execution_count": 125,
   "metadata": {},
   "outputs": [],
   "source": [
    "articles[['index_group_no', 'index_group_name']].value_counts()\n",
    "articles['is_junior'] = np.where(articles['index_group_no'] == 4, 1, 0)\n",
    "articles['is_male'] = np.where(articles['index_group_no'] == 3, 1, 0)\n",
    "articles['is_female'] = np.where(articles['index_group_no'] == 1, 1, 0)\n",
    "articles['eco_design'] = np.where(articles['index_group_no'] == 2, 1, 0)"
   ]
  },
  {
   "cell_type": "code",
   "execution_count": 126,
   "metadata": {},
   "outputs": [
    {
     "data": {
      "text/html": [
       "<div>\n",
       "<style scoped>\n",
       "    .dataframe tbody tr th:only-of-type {\n",
       "        vertical-align: middle;\n",
       "    }\n",
       "\n",
       "    .dataframe tbody tr th {\n",
       "        vertical-align: top;\n",
       "    }\n",
       "\n",
       "    .dataframe thead th {\n",
       "        text-align: right;\n",
       "    }\n",
       "</style>\n",
       "<table border=\"1\" class=\"dataframe\">\n",
       "  <thead>\n",
       "    <tr style=\"text-align: right;\">\n",
       "      <th></th>\n",
       "      <th>SPECIFIC ITEM IDENTIFIER</th>\n",
       "      <th>GENERAL ITEM IDENTIFIER</th>\n",
       "      <th>is_junior</th>\n",
       "      <th>is_male</th>\n",
       "      <th>is_female</th>\n",
       "      <th>eco_design</th>\n",
       "    </tr>\n",
       "  </thead>\n",
       "  <tbody>\n",
       "    <tr>\n",
       "      <th>0</th>\n",
       "      <td>111565001</td>\n",
       "      <td>111565</td>\n",
       "      <td>0</td>\n",
       "      <td>0</td>\n",
       "      <td>1</td>\n",
       "      <td>0</td>\n",
       "    </tr>\n",
       "    <tr>\n",
       "      <th>1</th>\n",
       "      <td>111586001</td>\n",
       "      <td>111586</td>\n",
       "      <td>0</td>\n",
       "      <td>0</td>\n",
       "      <td>1</td>\n",
       "      <td>0</td>\n",
       "    </tr>\n",
       "    <tr>\n",
       "      <th>2</th>\n",
       "      <td>111593001</td>\n",
       "      <td>111593</td>\n",
       "      <td>0</td>\n",
       "      <td>0</td>\n",
       "      <td>1</td>\n",
       "      <td>0</td>\n",
       "    </tr>\n",
       "    <tr>\n",
       "      <th>3</th>\n",
       "      <td>111609001</td>\n",
       "      <td>111609</td>\n",
       "      <td>0</td>\n",
       "      <td>0</td>\n",
       "      <td>1</td>\n",
       "      <td>0</td>\n",
       "    </tr>\n",
       "    <tr>\n",
       "      <th>4</th>\n",
       "      <td>123173001</td>\n",
       "      <td>123173</td>\n",
       "      <td>0</td>\n",
       "      <td>0</td>\n",
       "      <td>1</td>\n",
       "      <td>0</td>\n",
       "    </tr>\n",
       "  </tbody>\n",
       "</table>\n",
       "</div>"
      ],
      "text/plain": [
       "   SPECIFIC ITEM IDENTIFIER  GENERAL ITEM IDENTIFIER  is_junior  is_male  \\\n",
       "0                 111565001                   111565          0        0   \n",
       "1                 111586001                   111586          0        0   \n",
       "2                 111593001                   111593          0        0   \n",
       "3                 111609001                   111609          0        0   \n",
       "4                 123173001                   123173          0        0   \n",
       "\n",
       "   is_female  eco_design  \n",
       "0          1           0  \n",
       "1          1           0  \n",
       "2          1           0  \n",
       "3          1           0  \n",
       "4          1           0  "
      ]
     },
     "execution_count": 126,
     "metadata": {},
     "output_type": "execute_result"
    }
   ],
   "source": [
    "item_feats = articles[['SPECIFIC ITEM IDENTIFIER', 'GENERAL ITEM IDENTIFIER', 'is_junior', 'is_male', 'is_female', 'eco_design']]\n",
    "item_feats.to_pickle(\"pickles/gnn_item_features.pkl\")\n",
    "item_feats.head()"
   ]
  },
  {
   "cell_type": "code",
   "execution_count": 127,
   "metadata": {},
   "outputs": [
    {
     "data": {
      "text/html": [
       "<div>\n",
       "<style scoped>\n",
       "    .dataframe tbody tr th:only-of-type {\n",
       "        vertical-align: middle;\n",
       "    }\n",
       "\n",
       "    .dataframe tbody tr th {\n",
       "        vertical-align: top;\n",
       "    }\n",
       "\n",
       "    .dataframe thead th {\n",
       "        text-align: right;\n",
       "    }\n",
       "</style>\n",
       "<table border=\"1\" class=\"dataframe\">\n",
       "  <thead>\n",
       "    <tr style=\"text-align: right;\">\n",
       "      <th></th>\n",
       "      <th>sports_id</th>\n",
       "      <th>sportsgroup_id</th>\n",
       "    </tr>\n",
       "  </thead>\n",
       "  <tbody>\n",
       "    <tr>\n",
       "      <th>0</th>\n",
       "      <td>-1</td>\n",
       "      <td>14</td>\n",
       "    </tr>\n",
       "    <tr>\n",
       "      <th>1</th>\n",
       "      <td>49</td>\n",
       "      <td>13</td>\n",
       "    </tr>\n",
       "    <tr>\n",
       "      <th>2</th>\n",
       "      <td>57</td>\n",
       "      <td>11</td>\n",
       "    </tr>\n",
       "    <tr>\n",
       "      <th>3</th>\n",
       "      <td>59</td>\n",
       "      <td>11</td>\n",
       "    </tr>\n",
       "    <tr>\n",
       "      <th>4</th>\n",
       "      <td>66</td>\n",
       "      <td>0</td>\n",
       "    </tr>\n",
       "  </tbody>\n",
       "</table>\n",
       "</div>"
      ],
      "text/plain": [
       "   sports_id  sportsgroup_id\n",
       "0         -1              14\n",
       "1         49              13\n",
       "2         57              11\n",
       "3         59              11\n",
       "4         66               0"
      ]
     },
     "execution_count": 127,
     "metadata": {},
     "output_type": "execute_result"
    }
   ],
   "source": [
    "# Extraction des catégories\n",
    "categories_group = articles[['product_type_no', 'product_group_name']].groupby(\"product_type_no\",  as_index=False).agg({'product_group_name': 'first'})\n",
    "\n",
    "categories_group.rename({\n",
    "    'product_type_no': 'sports_id',\n",
    "    'product_group_name': 'sportsgroup_id'\n",
    "}, axis =1, inplace = True)\n",
    "categories_group.head()\n",
    "\n",
    "from sklearn.preprocessing import LabelEncoder\n",
    "\n",
    "# Encodage du groupe\n",
    "categories_group['sportsgroup_id'] = LabelEncoder().fit_transform(categories_group['sportsgroup_id'])\n",
    "\n",
    "categories_group.to_pickle(\"pickles/gnn_sport_groups.pkl\")\n",
    "categories_group.head()"
   ]
  },
  {
   "cell_type": "code",
   "execution_count": 130,
   "metadata": {},
   "outputs": [
    {
     "data": {
      "text/html": [
       "<div>\n",
       "<style scoped>\n",
       "    .dataframe tbody tr th:only-of-type {\n",
       "        vertical-align: middle;\n",
       "    }\n",
       "\n",
       "    .dataframe tbody tr th {\n",
       "        vertical-align: top;\n",
       "    }\n",
       "\n",
       "    .dataframe thead th {\n",
       "        text-align: right;\n",
       "    }\n",
       "</style>\n",
       "<table border=\"1\" class=\"dataframe\">\n",
       "  <thead>\n",
       "    <tr style=\"text-align: right;\">\n",
       "      <th></th>\n",
       "      <th>sports_id</th>\n",
       "      <th>sportsgroup_id</th>\n",
       "    </tr>\n",
       "  </thead>\n",
       "  <tbody>\n",
       "  </tbody>\n",
       "</table>\n",
       "</div>"
      ],
      "text/plain": [
       "Empty DataFrame\n",
       "Columns: [sports_id, sportsgroup_id]\n",
       "Index: []"
      ]
     },
     "execution_count": 130,
     "metadata": {},
     "output_type": "execute_result"
    }
   ],
   "source": [
    "categories_group = pd.DataFrame(columns = ['sports_id', 'sportsgroup_id'])\n",
    "categories_group.to_pickle(\"pickles/gnn_sport_groups.pkl\")\n",
    "categories_group.head()"
   ]
  },
  {
   "cell_type": "code",
   "execution_count": 108,
   "metadata": {},
   "outputs": [
    {
     "name": "stderr",
     "output_type": "stream",
     "text": [
      "/home/treb/anaconda3/lib/python3.9/site-packages/pandas/core/frame.py:5039: SettingWithCopyWarning: \n",
      "A value is trying to be set on a copy of a slice from a DataFrame\n",
      "\n",
      "See the caveats in the documentation: https://pandas.pydata.org/pandas-docs/stable/user_guide/indexing.html#returning-a-view-versus-a-copy\n",
      "  return super().rename(\n"
     ]
    },
    {
     "data": {
      "text/html": [
       "<div>\n",
       "<style scoped>\n",
       "    .dataframe tbody tr th:only-of-type {\n",
       "        vertical-align: middle;\n",
       "    }\n",
       "\n",
       "    .dataframe tbody tr th {\n",
       "        vertical-align: top;\n",
       "    }\n",
       "\n",
       "    .dataframe thead th {\n",
       "        text-align: right;\n",
       "    }\n",
       "</style>\n",
       "<table border=\"1\" class=\"dataframe\">\n",
       "  <thead>\n",
       "    <tr style=\"text-align: right;\">\n",
       "      <th></th>\n",
       "      <th>sport_id</th>\n",
       "      <th>SPECIFIC ITEM IDENTIFIER</th>\n",
       "    </tr>\n",
       "  </thead>\n",
       "  <tbody>\n",
       "    <tr>\n",
       "      <th>0</th>\n",
       "      <td>304</td>\n",
       "      <td>111565001</td>\n",
       "    </tr>\n",
       "    <tr>\n",
       "      <th>1</th>\n",
       "      <td>273</td>\n",
       "      <td>111586001</td>\n",
       "    </tr>\n",
       "    <tr>\n",
       "      <th>2</th>\n",
       "      <td>304</td>\n",
       "      <td>111593001</td>\n",
       "    </tr>\n",
       "    <tr>\n",
       "      <th>3</th>\n",
       "      <td>304</td>\n",
       "      <td>111609001</td>\n",
       "    </tr>\n",
       "    <tr>\n",
       "      <th>4</th>\n",
       "      <td>273</td>\n",
       "      <td>123173001</td>\n",
       "    </tr>\n",
       "  </tbody>\n",
       "</table>\n",
       "</div>"
      ],
      "text/plain": [
       "   sport_id  SPECIFIC ITEM IDENTIFIER\n",
       "0       304                 111565001\n",
       "1       273                 111586001\n",
       "2       304                 111593001\n",
       "3       304                 111609001\n",
       "4       273                 123173001"
      ]
     },
     "execution_count": 108,
     "metadata": {},
     "output_type": "execute_result"
    }
   ],
   "source": [
    "item_categories = articles[['product_type_no', 'SPECIFIC ITEM IDENTIFIER']]\n",
    "item_categories.rename({\n",
    "    'product_type_no': 'sport_id',\n",
    "}, axis =1, inplace = True)\n",
    "\n",
    "item_categories.to_pickle(\"pickles/gnn_item_sport.pkl\")\n",
    "item_categories.head()"
   ]
  },
  {
   "cell_type": "code",
   "execution_count": 113,
   "metadata": {},
   "outputs": [],
   "source": [
    "sports_ids = pd.Series(item_categories['sport_id'].unique())\n",
    "sports = pd.get_dummies(sports_ids)\n",
    "sports['sport_id'] = sports_ids\n",
    "\n",
    "sports.to_pickle(\"pickles/gnn_sports.pkl\")"
   ]
  },
  {
   "cell_type": "code",
   "execution_count": 115,
   "metadata": {},
   "outputs": [
    {
     "data": {
      "text/plain": [
       "(103, 104)"
      ]
     },
     "execution_count": 115,
     "metadata": {},
     "output_type": "execute_result"
    }
   ],
   "source": [
    "sports.shape"
   ]
  },
  {
   "cell_type": "code",
   "execution_count": 117,
   "metadata": {},
   "outputs": [
    {
     "data": {
      "text/plain": [
       "(103,)"
      ]
     },
     "execution_count": 117,
     "metadata": {},
     "output_type": "execute_result"
    }
   ],
   "source": [
    "item_categories['sport_id'].value_counts().shape"
   ]
  },
  {
   "cell_type": "code",
   "execution_count": 119,
   "metadata": {},
   "outputs": [
    {
     "data": {
      "text/plain": [
       "(103,)"
      ]
     },
     "execution_count": 119,
     "metadata": {},
     "output_type": "execute_result"
    }
   ],
   "source": []
  },
  {
   "cell_type": "code",
   "execution_count": null,
   "metadata": {},
   "outputs": [],
   "source": []
  }
 ],
 "metadata": {
  "interpreter": {
   "hash": "916dbcbb3f70747c44a77c7bcd40155683ae19c65e1c03b4aa3499c5328201f1"
  },
  "kernelspec": {
   "display_name": "Python 3.9.2 64-bit",
   "language": "python",
   "name": "python3"
  },
  "language_info": {
   "codemirror_mode": {
    "name": "ipython",
    "version": 3
   },
   "file_extension": ".py",
   "mimetype": "text/x-python",
   "name": "python",
   "nbconvert_exporter": "python",
   "pygments_lexer": "ipython3",
   "version": "3.9.7"
  },
  "orig_nbformat": 4
 },
 "nbformat": 4,
 "nbformat_minor": 2
}
