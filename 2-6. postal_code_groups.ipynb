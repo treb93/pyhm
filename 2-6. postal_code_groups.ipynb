{
 "cells": [
  {
   "cell_type": "markdown",
   "metadata": {},
   "source": [
    "## Détermination de groupes de codes postaux\n",
    "\n",
    "#### Idée\n",
    " les codes postaux ont été anonymisés, ils constituent donc une boîte noire que l'on ne peut pas utiliser telle quelle. <br/>Par contre, on peut supposer que certains types de vêtements associés à un type de climat (shorts, manteaux) n'ont pas les mêmes figures de ventes selon la zone géographique et éventuellement l'hémisphère.<br/>-> Nous allons donc tenter de déterminer des groupes de codes postaux.\n",
    "#### Features à contruire \n",
    "- Différentiel entre le minimum et le maximum de ventes pour chaque type de produit\n",
    "- Pic de vente pour chaque type de produit."
   ]
  },
  {
   "cell_type": "code",
   "execution_count": 1,
   "metadata": {},
   "outputs": [],
   "source": [
    "import pandas as pd\n",
    "import numpy as np"
   ]
  },
  {
   "cell_type": "markdown",
   "metadata": {},
   "source": [
    "### Création des features"
   ]
  },
  {
   "cell_type": "code",
   "execution_count": 2,
   "metadata": {},
   "outputs": [],
   "source": [
    "transactions = pd.read_pickle('pickles/transactions_clean.pkl')"
   ]
  },
  {
   "cell_type": "code",
   "execution_count": 4,
   "metadata": {},
   "outputs": [],
   "source": [
    "transactions.drop(columns = ['t_dat', 'price', 'sales_channel_id', 'quantity'], axis = 1, inplace = True)"
   ]
  },
  {
   "cell_type": "code",
   "execution_count": 5,
   "metadata": {},
   "outputs": [],
   "source": [
    "# Aggrégation des ventes par client / période dans un premier temps\n",
    "sales_by_week = transactions.groupby(['week_number', 'customer_id', 'article_id'], as_index = False).agg(\n",
    "    sales = ('article_id', 'count')\n",
    ")"
   ]
  },
  {
   "cell_type": "code",
   "execution_count": null,
   "metadata": {},
   "outputs": [],
   "source": [
    "# Ajout des codes postaux\n",
    "postal_codes = pd.read_pickle('pickles/customers_clean.pkl')\n",
    "postal_codes = postal_codes[['customer_id', 'postal_code']]\n",
    "\n",
    "sales_by_week = sales_by_week.merge(postal_codes, on = 'customer_id', how = 'left')\n",
    "\n",
    "sales_by_week.postal_code = sales_by_week.postal_code.astype(str)"
   ]
  },
  {
   "cell_type": "code",
   "execution_count": 13,
   "metadata": {},
   "outputs": [],
   "source": [
    "# Aggrégation par code postal\n",
    "sales_by_postal_code = sales_by_week.groupby(['article_id', 'week_number', 'postal_code'], as_index = False).agg(\n",
    "    sales = ('sales', 'sum')\n",
    ")"
   ]
  },
  {
   "cell_type": "code",
   "execution_count": 14,
   "metadata": {},
   "outputs": [],
   "source": [
    "# Sauvegarde pour utilisation ultérieure.\n",
    "sales_by_postal_code.to_pickle('pickles/sales_by_postal_code.pkl')"
   ]
  },
  {
   "cell_type": "code",
   "execution_count": 2,
   "metadata": {},
   "outputs": [],
   "source": [
    "# Ajout du type de produit\n",
    "articles = pd.read_pickle('pickles/articles_clean.pkl')\n",
    "sales_by_postal_code = pd.read_pickle('pickles/sales_by_postal_code.pkl')\n",
    "\n",
    "articles = articles[['article_id', 'product_type_name']]\n",
    "sales_by_postal_code = sales_by_postal_code.merge(articles, how = 'left', on = 'article_id')\n",
    "\n",
    "sales_by_postal_code.product_type_name = sales_by_postal_code.product_type_name.astype(str)"
   ]
  },
  {
   "cell_type": "code",
   "execution_count": 3,
   "metadata": {},
   "outputs": [],
   "source": [
    "# Aggrégation par type de produit.\n",
    "sales_by_product_type = sales_by_postal_code.groupby(['week_number', 'postal_code', 'product_type_name'], as_index = False).agg(\n",
    "    sales = ('sales', 'sum')\n",
    ")"
   ]
  },
  {
   "cell_type": "code",
   "execution_count": 4,
   "metadata": {},
   "outputs": [],
   "source": [
    "# Sauvegarde pour utilisation ultérieure.\n",
    "sales_by_product_type.to_pickle('pickles/sales_by_postal_codes_product_type.pkl')"
   ]
  },
  {
   "cell_type": "code",
   "execution_count": 5,
   "metadata": {},
   "outputs": [],
   "source": [
    "# Calculer le minimum et le maximum de vente sur la période, pour chaque catégorie et code postal.\n",
    "sales_category_boundaries = sales_by_product_type.groupby(['postal_code', 'product_type_name'], as_index = False).agg(\n",
    "    sales_min = ('sales', 'min'),\n",
    "    sales_max = ('sales', 'max'),\n",
    "    max_index = ('sales', 'idxmax')\n",
    ")"
   ]
  },
  {
   "cell_type": "code",
   "execution_count": 12,
   "metadata": {},
   "outputs": [],
   "source": [
    "# Ajout du numéro de semaine où les ventes on été maximales.\n",
    "week_number_max = sales_by_product_type.loc[sales_category_boundaries['max_index']]['week_number']\n",
    "sales_category_boundaries['week_number_max'] = week_number_max.reset_index()['week_number']\n",
    "\n",
    "sales_category_boundaries.drop(columns = 'max_index', axis = 1, inplace = True)"
   ]
  },
  {
   "cell_type": "code",
   "execution_count": 13,
   "metadata": {},
   "outputs": [
    {
     "data": {
      "text/html": [
       "<div>\n",
       "<style scoped>\n",
       "    .dataframe tbody tr th:only-of-type {\n",
       "        vertical-align: middle;\n",
       "    }\n",
       "\n",
       "    .dataframe tbody tr th {\n",
       "        vertical-align: top;\n",
       "    }\n",
       "\n",
       "    .dataframe thead th {\n",
       "        text-align: right;\n",
       "    }\n",
       "</style>\n",
       "<table border=\"1\" class=\"dataframe\">\n",
       "  <thead>\n",
       "    <tr style=\"text-align: right;\">\n",
       "      <th></th>\n",
       "      <th>postal_code</th>\n",
       "      <th>product_type_name</th>\n",
       "      <th>sales_min</th>\n",
       "      <th>sales_max</th>\n",
       "      <th>week_number_max</th>\n",
       "    </tr>\n",
       "  </thead>\n",
       "  <tbody>\n",
       "    <tr>\n",
       "      <th>0</th>\n",
       "      <td>0000198d2c593b7d3df5a35282b74cf3a487b066286b2b...</td>\n",
       "      <td>Blouse</td>\n",
       "      <td>1</td>\n",
       "      <td>1</td>\n",
       "      <td>8</td>\n",
       "    </tr>\n",
       "    <tr>\n",
       "      <th>1</th>\n",
       "      <td>0000198d2c593b7d3df5a35282b74cf3a487b066286b2b...</td>\n",
       "      <td>Bra</td>\n",
       "      <td>1</td>\n",
       "      <td>1</td>\n",
       "      <td>18</td>\n",
       "    </tr>\n",
       "    <tr>\n",
       "      <th>2</th>\n",
       "      <td>0000198d2c593b7d3df5a35282b74cf3a487b066286b2b...</td>\n",
       "      <td>Other accessories</td>\n",
       "      <td>2</td>\n",
       "      <td>2</td>\n",
       "      <td>86</td>\n",
       "    </tr>\n",
       "    <tr>\n",
       "      <th>3</th>\n",
       "      <td>0000198d2c593b7d3df5a35282b74cf3a487b066286b2b...</td>\n",
       "      <td>Sunglasses</td>\n",
       "      <td>1</td>\n",
       "      <td>1</td>\n",
       "      <td>18</td>\n",
       "    </tr>\n",
       "    <tr>\n",
       "      <th>4</th>\n",
       "      <td>0000198d2c593b7d3df5a35282b74cf3a487b066286b2b...</td>\n",
       "      <td>Sweater</td>\n",
       "      <td>2</td>\n",
       "      <td>2</td>\n",
       "      <td>86</td>\n",
       "    </tr>\n",
       "  </tbody>\n",
       "</table>\n",
       "</div>"
      ],
      "text/plain": [
       "                                         postal_code  product_type_name  \\\n",
       "0  0000198d2c593b7d3df5a35282b74cf3a487b066286b2b...             Blouse   \n",
       "1  0000198d2c593b7d3df5a35282b74cf3a487b066286b2b...                Bra   \n",
       "2  0000198d2c593b7d3df5a35282b74cf3a487b066286b2b...  Other accessories   \n",
       "3  0000198d2c593b7d3df5a35282b74cf3a487b066286b2b...         Sunglasses   \n",
       "4  0000198d2c593b7d3df5a35282b74cf3a487b066286b2b...            Sweater   \n",
       "\n",
       "   sales_min  sales_max  week_number_max  \n",
       "0          1          1                8  \n",
       "1          1          1               18  \n",
       "2          2          2               86  \n",
       "3          1          1               18  \n",
       "4          2          2               86  "
      ]
     },
     "execution_count": 13,
     "metadata": {},
     "output_type": "execute_result"
    }
   ],
   "source": [
    "# Sauvegarde pour utilisation ultérieure.\n",
    "sales_category_boundaries.to_pickle('pickles/sales_postal_codes_category_boundaries.pkl')\n",
    "sales_category_boundaries.head()"
   ]
  },
  {
   "cell_type": "code",
   "execution_count": 14,
   "metadata": {},
   "outputs": [],
   "source": [
    "### Création d'un tableau avec les ventes des chaque catégorie en ligne. ###\n",
    "postal_codes = pd.DataFrame()\n",
    "\n",
    "postal_codes['postal_code'] = sales_category_boundaries['postal_code'].unique()\n",
    "product_types = sales_category_boundaries['product_type_name'].sort_values().unique()\n",
    "\n",
    "# On n'utilisera qu'un certain nombre de produits dont nous pensons que les ventes sont liées au climat local.\n",
    "product_types_kept = ['Bikini top', 'Blanket', 'Coat', 'Gloves', 'Hoodie',\n",
    "       'Jacket','Scarf', 'Shorts', 'Sunglasses', 'Sweater', 'Swimwear bottom',\n",
    "       'Swimwear set', 'Swimwear top', 'Umbrella']\n",
    "\n",
    "for product_type in product_types_kept:\n",
    "    prefix = f\"{product_type}\".lower()\n",
    "    \n",
    "    product_type_feats = sales_category_boundaries[sales_category_boundaries['product_type_name'] == product_type]\n",
    "    product_type_feats = product_type_feats.rename({\n",
    "        'sales_min': f'{prefix}_min',\n",
    "        'sales_max': f'{prefix}_max',\n",
    "        'week_number_max': f'{prefix}_peak',\n",
    "    }, axis = 1).drop(columns = 'product_type_name', axis = 1)\n",
    "    \n",
    "    postal_codes = postal_codes.merge(product_type_feats, on = 'postal_code', how = 'left')\n",
    "    \n",
    "postal_codes.fillna(0, inplace = True)"
   ]
  },
  {
   "cell_type": "code",
   "execution_count": 18,
   "metadata": {},
   "outputs": [
    {
     "data": {
      "text/html": [
       "<div>\n",
       "<style scoped>\n",
       "    .dataframe tbody tr th:only-of-type {\n",
       "        vertical-align: middle;\n",
       "    }\n",
       "\n",
       "    .dataframe tbody tr th {\n",
       "        vertical-align: top;\n",
       "    }\n",
       "\n",
       "    .dataframe thead th {\n",
       "        text-align: right;\n",
       "    }\n",
       "</style>\n",
       "<table border=\"1\" class=\"dataframe\">\n",
       "  <thead>\n",
       "    <tr style=\"text-align: right;\">\n",
       "      <th></th>\n",
       "      <th>postal_code</th>\n",
       "      <th>bikini top_min</th>\n",
       "      <th>bikini top_max</th>\n",
       "      <th>bikini top_peak</th>\n",
       "      <th>blanket_min</th>\n",
       "      <th>blanket_max</th>\n",
       "      <th>blanket_peak</th>\n",
       "      <th>coat_min</th>\n",
       "      <th>coat_max</th>\n",
       "      <th>coat_peak</th>\n",
       "      <th>...</th>\n",
       "      <th>swimwear bottom_peak</th>\n",
       "      <th>swimwear set_min</th>\n",
       "      <th>swimwear set_max</th>\n",
       "      <th>swimwear set_peak</th>\n",
       "      <th>swimwear top_min</th>\n",
       "      <th>swimwear top_max</th>\n",
       "      <th>swimwear top_peak</th>\n",
       "      <th>umbrella_min</th>\n",
       "      <th>umbrella_max</th>\n",
       "      <th>umbrella_peak</th>\n",
       "    </tr>\n",
       "  </thead>\n",
       "  <tbody>\n",
       "    <tr>\n",
       "      <th>0</th>\n",
       "      <td>0000198d2c593b7d3df5a35282b74cf3a487b066286b2b...</td>\n",
       "      <td>0.0</td>\n",
       "      <td>0.0</td>\n",
       "      <td>0.0</td>\n",
       "      <td>0.0</td>\n",
       "      <td>0.0</td>\n",
       "      <td>0.0</td>\n",
       "      <td>0.0</td>\n",
       "      <td>0.0</td>\n",
       "      <td>0.0</td>\n",
       "      <td>...</td>\n",
       "      <td>0.0</td>\n",
       "      <td>0.0</td>\n",
       "      <td>0.0</td>\n",
       "      <td>0.0</td>\n",
       "      <td>0.0</td>\n",
       "      <td>0.0</td>\n",
       "      <td>0.0</td>\n",
       "      <td>0.0</td>\n",
       "      <td>0.0</td>\n",
       "      <td>0.0</td>\n",
       "    </tr>\n",
       "    <tr>\n",
       "      <th>1</th>\n",
       "      <td>00005652fb5323679a5d608ce8c94fbb57bc15d3d8c01a...</td>\n",
       "      <td>1.0</td>\n",
       "      <td>1.0</td>\n",
       "      <td>10.0</td>\n",
       "      <td>0.0</td>\n",
       "      <td>0.0</td>\n",
       "      <td>0.0</td>\n",
       "      <td>0.0</td>\n",
       "      <td>0.0</td>\n",
       "      <td>0.0</td>\n",
       "      <td>...</td>\n",
       "      <td>78.0</td>\n",
       "      <td>0.0</td>\n",
       "      <td>0.0</td>\n",
       "      <td>0.0</td>\n",
       "      <td>0.0</td>\n",
       "      <td>0.0</td>\n",
       "      <td>0.0</td>\n",
       "      <td>0.0</td>\n",
       "      <td>0.0</td>\n",
       "      <td>0.0</td>\n",
       "    </tr>\n",
       "    <tr>\n",
       "      <th>2</th>\n",
       "      <td>0000eda740da878fb9df474806be9597f043eb5f748091...</td>\n",
       "      <td>0.0</td>\n",
       "      <td>0.0</td>\n",
       "      <td>0.0</td>\n",
       "      <td>0.0</td>\n",
       "      <td>0.0</td>\n",
       "      <td>0.0</td>\n",
       "      <td>0.0</td>\n",
       "      <td>0.0</td>\n",
       "      <td>0.0</td>\n",
       "      <td>...</td>\n",
       "      <td>0.0</td>\n",
       "      <td>0.0</td>\n",
       "      <td>0.0</td>\n",
       "      <td>0.0</td>\n",
       "      <td>0.0</td>\n",
       "      <td>0.0</td>\n",
       "      <td>0.0</td>\n",
       "      <td>0.0</td>\n",
       "      <td>0.0</td>\n",
       "      <td>0.0</td>\n",
       "    </tr>\n",
       "    <tr>\n",
       "      <th>3</th>\n",
       "      <td>0001617618d0facf2ae73cdba7b8caefb3c05e6987a98a...</td>\n",
       "      <td>0.0</td>\n",
       "      <td>0.0</td>\n",
       "      <td>0.0</td>\n",
       "      <td>0.0</td>\n",
       "      <td>0.0</td>\n",
       "      <td>0.0</td>\n",
       "      <td>1.0</td>\n",
       "      <td>1.0</td>\n",
       "      <td>48.0</td>\n",
       "      <td>...</td>\n",
       "      <td>0.0</td>\n",
       "      <td>0.0</td>\n",
       "      <td>0.0</td>\n",
       "      <td>0.0</td>\n",
       "      <td>0.0</td>\n",
       "      <td>0.0</td>\n",
       "      <td>0.0</td>\n",
       "      <td>0.0</td>\n",
       "      <td>0.0</td>\n",
       "      <td>0.0</td>\n",
       "    </tr>\n",
       "    <tr>\n",
       "      <th>4</th>\n",
       "      <td>00016f13cb796865b053cda4d470b4a3146553eaa36241...</td>\n",
       "      <td>1.0</td>\n",
       "      <td>4.0</td>\n",
       "      <td>5.0</td>\n",
       "      <td>0.0</td>\n",
       "      <td>0.0</td>\n",
       "      <td>0.0</td>\n",
       "      <td>0.0</td>\n",
       "      <td>0.0</td>\n",
       "      <td>0.0</td>\n",
       "      <td>...</td>\n",
       "      <td>5.0</td>\n",
       "      <td>0.0</td>\n",
       "      <td>0.0</td>\n",
       "      <td>0.0</td>\n",
       "      <td>0.0</td>\n",
       "      <td>0.0</td>\n",
       "      <td>0.0</td>\n",
       "      <td>0.0</td>\n",
       "      <td>0.0</td>\n",
       "      <td>0.0</td>\n",
       "    </tr>\n",
       "  </tbody>\n",
       "</table>\n",
       "<p>5 rows × 43 columns</p>\n",
       "</div>"
      ],
      "text/plain": [
       "                                         postal_code  bikini top_min  \\\n",
       "0  0000198d2c593b7d3df5a35282b74cf3a487b066286b2b...             0.0   \n",
       "1  00005652fb5323679a5d608ce8c94fbb57bc15d3d8c01a...             1.0   \n",
       "2  0000eda740da878fb9df474806be9597f043eb5f748091...             0.0   \n",
       "3  0001617618d0facf2ae73cdba7b8caefb3c05e6987a98a...             0.0   \n",
       "4  00016f13cb796865b053cda4d470b4a3146553eaa36241...             1.0   \n",
       "\n",
       "   bikini top_max  bikini top_peak  blanket_min  blanket_max  blanket_peak  \\\n",
       "0             0.0              0.0          0.0          0.0           0.0   \n",
       "1             1.0             10.0          0.0          0.0           0.0   \n",
       "2             0.0              0.0          0.0          0.0           0.0   \n",
       "3             0.0              0.0          0.0          0.0           0.0   \n",
       "4             4.0              5.0          0.0          0.0           0.0   \n",
       "\n",
       "   coat_min  coat_max  coat_peak  ...  swimwear bottom_peak  swimwear set_min  \\\n",
       "0       0.0       0.0        0.0  ...                   0.0               0.0   \n",
       "1       0.0       0.0        0.0  ...                  78.0               0.0   \n",
       "2       0.0       0.0        0.0  ...                   0.0               0.0   \n",
       "3       1.0       1.0       48.0  ...                   0.0               0.0   \n",
       "4       0.0       0.0        0.0  ...                   5.0               0.0   \n",
       "\n",
       "   swimwear set_max  swimwear set_peak  swimwear top_min  swimwear top_max  \\\n",
       "0               0.0                0.0               0.0               0.0   \n",
       "1               0.0                0.0               0.0               0.0   \n",
       "2               0.0                0.0               0.0               0.0   \n",
       "3               0.0                0.0               0.0               0.0   \n",
       "4               0.0                0.0               0.0               0.0   \n",
       "\n",
       "   swimwear top_peak  umbrella_min  umbrella_max  umbrella_peak  \n",
       "0                0.0           0.0           0.0            0.0  \n",
       "1                0.0           0.0           0.0            0.0  \n",
       "2                0.0           0.0           0.0            0.0  \n",
       "3                0.0           0.0           0.0            0.0  \n",
       "4                0.0           0.0           0.0            0.0  \n",
       "\n",
       "[5 rows x 43 columns]"
      ]
     },
     "execution_count": 18,
     "metadata": {},
     "output_type": "execute_result"
    }
   ],
   "source": [
    "# Sauvegarde.\n",
    "postal_codes.to_pickle('pickles/postal_codes_features.pkl')\n",
    "postal_codes.head()\n",
    "    "
   ]
  },
  {
   "cell_type": "markdown",
   "metadata": {},
   "source": [
    "### Normalization et réduction de dimension\n",
    "Voir le code de `preparing_postal_code_features.py`\n",
    "\n",
    "### Lancement du modèle"
   ]
  },
  {
   "cell_type": "code",
   "execution_count": 2,
   "metadata": {},
   "outputs": [],
   "source": [
    "from sklearn.cluster import KMeans\n",
    "import pandas as pd\n",
    "import numpy as np\n",
    "from sklearn.pipeline import Pipeline\n",
    "from sklearn.preprocessing import MinMaxScaler, PolynomialFeatures\n",
    "import matplotlib.pyplot as plt\n",
    "import pickle\n",
    "from sklearn.decomposition import PCA\n",
    "from utils.map12_from_series import map12_from_series\n",
    "\n",
    "postal_codes = pd.read_pickle('pickles/postal_codes_features')\n",
    "feats = postal_codes.drop(columns = 'postal_code', axis = 1).fillna(0).astype(int)\n",
    "\n",
    "pca = PCA(n_components=0.95)\n",
    "scaler = MinMaxScaler()     \n",
    "\n",
    "pipeline = Pipeline(steps = [\n",
    "    ('scaler', scaler),\n",
    "    ('pca', pca),                       \n",
    "])\n",
    "\n",
    "postal_codes = pd.read_pickle('pickles/postal_codes_features.pkl')"
   ]
  },
  {
   "cell_type": "code",
   "execution_count": 4,
   "metadata": {},
   "outputs": [],
   "source": [
    "# Utilisation des ventes de la dernière semaine pour score la clusterisation.\n",
    "transactions = pd.read_pickle('pickles/transactions_clean.pkl')\n",
    "customers = pd.read_pickle('pickles/customers_clean.pkl')\n",
    "\n",
    "customers['postal_code'] = customers['postal_code'].astype('str')\n",
    "\n",
    "last_week_sales = transactions[transactions['week_number'] == 0]\n",
    "last_week_sales = last_week_sales.merge(customers[['customer_id', 'postal_code']], on = 'customer_id', how = 'left')\n",
    "\n",
    "validation_data = last_week_sales.groupby(['customer_id', 'postal_code'], as_index = False).agg(\n",
    "    purchased_articles = ('article_id', lambda x: list(x))\n",
    ")"
   ]
  },
  {
   "cell_type": "code",
   "execution_count": 6,
   "metadata": {},
   "outputs": [
    {
     "name": "stderr",
     "output_type": "stream",
     "text": [
      "/home/treb/anaconda3/lib/python3.9/site-packages/pandas/core/indexing.py:1667: SettingWithCopyWarning: \n",
      "A value is trying to be set on a copy of a slice from a DataFrame.\n",
      "Try using .loc[row_indexer,col_indexer] = value instead\n",
      "\n",
      "See the caveats in the documentation: https://pandas.pydata.org/pandas-docs/stable/user_guide/indexing.html#returning-a-view-versus-a-copy\n",
      "  self.obj[key] = value\n"
     ]
    },
    {
     "name": "stdout",
     "output_type": "stream",
     "text": [
      "Score des articles les plus populaires:  0.010255633264301744\n"
     ]
    }
   ],
   "source": [
    "# Calculer le score MAP@12 de la liste des articles les plus populaires, comme point de comparaison\n",
    "top_sales_list = last_week_sales.groupby('article_id', as_index = False).agg(\n",
    "    sales = ('article_id', 'count')\n",
    ").nlargest(12, 'sales')['article_id'].to_list()\n",
    "\n",
    "top_sales = validation_data[['purchased_articles']]\n",
    "top_sales.loc[:, 'prediction'] = [top_sales_list] * len(top_sales)\n",
    "\n",
    "top_sales_score = map12_from_series(top_sales['purchased_articles'], top_sales['prediction']).sum() / len(top_sales)\n",
    "print(\"Score des articles les plus populaires: \", top_sales_score)"
   ]
  },
  {
   "cell_type": "markdown",
   "metadata": {},
   "source": [
    "### Recherche de la meilleure clusterisation\n",
    "#### 1. Sans features polynomiales"
   ]
  },
  {
   "cell_type": "code",
   "execution_count": 7,
   "metadata": {},
   "outputs": [],
   "source": [
    "X = pipeline.fit_transform(feats)"
   ]
  },
  {
   "cell_type": "code",
   "execution_count": null,
   "metadata": {},
   "outputs": [],
   "source": [
    "# Recherche du nombre de clusters qui donnera le meilleur score MAP@12\n",
    "score_curve = [top_sales_score] \n",
    "best_score = 0\n",
    "\n",
    "for k in range(2, 10):\n",
    "    \n",
    "    print(f\"\\r Entraînement pour {k} clusters                    \", end=\"\")\n",
    "    model = KMeans(n_clusters=k).fit(X)\n",
    "    clusters = model.predict(X)\n",
    "    \n",
    "    # Process a top sales list for each groups.\n",
    "    postal_codes_groups = postal_codes[['postal_code']]\n",
    "    postal_codes_groups.loc[:, 'group'] = clusters\n",
    "    \n",
    "    top_sales_by_group = last_week_sales.merge(postal_codes_groups, on ='postal_code', how='left').groupby(\n",
    "        ['group', 'article_id'],\n",
    "        as_index = False\n",
    "    ).agg(\n",
    "        sales = ('article_id', 'count')\n",
    "    )\n",
    "    \n",
    "    print(f\"\\r Mise en forme des données                   \", end=\"\")\n",
    "    \n",
    "    # Assign the lists to each postal code\n",
    "    top_sales_lists = {}\n",
    "    for group in range(0, k + 1):\n",
    "        top_sales_lists[group] = top_sales_by_group.loc[top_sales_by_group['group'] == group].nlargest(12, columns = ['sales'])['article_id'].to_list()\n",
    "    \n",
    "    postal_codes_groups.loc[:, 'prediction'] = postal_codes_groups.loc[:, 'group'].apply(lambda x: top_sales_lists[x])\n",
    "    \n",
    "    # Put the prediction aside of the real lists.\n",
    "    validation_data_with_prediction = validation_data.merge(postal_codes_groups, on = 'postal_code', how='left')\n",
    "    \n",
    "    print(f\"\\r Calcul du score pour {k} clusters                 \", end=\"\")\n",
    "    score = map12_from_series(validation_data_with_prediction['purchased_articles'], validation_data_with_prediction['prediction']).sum() / len(validation_data_with_prediction)\n",
    "    \n",
    "    print(f\"Score pour {k} clusters: {score}\")\n",
    "    \n",
    "    if score > best_score:\n",
    "        best_model = model\n",
    "        best_clusters = clusters\n",
    "        \n",
    "    score_curve.append(score)"
   ]
  },
  {
   "cell_type": "code",
   "execution_count": 17,
   "metadata": {},
   "outputs": [
    {
     "data": {
      "image/png": "[encoded data removed]",
      "text/plain": [
       "<Figure size 576x288 with 1 Axes>"
      ]
     },
     "metadata": {
      "needs_background": "light"
     },
     "output_type": "display_data"
    },
    {
     "ename": "",
     "evalue": "",
     "output_type": "error",
     "traceback": [
      "\u001b[1;31mThe Kernel crashed while executing code in the the current cell or a previous cell. Please review the code in the cell(s) to identify a possible cause of the failure. Click <a href='https://aka.ms/vscodeJupyterKernelCrash'>here</a> for more info. View Jupyter <a href='command:jupyter.viewOutput'>log</a> for further details."
     ]
    }
   ],
   "source": [
    "import matplotlib.pyplot as plt\n",
    "\n",
    "plt.figure(figsize=(8, 4))\n",
    "plt.plot(range(1, 10), score_curve, \"bo-\")\n",
    "plt.xlabel(\"Nombre de clusters\", fontsize=14)\n",
    "plt.ylabel(\"Score MAP@12\", fontsize=14)\n",
    "plt.show()"
   ]
  },
  {
   "cell_type": "markdown",
   "metadata": {},
   "source": [
    "#### 2. Avec features polynomiales"
   ]
  },
  {
   "cell_type": "code",
   "execution_count": 4,
   "metadata": {},
   "outputs": [],
   "source": [
    "# Ajout des features polynomiales\n",
    "\n",
    "polynomial_features = PolynomialFeatures(degree=2)\n",
    "X = pca.fit_transform(feats)\n",
    "X = polynomial_features.fit_transform(X)\n",
    "X = pca.fit_transform(X)\n",
    "X = scaler.fit_transform(X)"
   ]
  },
  {
   "cell_type": "code",
   "execution_count": 5,
   "metadata": {},
   "outputs": [],
   "source": [
    "# Partons sur 8 groupes.\n",
    " \n",
    "kmeans = KMeans(n_clusters=8)\n",
    "clusters = kmeans.fit_predict(X)"
   ]
  },
  {
   "cell_type": "code",
   "execution_count": 14,
   "metadata": {},
   "outputs": [
    {
     "name": "stdout",
     "output_type": "stream",
     "text": [
      "Score pour 8 clusters et features polynomiales: 0.010348885434011204\n"
     ]
    }
   ],
   "source": [
    "### Calcul du score\n",
    "\n",
    "# Process a top sales list for each groups.\n",
    "postal_codes_groups = postal_codes[['postal_code']]\n",
    "postal_codes_groups.loc[:, 'group'] = clusters\n",
    "\n",
    "top_sales_by_group = last_week_sales.merge(postal_codes_groups, on ='postal_code', how='left').groupby(\n",
    "    ['group', 'article_id'],\n",
    "    as_index = False\n",
    ").agg(\n",
    "    sales = ('sales', 'sum')\n",
    ")\n",
    "\n",
    "# Assign the lists to each postal code\n",
    "top_sales_lists = {}\n",
    "for group in range(0, 9):\n",
    "    top_sales_lists[group] = top_sales_by_group.loc[top_sales_by_group['group'] == group].nlargest(12, columns = ['sales'])['article_id'].to_list()\n",
    "\n",
    "postal_codes_groups.loc[:, 'prediction'] = postal_codes_groups.loc[:, 'group'].apply(lambda x: top_sales_lists[x])\n",
    "\n",
    "# Put the prediction aside of the real lists.\n",
    "validation_data_with_prediction = validation_data.merge(postal_codes_groups, on = 'postal_code', how='left')\n",
    "\n",
    "score = map12_from_series(validation_data_with_prediction['purchased_articles'], validation_data_with_prediction['prediction']).sum() / len(validation_data_with_prediction)\n",
    "\n",
    "print(\"Score pour 8 clusters et features polynomiales:\", score)"
   ]
  },
  {
   "cell_type": "code",
   "execution_count": 7,
   "metadata": {},
   "outputs": [],
   "source": [
    "postal_codes_groups.to_pickle(\"pickles/postal_code_groups.pkl\")"
   ]
  },
  {
   "cell_type": "markdown",
   "metadata": {},
   "source": [
    "### Groupage par corrélation entre les figures de ventes\n",
    "Nous allons maintenant dresser un tableau des ventes par articles par code postal sur l'avant-dernière semaine, et allons tenter de déterminer des corrélations."
   ]
  },
  {
   "cell_type": "code",
   "execution_count": null,
   "metadata": {},
   "outputs": [],
   "source": [
    "### Génération du tableau des ventes.\n",
    "sales_by_postal_code = pd.read_pickle('pickles/sales_by_postal_code.pkl')\n",
    "sales_by_postal_code = sales_by_postal_code[sales_by_postal_code['week_number'] == 1]\n",
    "\n",
    "postal_codes_list = sales_by_postal_code['postal_code'].unique()\n",
    "\n",
    "article_ids = sales_by_postal_code['article_id'].unique()\n",
    "sales_board = pd.DataFrame({'article_id': article_ids})\n",
    "\n",
    "for i in range(len(postal_codes_list)):\n",
    "    print(f\"\\rTraitement du code postal n°{i} / {len(postal_codes_list)}\", end = \"\")\n",
    "    \n",
    "    sales_to_merge = sales_by_postal_code[sales_by_postal_code['postal_code'] == postal_code][['article_id', 'sales']].rename({'sales' : postal_code}, axis = 1)\n",
    "    \n",
    "    sales_board = sales_board.merge(sales_to_merge, on = 'article_id', how = 'left')\n",
    "    \n",
    "sales_board.fillna(0, inplace=True)\n",
    "sales_board.set_index('article_id', inplace = True)\n",
    "sales_board.head(8)"
   ]
  },
  {
   "cell_type": "code",
   "execution_count": null,
   "metadata": {},
   "outputs": [],
   "source": [
    "### Groupage par niveau de corrélation\n",
    "\n",
    "# Calcul de la matrice de corrélation\n",
    "corr = sales_board.corr()\n",
    "\n",
    "# \n",
    "chunks = []"
   ]
  },
  {
   "cell_type": "markdown",
   "metadata": {},
   "source": [
    "#### Conclusion\n",
    "Le groupage par code postal semble amener un petit plus, mais très faible."
   ]
  },
  {
   "cell_type": "markdown",
   "metadata": {},
   "source": []
  }
 ],
 "metadata": {
  "interpreter": {
   "hash": "556b15acb71fbccb0059bce8ff607ae84b982497bd2dd0381fcb515435bd8f90"
  },
  "kernelspec": {
   "display_name": "Python 3.9.7 ('base')",
   "language": "python",
   "name": "python3"
  },
  "language_info": {
   "codemirror_mode": {
    "name": "ipython",
    "version": 3
   },
   "file_extension": ".py",
   "mimetype": "text/x-python",
   "name": "python",
   "nbconvert_exporter": "python",
   "pygments_lexer": "ipython3",
   "version": "3.9.7"
  },
  "orig_nbformat": 4
 },
 "nbformat": 4,
 "nbformat_minor": 2
}
