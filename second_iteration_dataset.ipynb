{
 "cells": [
  {
   "cell_type": "markdown",
   "metadata": {},
   "source": [
    "## Assemblage du jeu de données pour les modèles uniclasse & multiclasses\n",
    "\n",
    "#### 1. Assemblage des achats réels et shortlists \n",
    "    - Données d'entraînement : élaboration de la shortlist sur les semaines [2, 56], liste d'achat sur la semaine 1.\n",
    "    - Données de validation : élaboration de la shortlist sur les semaines [1, 55], liste d'achat sur la semaine 0.\n",
    "    - Données de test : élaboration de la shortlist sur les semaines [0, 54].\n",
    "#### 2. Création d'un dataset pour entraînement uniclasse.\n",
    "#### 3. Création d'un dataset pour entraînement multiclasse."
   ]
  },
  {
   "cell_type": "markdown",
   "metadata": {},
   "source": [
    "### Assemblage des achats réels et shortlists"
   ]
  },
  {
   "cell_type": "code",
   "execution_count": 18,
   "metadata": {},
   "outputs": [],
   "source": [
    "import pandas as pd\n",
    "import numpy as np\n",
    "\n",
    "ages_centers = [15, 25, 35, 45, 55, 65]"
   ]
  },
  {
   "cell_type": "code",
   "execution_count": 3,
   "metadata": {},
   "outputs": [],
   "source": [
    "transactions = pd.read_pickle('pickles/transactions.pkl')"
   ]
  },
  {
   "cell_type": "code",
   "execution_count": 4,
   "metadata": {},
   "outputs": [],
   "source": [
    "customers = pd.read_pickle('pickles/customers_second_iteration.pkl')\n",
    "articles = pd.read_pickle('pickles/articles_second_iteration.pkl')"
   ]
  },
  {
   "cell_type": "code",
   "execution_count": 19,
   "metadata": {},
   "outputs": [],
   "source": [
    "\n",
    "\n",
    "def top_sales_cross_lists(week_sales):\n",
    "    \"\"\"Création des listings nécessaires à l'élaboration de la liste croisée âge / catégorie / groupe.\n",
    "\n",
    "    Args:\n",
    "        week_sales (pd.DataFrame): Les transactions pour la semaine choisie\n",
    "\n",
    "    Returns:\n",
    "        dictionnary: Listes par groupe et par catégorie, avec les pondérations par âge.\n",
    "    \"\"\"\n",
    "    global articles\n",
    "    global customers\n",
    "    \n",
    "    top_sales = week_sales.merge(customers, on = 'customer_id', how = 'left')\n",
    "    \n",
    "    top_sales = top_sales.groupby(['article_id', 'group'], as_index = False).agg(\n",
    "        sales = ('article_id', 'count'),\n",
    "        age_around_15 = ('age_around_15', 'sum'),\n",
    "        age_around_25 = ('age_around_25', 'sum'),\n",
    "        age_around_35 = ('age_around_35', 'sum'),\n",
    "        age_around_45 = ('age_around_45', 'sum'),\n",
    "        age_around_55 = ('age_around_55', 'sum'),\n",
    "        age_around_65 = ('age_around_65', 'sum'),\n",
    "    )\n",
    "    \n",
    "    top_sales = top_sales.merge(articles[['article_id', 'index_group_name']], on = 'article_id')\n",
    "    \n",
    "    top_sales['index_group_name'] = top_sales['index_group_name'].apply(lambda x: x.split('/')[0].lower())\n",
    "    \n",
    "    # Préparation des listes.\n",
    "\n",
    "    groups = top_sales['group'].unique()\n",
    "    categories = top_sales['index_group_name'].unique()\n",
    "\n",
    "    cross_lists = {}\n",
    "\n",
    "    for group in groups :\n",
    "        cross_lists[group] = {}\n",
    "        \n",
    "        categories = top_sales['index_group_name'].unique()\n",
    "\n",
    "        for category in categories:\n",
    "            \n",
    "            cross_lists[group][category] = top_sales[(top_sales['group'] == group) & (top_sales['index_group_name'] == category)]\n",
    "            cross_lists[group][category]['shares'] = cross_lists[group][category]['sales'] / cross_lists[group][category]['sales'].sum()\n",
    "            cross_lists[group][category]['index_group_name'] = category\n",
    "            cross_lists[group][category] = cross_lists[group][category].nlargest(n = 100, columns = 'shares')\n",
    "        \n",
    "    \n",
    "    return cross_lists\n",
    "\n",
    "def get_cross_list(x):\n",
    "    global cross_lists\n",
    "    \n",
    "    top_sales_weighted = []\n",
    "    group = x['group']\n",
    "    \n",
    "    for category in cross_lists[group].keys():\n",
    "    \n",
    "        if x[category] == 0:\n",
    "            continue\n",
    "        \n",
    "        cross_lists[group][category]['shares_weighted'] = cross_lists[group][category]['shares'] * x[category]\n",
    "        cross_lists[group][category]['sales_cross_weighted'] = 0\n",
    "            \n",
    "        for age in ages_centers:\n",
    "            column = f\"age_around_{age}\"\n",
    "            \n",
    "            if x[column] == 0:\n",
    "                continue\n",
    "            \n",
    "            cross_lists[group][category]['sales_cross_weighted'] += cross_lists[group][category][column] * cross_lists[group][category]['shares_weighted']\n",
    "            \n",
    "            top_sales_weighted.append(cross_lists[group][category])\n",
    "    \n",
    "    if len(top_sales_weighted) == 0:\n",
    "        return []\n",
    "    \n",
    "    return pd.concat(top_sales_weighted).nlargest(n = 50, columns = ['sales_cross_weighted'])['article_id'].tolist()"
   ]
  },
  {
   "cell_type": "markdown",
   "metadata": {},
   "source": [
    "### Données d'entraînement\n",
    "#### Liste des achats effectués"
   ]
  },
  {
   "cell_type": "code",
   "execution_count": 6,
   "metadata": {},
   "outputs": [],
   "source": [
    "# Liste des achats effectués\n",
    "\n",
    "data_train = transactions[transactions['week_number'] == 1].groupby('customer_id', as_index = False).agg(\n",
    "    list_purchased = ('article_id', lambda x: list(x))\n",
    ")\n",
    "\n",
    "data_valid = transactions[transactions['week_number'] == 0].groupby('customer_id', as_index = False).agg(\n",
    "    list_purchased = ('article_id', lambda x: list(x))\n",
    ")"
   ]
  },
  {
   "cell_type": "code",
   "execution_count": 10,
   "metadata": {},
   "outputs": [
    {
     "name": "stderr",
     "output_type": "stream",
     "text": [
      "/tmp/ipykernel_8207/1158060924.py:3: FutureWarning: In a future version of pandas all arguments of DataFrame.drop except for the argument 'labels' will be keyword-only\n",
      "  customers_cross_data = customers.drop(['FN', 'Active', 'club_member_status',\n"
     ]
    }
   ],
   "source": [
    "# Ajout des features Client nécessaires à l'élaboration des listes.\n",
    "customers_cross_data = customers.drop(['FN', 'Active', 'club_member_status',\n",
    "       'fashion_news_frequency', 'age', 'postal_code', 'postal_code_group', 'average_cart_articles',\n",
    "       'average_cart_price', 'total_carts', 'total_articles', 'total_price',\n",
    "       'average_cart_interval', 'repurchases', 'repurchases_interval'], 1)"
   ]
  },
  {
   "cell_type": "code",
   "execution_count": 11,
   "metadata": {},
   "outputs": [],
   "source": [
    "data_train = data_train.merge(customers_cross_data, on = 'customer_id', how = 'left')\n",
    "data_valid = data_valid.merge(customers_cross_data, on = 'customer_id', how = 'left')"
   ]
  },
  {
   "cell_type": "markdown",
   "metadata": {},
   "source": [
    "#### Liste croisée groupe / catégorie / âge"
   ]
  },
  {
   "cell_type": "code",
   "execution_count": 8,
   "metadata": {},
   "outputs": [],
   "source": [
    "transactions_train = transactions[(transactions['week_number'] >= 2) & (transactions['week_number'] <= 56)]\n",
    "\n",
    "transaction_train = transactions_train.merge(\n",
    "    data_train[['customer_id']], \n",
    "    on = 'customer_id',\n",
    "    how = 'inner'\n",
    ")"
   ]
  },
  {
   "cell_type": "code",
   "execution_count": 9,
   "metadata": {},
   "outputs": [],
   "source": [
    "transactions_valid = transactions[(transactions['week_number'] >= 1) & (transactions['week_number'] <= 55)]\n",
    "\n",
    "transaction_valid = transactions_valid.merge(\n",
    "    data_valid[['customer_id']], \n",
    "    on = 'customer_id',\n",
    "    how = 'inner'\n",
    ")"
   ]
  },
  {
   "cell_type": "code",
   "execution_count": 20,
   "metadata": {},
   "outputs": [
    {
     "name": "stderr",
     "output_type": "stream",
     "text": [
      "/tmp/ipykernel_8207/4007170644.py:44: SettingWithCopyWarning: \n",
      "A value is trying to be set on a copy of a slice from a DataFrame.\n",
      "Try using .loc[row_indexer,col_indexer] = value instead\n",
      "\n",
      "See the caveats in the documentation: https://pandas.pydata.org/pandas-docs/stable/user_guide/indexing.html#returning-a-view-versus-a-copy\n",
      "  cross_lists[group][category]['shares'] = cross_lists[group][category]['sales'] / cross_lists[group][category]['sales'].sum()\n",
      "/tmp/ipykernel_8207/4007170644.py:45: SettingWithCopyWarning: \n",
      "A value is trying to be set on a copy of a slice from a DataFrame.\n",
      "Try using .loc[row_indexer,col_indexer] = value instead\n",
      "\n",
      "See the caveats in the documentation: https://pandas.pydata.org/pandas-docs/stable/user_guide/indexing.html#returning-a-view-versus-a-copy\n",
      "  cross_lists[group][category]['index_group_name'] = category\n"
     ]
    }
   ],
   "source": [
    "cross_lists = top_sales_cross_lists(transactions[transactions['week_number'] == 2])\n",
    "data_train['cross_list'] = data_train.apply(lambda x: get_cross_list(x), axis = 1)"
   ]
  },
  {
   "cell_type": "code",
   "execution_count": null,
   "metadata": {},
   "outputs": [],
   "source": [
    "cross_lists = top_sales_cross_lists(transactions[transactions['week_number'] == 1])\n",
    "data_valid['cross_list'] = data_valid.apply(lambda x: get_cross_list(x), axis = 1)"
   ]
  },
  {
   "cell_type": "markdown",
   "metadata": {},
   "source": [
    "#### Articles appairés"
   ]
  },
  {
   "cell_type": "code",
   "execution_count": null,
   "metadata": {},
   "outputs": [],
   "source": []
  }
 ],
 "metadata": {
  "interpreter": {
   "hash": "556b15acb71fbccb0059bce8ff607ae84b982497bd2dd0381fcb515435bd8f90"
  },
  "kernelspec": {
   "display_name": "Python 3.9.7 ('base')",
   "language": "python",
   "name": "python3"
  },
  "language_info": {
   "codemirror_mode": {
    "name": "ipython",
    "version": 3
   },
   "file_extension": ".py",
   "mimetype": "text/x-python",
   "name": "python",
   "nbconvert_exporter": "python",
   "pygments_lexer": "ipython3",
   "version": "3.9.7"
  },
  "orig_nbformat": 4
 },
 "nbformat": 4,
 "nbformat_minor": 2
}
