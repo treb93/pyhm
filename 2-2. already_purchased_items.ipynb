{
 "cells": [
  {
   "cell_type": "markdown",
   "metadata": {},
   "source": [
    "## Liste des articles déjà achetés\n",
    "Dans ce notebook, nous dressons la liste des articles déjà achetés pour chaque client, et regardons le score obtenu.\n",
    "Cela nous permet d'obtenir un score de base auquel comparer les résultats des modèles ultérieurs.\n",
    "\n",
    "Par la suite elle sera utile pour générer une sélection restreinte d'articles par client, sur laquelle entraîner le modèle."
   ]
  },
  {
   "cell_type": "code",
   "execution_count": 1,
   "metadata": {},
   "outputs": [],
   "source": [
    "import pandas as pd\n",
    "import numpy as np\n",
    "import matplotlib.pyplot as plt\n",
    "%matplotlib inline\n"
   ]
  },
  {
   "cell_type": "code",
   "execution_count": 2,
   "metadata": {},
   "outputs": [],
   "source": [
    "# Import des transactions\n",
    "transactions = pd.read_pickle('pickles/transactions_clean.pkl')\n",
    "\n",
    "# Modifications propres à la présente manipulation\n",
    "last_day = transactions['t_dat'].max()\n",
    "transactions['day_number'] = (last_day - transactions['t_dat']).dt.days\n",
    "transactions['article_id'] = transactions['article_id'].astype('int64')\n",
    "\n",
    "transactions = transactions[['article_id', 'day_number', 'customer_id']].drop_duplicates()"
   ]
  },
  {
   "cell_type": "code",
   "execution_count": 3,
   "metadata": {},
   "outputs": [],
   "source": [
    "# Création de la table voulue\n",
    "already_purchased = transactions.groupby(['customer_id', 'article_id'], as_index = False, sort = False).agg(\n",
    "    days_list = ('day_number', lambda x: list(x)) # Le tableau est censé déjà être trié .\n",
    ")"
   ]
  },
  {
   "cell_type": "code",
   "execution_count": 4,
   "metadata": {},
   "outputs": [],
   "source": [
    "# Ajout de champs supplémentaires après le groupage, celui-ci étant déjà lourd. \n",
    "already_purchased['count'] = already_purchased['days_list'].apply(lambda x: len(x))\n",
    "already_purchased['last_day'] = already_purchased['days_list'].apply(lambda x: x[0])\n",
    "already_purchased['first_day'] = already_purchased['days_list'].apply(lambda x: x[-1])"
   ]
  },
  {
   "cell_type": "code",
   "execution_count": 6,
   "metadata": {},
   "outputs": [
    {
     "data": {
      "text/html": [
       "<div>\n",
       "<style scoped>\n",
       "    .dataframe tbody tr th:only-of-type {\n",
       "        vertical-align: middle;\n",
       "    }\n",
       "\n",
       "    .dataframe tbody tr th {\n",
       "        vertical-align: top;\n",
       "    }\n",
       "\n",
       "    .dataframe thead th {\n",
       "        text-align: right;\n",
       "    }\n",
       "</style>\n",
       "<table border=\"1\" class=\"dataframe\">\n",
       "  <thead>\n",
       "    <tr style=\"text-align: right;\">\n",
       "      <th></th>\n",
       "      <th>customer_id</th>\n",
       "      <th>article_id</th>\n",
       "      <th>days_list</th>\n",
       "      <th>count</th>\n",
       "      <th>last_day</th>\n",
       "      <th>first_day</th>\n",
       "    </tr>\n",
       "  </thead>\n",
       "  <tbody>\n",
       "    <tr>\n",
       "      <th>0</th>\n",
       "      <td>fffef3b6b73545df065b521e19f64bf6fe93bfd450ab20...</td>\n",
       "      <td>898573003</td>\n",
       "      <td>[0]</td>\n",
       "      <td>1</td>\n",
       "      <td>0</td>\n",
       "      <td>0</td>\n",
       "    </tr>\n",
       "    <tr>\n",
       "      <th>1</th>\n",
       "      <td>53d5f95331b01525404c3cbb2da6a84e1173dccb979d28...</td>\n",
       "      <td>752814021</td>\n",
       "      <td>[0, 1]</td>\n",
       "      <td>2</td>\n",
       "      <td>0</td>\n",
       "      <td>1</td>\n",
       "    </tr>\n",
       "    <tr>\n",
       "      <th>2</th>\n",
       "      <td>53da4b44e81286ed175a46d8ffd5a2baf47843089dc03f...</td>\n",
       "      <td>793506006</td>\n",
       "      <td>[0]</td>\n",
       "      <td>1</td>\n",
       "      <td>0</td>\n",
       "      <td>0</td>\n",
       "    </tr>\n",
       "    <tr>\n",
       "      <th>3</th>\n",
       "      <td>53da4b44e81286ed175a46d8ffd5a2baf47843089dc03f...</td>\n",
       "      <td>802459001</td>\n",
       "      <td>[0]</td>\n",
       "      <td>1</td>\n",
       "      <td>0</td>\n",
       "      <td>0</td>\n",
       "    </tr>\n",
       "    <tr>\n",
       "      <th>4</th>\n",
       "      <td>53da4b44e81286ed175a46d8ffd5a2baf47843089dc03f...</td>\n",
       "      <td>874169001</td>\n",
       "      <td>[0]</td>\n",
       "      <td>1</td>\n",
       "      <td>0</td>\n",
       "      <td>0</td>\n",
       "    </tr>\n",
       "  </tbody>\n",
       "</table>\n",
       "</div>"
      ],
      "text/plain": [
       "                                         customer_id  article_id days_list  \\\n",
       "0  fffef3b6b73545df065b521e19f64bf6fe93bfd450ab20...   898573003       [0]   \n",
       "1  53d5f95331b01525404c3cbb2da6a84e1173dccb979d28...   752814021    [0, 1]   \n",
       "2  53da4b44e81286ed175a46d8ffd5a2baf47843089dc03f...   793506006       [0]   \n",
       "3  53da4b44e81286ed175a46d8ffd5a2baf47843089dc03f...   802459001       [0]   \n",
       "4  53da4b44e81286ed175a46d8ffd5a2baf47843089dc03f...   874169001       [0]   \n",
       "\n",
       "   count  last_day  first_day  \n",
       "0      1         0          0  \n",
       "1      2         0          1  \n",
       "2      1         0          0  \n",
       "3      1         0          0  \n",
       "4      1         0          0  "
      ]
     },
     "execution_count": 6,
     "metadata": {},
     "output_type": "execute_result"
    }
   ],
   "source": [
    "already_purchased.to_pickle(\"pickles/list_already_purchased.pkl\")\n",
    "already_purchased.head()"
   ]
  },
  {
   "cell_type": "markdown",
   "metadata": {},
   "source": [
    "#### Affichage des intervalles entre deux rachats"
   ]
  },
  {
   "cell_type": "code",
   "execution_count": 10,
   "metadata": {},
   "outputs": [],
   "source": [
    "intervals = []\n",
    "\n",
    "def append_interval(day_list):\n",
    "    end = len(day_list)\n",
    "    \n",
    "    for i in range(0, end):\n",
    "        for j in range(i + 1, end):\n",
    "            interval = day_list[j] - day_list[i]\n",
    "            \n",
    "            intervals.append(interval)\n",
    "\n",
    "blank = already_purchased[already_purchased['count'] > 1]['days_list'].apply(append_interval)"
   ]
  },
  {
   "cell_type": "code",
   "execution_count": 15,
   "metadata": {},
   "outputs": [
    {
     "data": {
      "text/html": [
       "<div>\n",
       "<style scoped>\n",
       "    .dataframe tbody tr th:only-of-type {\n",
       "        vertical-align: middle;\n",
       "    }\n",
       "\n",
       "    .dataframe tbody tr th {\n",
       "        vertical-align: top;\n",
       "    }\n",
       "\n",
       "    .dataframe thead th {\n",
       "        text-align: right;\n",
       "    }\n",
       "</style>\n",
       "<table border=\"1\" class=\"dataframe\">\n",
       "  <thead>\n",
       "    <tr style=\"text-align: right;\">\n",
       "      <th></th>\n",
       "      <th>customer_id</th>\n",
       "      <th>article_id</th>\n",
       "      <th>days_list</th>\n",
       "      <th>count</th>\n",
       "      <th>last_day</th>\n",
       "      <th>first_day</th>\n",
       "    </tr>\n",
       "  </thead>\n",
       "  <tbody>\n",
       "    <tr>\n",
       "      <th>27305763</th>\n",
       "      <td>ad2a92f1e284f000fc0d6374906234434824dcbc4391f6...</td>\n",
       "      <td>692216005</td>\n",
       "      <td>[733, 733, 733]</td>\n",
       "      <td>3</td>\n",
       "      <td>733</td>\n",
       "      <td>733</td>\n",
       "    </tr>\n",
       "    <tr>\n",
       "      <th>27305878</th>\n",
       "      <td>a85989072287a41df0f46144bb5268385c1ea941031ebd...</td>\n",
       "      <td>547058001</td>\n",
       "      <td>[733, 733]</td>\n",
       "      <td>2</td>\n",
       "      <td>733</td>\n",
       "      <td>733</td>\n",
       "    </tr>\n",
       "    <tr>\n",
       "      <th>27305908</th>\n",
       "      <td>a872d8b3b98cf5dbede2ae7f4f2ffb12a730d371fc2e78...</td>\n",
       "      <td>660712003</td>\n",
       "      <td>[733, 733]</td>\n",
       "      <td>2</td>\n",
       "      <td>733</td>\n",
       "      <td>733</td>\n",
       "    </tr>\n",
       "    <tr>\n",
       "      <th>27306209</th>\n",
       "      <td>aa205195260c9adb0fef75b6649daddad2d0ba44678b44...</td>\n",
       "      <td>684033003</td>\n",
       "      <td>[733, 733]</td>\n",
       "      <td>2</td>\n",
       "      <td>733</td>\n",
       "      <td>733</td>\n",
       "    </tr>\n",
       "    <tr>\n",
       "      <th>27306404</th>\n",
       "      <td>a91e805e60a92b1bafc60c96fd37996f4e3e3dd843142e...</td>\n",
       "      <td>650677004</td>\n",
       "      <td>[733, 733]</td>\n",
       "      <td>2</td>\n",
       "      <td>733</td>\n",
       "      <td>733</td>\n",
       "    </tr>\n",
       "  </tbody>\n",
       "</table>\n",
       "</div>"
      ],
      "text/plain": [
       "                                                customer_id  article_id  \\\n",
       "27305763  ad2a92f1e284f000fc0d6374906234434824dcbc4391f6...   692216005   \n",
       "27305878  a85989072287a41df0f46144bb5268385c1ea941031ebd...   547058001   \n",
       "27305908  a872d8b3b98cf5dbede2ae7f4f2ffb12a730d371fc2e78...   660712003   \n",
       "27306209  aa205195260c9adb0fef75b6649daddad2d0ba44678b44...   684033003   \n",
       "27306404  a91e805e60a92b1bafc60c96fd37996f4e3e3dd843142e...   650677004   \n",
       "\n",
       "                days_list  count  last_day  first_day  \n",
       "27305763  [733, 733, 733]      3       733        733  \n",
       "27305878       [733, 733]      2       733        733  \n",
       "27305908       [733, 733]      2       733        733  \n",
       "27306209       [733, 733]      2       733        733  \n",
       "27306404       [733, 733]      2       733        733  "
      ]
     },
     "execution_count": 15,
     "metadata": {},
     "output_type": "execute_result"
    }
   ],
   "source": [
    "already_purchased[already_purchased['count'] > 1].tail()"
   ]
  },
  {
   "cell_type": "code",
   "execution_count": 6,
   "metadata": {},
   "outputs": [
    {
     "data": {
      "text/html": [
       "<div>\n",
       "<style scoped>\n",
       "    .dataframe tbody tr th:only-of-type {\n",
       "        vertical-align: middle;\n",
       "    }\n",
       "\n",
       "    .dataframe tbody tr th {\n",
       "        vertical-align: top;\n",
       "    }\n",
       "\n",
       "    .dataframe thead th {\n",
       "        text-align: right;\n",
       "    }\n",
       "</style>\n",
       "<table border=\"1\" class=\"dataframe\">\n",
       "  <thead>\n",
       "    <tr style=\"text-align: right;\">\n",
       "      <th></th>\n",
       "      <th>t_dat</th>\n",
       "      <th>customer_id</th>\n",
       "      <th>article_id</th>\n",
       "      <th>price</th>\n",
       "      <th>sales_channel_id</th>\n",
       "      <th>quantity</th>\n",
       "      <th>week_number</th>\n",
       "      <th>day_number</th>\n",
       "    </tr>\n",
       "  </thead>\n",
       "  <tbody>\n",
       "    <tr>\n",
       "      <th>1194</th>\n",
       "      <td>2018-09-20</td>\n",
       "      <td>06fb540d721f33154ff93ae30a699ec6e362c8a1e3ef62...</td>\n",
       "      <td>650677004</td>\n",
       "      <td>0.033881</td>\n",
       "      <td>2</td>\n",
       "      <td>1</td>\n",
       "      <td>104</td>\n",
       "      <td>733</td>\n",
       "    </tr>\n",
       "    <tr>\n",
       "      <th>8069</th>\n",
       "      <td>2018-09-20</td>\n",
       "      <td>2ffad87a239b7a88d275b06ea22800288dc9b581d1047d...</td>\n",
       "      <td>650677004</td>\n",
       "      <td>0.033881</td>\n",
       "      <td>2</td>\n",
       "      <td>1</td>\n",
       "      <td>104</td>\n",
       "      <td>733</td>\n",
       "    </tr>\n",
       "    <tr>\n",
       "      <th>40793</th>\n",
       "      <td>2018-09-20</td>\n",
       "      <td>ef379edf1d4fc2ca81937452a844e42fe526cee10d6f67...</td>\n",
       "      <td>650677004</td>\n",
       "      <td>0.033881</td>\n",
       "      <td>2</td>\n",
       "      <td>2</td>\n",
       "      <td>104</td>\n",
       "      <td>733</td>\n",
       "    </tr>\n",
       "    <tr>\n",
       "      <th>28592</th>\n",
       "      <td>2018-09-20</td>\n",
       "      <td>a5d55f3010d375068c51f266ebb807558017ccfaa75c30...</td>\n",
       "      <td>650677004</td>\n",
       "      <td>0.018627</td>\n",
       "      <td>1</td>\n",
       "      <td>1</td>\n",
       "      <td>104</td>\n",
       "      <td>733</td>\n",
       "    </tr>\n",
       "    <tr>\n",
       "      <th>29137</th>\n",
       "      <td>2018-09-20</td>\n",
       "      <td>a91e805e60a92b1bafc60c96fd37996f4e3e3dd843142e...</td>\n",
       "      <td>650677004</td>\n",
       "      <td>0.032186</td>\n",
       "      <td>2</td>\n",
       "      <td>1</td>\n",
       "      <td>104</td>\n",
       "      <td>733</td>\n",
       "    </tr>\n",
       "  </tbody>\n",
       "</table>\n",
       "</div>"
      ],
      "text/plain": [
       "           t_dat                                        customer_id  \\\n",
       "1194  2018-09-20  06fb540d721f33154ff93ae30a699ec6e362c8a1e3ef62...   \n",
       "8069  2018-09-20  2ffad87a239b7a88d275b06ea22800288dc9b581d1047d...   \n",
       "40793 2018-09-20  ef379edf1d4fc2ca81937452a844e42fe526cee10d6f67...   \n",
       "28592 2018-09-20  a5d55f3010d375068c51f266ebb807558017ccfaa75c30...   \n",
       "29137 2018-09-20  a91e805e60a92b1bafc60c96fd37996f4e3e3dd843142e...   \n",
       "\n",
       "       article_id     price  sales_channel_id  quantity  week_number  \\\n",
       "1194    650677004  0.033881                 2         1          104   \n",
       "8069    650677004  0.033881                 2         1          104   \n",
       "40793   650677004  0.033881                 2         2          104   \n",
       "28592   650677004  0.018627                 1         1          104   \n",
       "29137   650677004  0.032186                 2         1          104   \n",
       "\n",
       "       day_number  \n",
       "1194          733  \n",
       "8069          733  \n",
       "40793         733  \n",
       "28592         733  \n",
       "29137         733  "
      ]
     },
     "execution_count": 6,
     "metadata": {},
     "output_type": "execute_result"
    }
   ],
   "source": [
    "transactions[(transactions['day_number'] == 733) & (transactions['article_id'] == 650677004)]"
   ]
  },
  {
   "cell_type": "code",
   "execution_count": 11,
   "metadata": {},
   "outputs": [
    {
     "data": {
      "text/plain": [
       "0    0.140400\n",
       "1    0.079960\n",
       "2    0.078543\n",
       "3    0.064268\n",
       "4    0.051180\n",
       "5    0.039894\n",
       "6    0.034179\n",
       "7    0.030450\n",
       "8    0.022329\n",
       "9    0.017949\n",
       "dtype: float64"
      ]
     },
     "execution_count": 11,
     "metadata": {},
     "output_type": "execute_result"
    }
   ],
   "source": [
    "intervals_distribution = pd.Series(intervals).value_counts(normalize=True)\n",
    "intervals_distribution.to_pickle('pickles/repurchases_interval_distribution.pkl')"
   ]
  },
  {
   "cell_type": "code",
   "execution_count": 8,
   "metadata": {},
   "outputs": [
    {
     "ename": "",
     "evalue": "",
     "output_type": "error",
     "traceback": [
      "\u001b[1;31mCanceled future for execute_request message before replies were done"
     ]
    },
    {
     "ename": "",
     "evalue": "",
     "output_type": "error",
     "traceback": [
      "\u001b[1;31mThe Kernel crashed while executing code in the the current cell or a previous cell. Please review the code in the cell(s) to identify a possible cause of the failure. Click <a href='https://aka.ms/vscodeJupyterKernelCrash'>here</a> for more info. View Jupyter <a href='command:jupyter.viewOutput'>log</a> for further details."
     ]
    }
   ],
   "source": [
    "plt.figure()\n",
    "plt.hist(intervals, bins = 50)\n",
    "plt.xlabel(\"Nombre de semaines\")\n",
    "plt.ylabel(\"Nombre de rachats\")\n",
    "plt.title(\"Intervalles entre deux rachats d'un même article\")\n",
    "plt.show()"
   ]
  },
  {
   "cell_type": "markdown",
   "metadata": {},
   "source": [
    "Observations : \n",
    "- 62% des rachats d'un même article se font dans les deux semaines.\n",
    "- passé la quatrième semaine, la probabilité de rachat d'un même article diminue très fortement."
   ]
  },
  {
   "cell_type": "code",
   "execution_count": 17,
   "metadata": {},
   "outputs": [],
   "source": [
    "# Ajout des données client et produit\n",
    "customers = pd.read_pickle('pickles/customers_second_iteration.pkl')\n",
    "customers = customers[['customer_id', 'repurchases', 'repurchases_interval']]"
   ]
  },
  {
   "cell_type": "code",
   "execution_count": 18,
   "metadata": {},
   "outputs": [],
   "source": [
    "articles = pd.read_pickle('pickles/articles_second_iteration.pkl')\n",
    "articles = articles[['article_id', 'repurchases', 'repurchase_interval']]"
   ]
  },
  {
   "cell_type": "code",
   "execution_count": 19,
   "metadata": {},
   "outputs": [],
   "source": [
    "already_purchased = already_purchased.merge(customers, on = 'customer_id', how = 'left')"
   ]
  },
  {
   "cell_type": "code",
   "execution_count": 20,
   "metadata": {},
   "outputs": [],
   "source": [
    "already_purchased = already_purchased.merge(articles, on = 'article_id', how = 'left', suffixes = ('_customer', '_article'))"
   ]
  },
  {
   "cell_type": "code",
   "execution_count": 21,
   "metadata": {},
   "outputs": [],
   "source": [
    "already_purchased['mean_interval'] = (already_purchased['repurchases_interval'] + already_purchased['repurchase_interval']) / 2"
   ]
  },
  {
   "cell_type": "code",
   "execution_count": 22,
   "metadata": {},
   "outputs": [],
   "source": [
    "already_purchased['score'] = already_purchased['repurchases_article'] * already_purchased['repurchases_customer']\n"
   ]
  },
  {
   "cell_type": "code",
   "execution_count": 23,
   "metadata": {},
   "outputs": [],
   "source": [
    "already_purchased['interval_weighted'] =  already_purchased['last_week'] / already_purchased['mean_interval']\n",
    "already_purchased = already_purchased[already_purchased['interval_weighted'] <= 50]"
   ]
  },
  {
   "cell_type": "code",
   "execution_count": 24,
   "metadata": {},
   "outputs": [],
   "source": [
    "already_purchased['score'] *= already_purchased['interval_weighted'].apply(lambda x: \n",
    "    intervals_distribution.loc[round(x)]\n",
    ")"
   ]
  },
  {
   "cell_type": "code",
   "execution_count": 25,
   "metadata": {},
   "outputs": [],
   "source": [
    "already_purchased = already_purchased[['customer_id', 'article_id', 'score']].sort_values(['customer_id', 'score'], ascending = False)"
   ]
  },
  {
   "cell_type": "code",
   "execution_count": 26,
   "metadata": {},
   "outputs": [],
   "source": [
    "already_purchased.reset_index(drop = True, inplace = True)"
   ]
  },
  {
   "cell_type": "code",
   "execution_count": 27,
   "metadata": {},
   "outputs": [
    {
     "data": {
      "text/html": [
       "<div>\n",
       "<style scoped>\n",
       "    .dataframe tbody tr th:only-of-type {\n",
       "        vertical-align: middle;\n",
       "    }\n",
       "\n",
       "    .dataframe tbody tr th {\n",
       "        vertical-align: top;\n",
       "    }\n",
       "\n",
       "    .dataframe thead th {\n",
       "        text-align: right;\n",
       "    }\n",
       "</style>\n",
       "<table border=\"1\" class=\"dataframe\">\n",
       "  <thead>\n",
       "    <tr style=\"text-align: right;\">\n",
       "      <th></th>\n",
       "      <th>customer_id</th>\n",
       "      <th>article_id</th>\n",
       "      <th>score</th>\n",
       "    </tr>\n",
       "  </thead>\n",
       "  <tbody>\n",
       "    <tr>\n",
       "      <th>0</th>\n",
       "      <td>ffffd7744cebcf3aca44ae7049d2a94b87074c3d4ffe38...</td>\n",
       "      <td>0866755002</td>\n",
       "      <td>0.000430</td>\n",
       "    </tr>\n",
       "    <tr>\n",
       "      <th>1</th>\n",
       "      <td>ffffcd5046a6143d29a04fb8c424ce494a76e5cdf4fab5...</td>\n",
       "      <td>0663568009</td>\n",
       "      <td>0.001645</td>\n",
       "    </tr>\n",
       "    <tr>\n",
       "      <th>2</th>\n",
       "      <td>ffffcd5046a6143d29a04fb8c424ce494a76e5cdf4fab5...</td>\n",
       "      <td>0877009001</td>\n",
       "      <td>0.000311</td>\n",
       "    </tr>\n",
       "    <tr>\n",
       "      <th>3</th>\n",
       "      <td>ffffbbf78b6eaac697a8a5dfbfd2bfa8113ee5b403e474...</td>\n",
       "      <td>0557599022</td>\n",
       "      <td>0.078538</td>\n",
       "    </tr>\n",
       "    <tr>\n",
       "      <th>4</th>\n",
       "      <td>ffffbbf78b6eaac697a8a5dfbfd2bfa8113ee5b403e474...</td>\n",
       "      <td>0713997002</td>\n",
       "      <td>0.012731</td>\n",
       "    </tr>\n",
       "    <tr>\n",
       "      <th>...</th>\n",
       "      <td>...</td>\n",
       "      <td>...</td>\n",
       "      <td>...</td>\n",
       "    </tr>\n",
       "    <tr>\n",
       "      <th>541544</th>\n",
       "      <td>00009d946eec3ea54add5ba56d5210ea898def4b46c685...</td>\n",
       "      <td>0693242018</td>\n",
       "      <td>0.004934</td>\n",
       "    </tr>\n",
       "    <tr>\n",
       "      <th>541545</th>\n",
       "      <td>00006413d8573cd20ed7128e53b7b13819fe5cfc2d801f...</td>\n",
       "      <td>0399061015</td>\n",
       "      <td>0.000398</td>\n",
       "    </tr>\n",
       "    <tr>\n",
       "      <th>541546</th>\n",
       "      <td>0000423b00ade91418cceaf3b26c6af3dd342b51fd051e...</td>\n",
       "      <td>0590928022</td>\n",
       "      <td>0.014261</td>\n",
       "    </tr>\n",
       "    <tr>\n",
       "      <th>541547</th>\n",
       "      <td>0000423b00ade91418cceaf3b26c6af3dd342b51fd051e...</td>\n",
       "      <td>0599580049</td>\n",
       "      <td>0.009479</td>\n",
       "    </tr>\n",
       "    <tr>\n",
       "      <th>541548</th>\n",
       "      <td>0000423b00ade91418cceaf3b26c6af3dd342b51fd051e...</td>\n",
       "      <td>0800436010</td>\n",
       "      <td>0.005522</td>\n",
       "    </tr>\n",
       "  </tbody>\n",
       "</table>\n",
       "<p>541549 rows × 3 columns</p>\n",
       "</div>"
      ],
      "text/plain": [
       "                                              customer_id  article_id  \\\n",
       "0       ffffd7744cebcf3aca44ae7049d2a94b87074c3d4ffe38...  0866755002   \n",
       "1       ffffcd5046a6143d29a04fb8c424ce494a76e5cdf4fab5...  0663568009   \n",
       "2       ffffcd5046a6143d29a04fb8c424ce494a76e5cdf4fab5...  0877009001   \n",
       "3       ffffbbf78b6eaac697a8a5dfbfd2bfa8113ee5b403e474...  0557599022   \n",
       "4       ffffbbf78b6eaac697a8a5dfbfd2bfa8113ee5b403e474...  0713997002   \n",
       "...                                                   ...         ...   \n",
       "541544  00009d946eec3ea54add5ba56d5210ea898def4b46c685...  0693242018   \n",
       "541545  00006413d8573cd20ed7128e53b7b13819fe5cfc2d801f...  0399061015   \n",
       "541546  0000423b00ade91418cceaf3b26c6af3dd342b51fd051e...  0590928022   \n",
       "541547  0000423b00ade91418cceaf3b26c6af3dd342b51fd051e...  0599580049   \n",
       "541548  0000423b00ade91418cceaf3b26c6af3dd342b51fd051e...  0800436010   \n",
       "\n",
       "           score  \n",
       "0       0.000430  \n",
       "1       0.001645  \n",
       "2       0.000311  \n",
       "3       0.078538  \n",
       "4       0.012731  \n",
       "...          ...  \n",
       "541544  0.004934  \n",
       "541545  0.000398  \n",
       "541546  0.014261  \n",
       "541547  0.009479  \n",
       "541548  0.005522  \n",
       "\n",
       "[541549 rows x 3 columns]"
      ]
     },
     "execution_count": 27,
     "metadata": {},
     "output_type": "execute_result"
    }
   ],
   "source": [
    "already_purchased"
   ]
  },
  {
   "cell_type": "code",
   "execution_count": 28,
   "metadata": {},
   "outputs": [],
   "source": [
    "repurchase_lists = already_purchased.groupby('customer_id', as_index = False, sort = False).agg(\n",
    "    list = ('article_id', lambda x: list(x))\n",
    ")"
   ]
  },
  {
   "cell_type": "code",
   "execution_count": 30,
   "metadata": {},
   "outputs": [],
   "source": [
    "repurchase_lists['list'] = repurchase_lists['list'].apply(lambda x: x[0:11])"
   ]
  },
  {
   "cell_type": "code",
   "execution_count": 31,
   "metadata": {},
   "outputs": [],
   "source": [
    "repurchase_lists.to_pickle('pickles/already_purchased_list.pkl')"
   ]
  },
  {
   "cell_type": "code",
   "execution_count": 33,
   "metadata": {},
   "outputs": [
    {
     "data": {
      "text/plain": [
       "count    226839.000000\n",
       "mean          2.272087\n",
       "std           2.102758\n",
       "min           1.000000\n",
       "25%           1.000000\n",
       "50%           1.000000\n",
       "75%           3.000000\n",
       "max          11.000000\n",
       "Name: list, dtype: float64"
      ]
     },
     "execution_count": 33,
     "metadata": {},
     "output_type": "execute_result"
    }
   ],
   "source": [
    "repurchase_lists['list'].apply(lambda x: len(x)).describe()"
   ]
  },
  {
   "cell_type": "code",
   "execution_count": null,
   "metadata": {},
   "outputs": [],
   "source": []
  }
 ],
 "metadata": {
  "interpreter": {
   "hash": "556b15acb71fbccb0059bce8ff607ae84b982497bd2dd0381fcb515435bd8f90"
  },
  "kernelspec": {
   "display_name": "Python 3.9.7 ('base')",
   "language": "python",
   "name": "python3"
  },
  "language_info": {
   "codemirror_mode": {
    "name": "ipython",
    "version": 3
   },
   "file_extension": ".py",
   "mimetype": "text/x-python",
   "name": "python",
   "nbconvert_exporter": "python",
   "pygments_lexer": "ipython3",
   "version": "3.9.7"
  },
  "orig_nbformat": 4
 },
 "nbformat": 4,
 "nbformat_minor": 2
}
