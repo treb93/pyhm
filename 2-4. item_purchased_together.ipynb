{
 "cells": [
  {
   "cell_type": "markdown",
   "metadata": {},
   "source": [
    "# Articles achetés ensemble\n",
    "Dans ce notebook, nous cherchons à identifier les articles qui sont fréquemment achetés l'un après l'autre : les cas où quand un client achète l'article A, il y a une probabilité élevée qu'il achète l'article B."
   ]
  },
  {
   "cell_type": "code",
   "execution_count": 1,
   "metadata": {},
   "outputs": [],
   "source": [
    "import pandas as pd\n",
    "import numpy as np\n",
    "import pickle\n",
    "import swifter\n",
    "import gc"
   ]
  },
  {
   "cell_type": "code",
   "execution_count": 2,
   "metadata": {},
   "outputs": [],
   "source": [
    "# Création d'un index pour les IDs d'article.\n",
    "articles = pd.read_pickle('pickles/articles_clean.pkl')\n",
    "articles = articles[['article_id']].reset_index()"
   ]
  },
  {
   "cell_type": "code",
   "execution_count": 3,
   "metadata": {},
   "outputs": [],
   "source": [
    "# Chargement des transactions et optimisation.\n",
    "transactions = pd.read_pickle('pickles/transactions_clean.pkl')\n",
    "transactions = transactions.merge(articles, on = 'article_id', how = 'left').drop(columns = 'article_id', axis = 1)"
   ]
  },
  {
   "cell_type": "code",
   "execution_count": 4,
   "metadata": {},
   "outputs": [],
   "source": [
    "# Réduction à la moitié des utilisateurs.\n",
    "customers = transactions['customer_id'].unique()\n",
    "np.random.shuffle(customers)\n",
    "\n",
    "customers = customers[0: len(customers) // 4]\n",
    "\n",
    "transactions = transactions[transactions['customer_id'].isin(customers)]"
   ]
  },
  {
   "cell_type": "code",
   "execution_count": 5,
   "metadata": {},
   "outputs": [],
   "source": [
    "transactions = transactions.groupby(['customer_id', 'index'], as_index = False, sort = False).agg(\n",
    "    sales = ('index', 'count'),\n",
    "    week_number = ('week_number', 'max')\n",
    ").sort_values('week_number', ascending = False)"
   ]
  },
  {
   "cell_type": "code",
   "execution_count": 6,
   "metadata": {},
   "outputs": [],
   "source": [
    "sales = transactions.groupby('index', as_index = False, sort = False).agg(\n",
    "    sales = ('customer_id', 'count')\n",
    ")"
   ]
  },
  {
   "cell_type": "code",
   "execution_count": 7,
   "metadata": {},
   "outputs": [],
   "source": [
    "purchase_lists = transactions.groupby(['customer_id'], as_index = False, sort = False).agg(\n",
    "    purchases = ('index', lambda x: list(x)),\n",
    "    weeks = ('week_number', lambda x: list(x))\n",
    ")"
   ]
  },
  {
   "cell_type": "code",
   "execution_count": 8,
   "metadata": {},
   "outputs": [
    {
     "name": "stderr",
     "output_type": "stream",
     "text": [
      "Pandas Apply: 100%|██████████| 340570/340570 [01:16<00:00, 4425.02it/s] \n"
     ]
    }
   ],
   "source": [
    "pairs_dictionnary = {}\n",
    "\n",
    "for i in range(len(articles)):\n",
    "    pairs_dictionnary[i] = {}\n",
    "\n",
    "total_lists = len(purchase_lists)\n",
    "current_line = 0\n",
    "\n",
    "\n",
    "def process_purchase_list(purchase_list):\n",
    "    global total_lists\n",
    "    global current_line\n",
    "\n",
    "    #print(f\"\\r Insertion des paires pour la ligne {current_line} / {total_lists}\", end=\"\")\n",
    "    \n",
    "    length = len(purchase_list)\n",
    "    \n",
    "    for i in range(0, length):\n",
    "        for j in range(i + 1, length):\n",
    "                \n",
    "            article_source = purchase_list[i]\n",
    "            article_dest = purchase_list[j]\n",
    "            \n",
    "            if article_dest not in pairs_dictionnary[article_source]:\n",
    "                pairs_dictionnary[article_source][article_dest] = 0\n",
    "                \n",
    "            pairs_dictionnary[article_source][article_dest] += 1\n",
    "            \n",
    "    current_line += 1\n",
    "            \n",
    "blank = purchase_lists['purchases'].swifter.apply(process_purchase_list)"
   ]
  },
  {
   "cell_type": "code",
   "execution_count": 9,
   "metadata": {},
   "outputs": [],
   "source": [
    "sales_by_index = articles[['index']].merge(sales, on = 'index', how = 'left').fillna(0)['sales'].values"
   ]
  },
  {
   "cell_type": "code",
   "execution_count": 18,
   "metadata": {},
   "outputs": [
    {
     "data": {
      "text/plain": [
       "array([1.698e+03, 1.376e+03, 5.100e+01, ..., 1.000e+00, 6.000e+00,\n",
       "       7.000e+00])"
      ]
     },
     "execution_count": 18,
     "metadata": {},
     "output_type": "execute_result"
    }
   ],
   "source": [
    "sales_by_index"
   ]
  },
  {
   "cell_type": "code",
   "execution_count": 23,
   "metadata": {},
   "outputs": [
    {
     "name": "stdout",
     "output_type": "stream",
     "text": [
      "Processing article 104546"
     ]
    }
   ],
   "source": [
    "### Mise au format liste pour insertion dans un DataFrame\n",
    "\n",
    "pairs_dataframes = []\n",
    "articles_by_chunks = 10000\n",
    "current_index = 0\n",
    "\n",
    "# Traitement par paquets de 10 000 \n",
    "while current_index < len(pairs_dictionnary):\n",
    "    pairs_list = []\n",
    "    # Boucle sur les articles sources correspondants au paquet\n",
    "    for article_source in range(current_index, min(current_index + articles_by_chunks, len(pairs_dictionnary))):\n",
    "        \n",
    "        print(f\"\\rProcessing article {article_source}\", end=\"\")\n",
    "        \n",
    "        for article_dest in pairs_dictionnary[article_source].keys():\n",
    "            ratio = pairs_dictionnary[article_source][article_dest] / sales_by_index[article_source]\n",
    "            \n",
    "            if(ratio < 0.05):\n",
    "                continue \n",
    "            \n",
    "            pairs_list.append([\n",
    "                article_source,\n",
    "                article_dest,\n",
    "                ratio\n",
    "            ])\n",
    "            \n",
    "    # Création d'un dataframe\n",
    "    pairs = pd.DataFrame(pairs_list, columns = ['index_source', 'index_dest', 'ratio'])\n",
    "    pairs['index_source'] = pairs['index_source'].astype('int32')\n",
    "    pairs['index_dest'] = pairs['index_dest'].astype('int32')\n",
    "    pairs['ratio'] = pairs['ratio'].astype('float16')\n",
    "    \n",
    "    pairs_dataframes.append(pairs)\n",
    "    \n",
    "    current_index += articles_by_chunks"
   ]
  },
  {
   "cell_type": "code",
   "execution_count": 24,
   "metadata": {},
   "outputs": [],
   "source": [
    "pairs = pd.concat(pairs_dataframes)"
   ]
  },
  {
   "cell_type": "code",
   "execution_count": 29,
   "metadata": {},
   "outputs": [
    {
     "data": {
      "text/html": [
       "<div>\n",
       "<style scoped>\n",
       "    .dataframe tbody tr th:only-of-type {\n",
       "        vertical-align: middle;\n",
       "    }\n",
       "\n",
       "    .dataframe tbody tr th {\n",
       "        vertical-align: top;\n",
       "    }\n",
       "\n",
       "    .dataframe thead th {\n",
       "        text-align: right;\n",
       "    }\n",
       "</style>\n",
       "<table border=\"1\" class=\"dataframe\">\n",
       "  <thead>\n",
       "    <tr style=\"text-align: right;\">\n",
       "      <th></th>\n",
       "      <th>index_source</th>\n",
       "      <th>index_dest</th>\n",
       "      <th>ratio</th>\n",
       "    </tr>\n",
       "  </thead>\n",
       "  <tbody>\n",
       "    <tr>\n",
       "      <th>0</th>\n",
       "      <td>0</td>\n",
       "      <td>53832</td>\n",
       "      <td>0.058899</td>\n",
       "    </tr>\n",
       "    <tr>\n",
       "      <th>1</th>\n",
       "      <td>0</td>\n",
       "      <td>1711</td>\n",
       "      <td>0.065369</td>\n",
       "    </tr>\n",
       "    <tr>\n",
       "      <th>2</th>\n",
       "      <td>0</td>\n",
       "      <td>1</td>\n",
       "      <td>0.137207</td>\n",
       "    </tr>\n",
       "    <tr>\n",
       "      <th>3</th>\n",
       "      <td>0</td>\n",
       "      <td>72378</td>\n",
       "      <td>0.060669</td>\n",
       "    </tr>\n",
       "    <tr>\n",
       "      <th>4</th>\n",
       "      <td>0</td>\n",
       "      <td>24808</td>\n",
       "      <td>0.050049</td>\n",
       "    </tr>\n",
       "  </tbody>\n",
       "</table>\n",
       "</div>"
      ],
      "text/plain": [
       "   index_source  index_dest     ratio\n",
       "0             0       53832  0.058899\n",
       "1             0        1711  0.065369\n",
       "2             0           1  0.137207\n",
       "3             0       72378  0.060669\n",
       "4             0       24808  0.050049"
      ]
     },
     "execution_count": 29,
     "metadata": {},
     "output_type": "execute_result"
    }
   ],
   "source": [
    "pairs.to_pickle('pickles/articles_pairs.pkl')\n",
    "pairs.head()"
   ]
  },
  {
   "cell_type": "markdown",
   "metadata": {},
   "source": [
    "### Création des listings par Client\n",
    "#### Pour soumission Kaggle"
   ]
  },
  {
   "cell_type": "code",
   "execution_count": 50,
   "metadata": {},
   "outputs": [],
   "source": [
    "### CHECKPOINT\n",
    "import pandas as pd\n",
    "import gc\n",
    "\n",
    "articles = pd.read_pickle('pickles/articles_clean.pkl')\n",
    "articles = articles[['article_id']].reset_index()\n",
    "\n",
    "pairs = pd.read_pickle('pickles/articles_pairs.pkl')"
   ]
  },
  {
   "cell_type": "code",
   "execution_count": 55,
   "metadata": {},
   "outputs": [],
   "source": []
  },
  {
   "cell_type": "code",
   "execution_count": 51,
   "metadata": {},
   "outputs": [],
   "source": [
    "# Chargement de la liste des transactions \n",
    "transactions = pd.read_pickle('pickles/transactions_clean.pkl')\n",
    "transactions = transactions[transactions['week_number'] < 54]\n",
    "\n",
    "transactions = transactions.merge(articles, on = 'article_id', how = 'left').drop(columns = 'article_id', axis = 1)\n",
    "\n",
    "transactions = transactions.groupby(['customer_id', 'index'], as_index = False).agg(\n",
    "    week_number = ('week_number', 'min')\n",
    ")"
   ]
  },
  {
   "cell_type": "code",
   "execution_count": 57,
   "metadata": {},
   "outputs": [
    {
     "name": "stdout",
     "output_type": "stream",
     "text": [
      "Traitement des utilisateur 1000000 - 1020000"
     ]
    }
   ],
   "source": [
    "### Élaboration des listes par paquets\n",
    "\n",
    "customer_ids = transactions['customer_id'].unique()\n",
    "\n",
    "current_index = 0\n",
    "customers_by_chunks = 20000\n",
    "\n",
    "dataframes = []\n",
    "\n",
    "while current_index < len(customer_ids):\n",
    "    print(f\"\\rTraitement des utilisateur {current_index} - {current_index + customers_by_chunks}\", end = \"\")\n",
    "    \n",
    "    # Sélection d'un nombre restreint d'utilisateurs\n",
    "    customers_in_chunk = customer_ids[current_index: current_index + customers_by_chunks]\n",
    "    transactions_in_chunk = transactions[transactions['customer_id'].isin(customers_in_chunk)]\n",
    "\n",
    "    # Détermination des paires.\n",
    "    pairs_in_chunk = transactions_in_chunk.merge(pairs, left_on='index', right_on = 'index_source', how='inner')\n",
    "    \n",
    "    # Suppression des lignes où l'article appairé a déjà été acheté.\n",
    "    pairs_in_chunk = pairs_in_chunk.merge(transactions_in_chunk, left_on=['customer_id', 'index_dest'], right_on=['customer_id', 'index'], how = 'left', suffixes = ('__source', '__dest'))\n",
    "\n",
    "    pairs_in_chunk['week_number__dest'].fillna(100, inplace = True)\n",
    "\n",
    "    pairs_in_chunk = pairs_in_chunk[pairs_in_chunk['week_number__source'] < pairs_in_chunk['week_number__dest']]\n",
    "    \n",
    "    # Ajout de l'ID article originel.\n",
    "    pairs_in_chunk = pairs_in_chunk.merge(articles, left_on = 'index_dest', right_on = 'index')\n",
    "    \n",
    "    pairs_in_chunk = pairs_in_chunk.sort_values('ratio', ascending = False)\n",
    "    \n",
    "    # Finalisation de la liste.\n",
    "    pairs_list = pairs_in_chunk.groupby('customer_id', as_index = False, sort = False).agg(\n",
    "        list = ('article_id', lambda x: list(x))\n",
    "    )\n",
    "    pairs_list['list'] = pairs_list['list'].apply(lambda x: x[0:101])\n",
    "    \n",
    "    dataframes.append(pairs_list)\n",
    "    \n",
    "    # Passage au paquet suivant.\n",
    "    current_index += customers_by_chunks\n"
   ]
  },
  {
   "cell_type": "code",
   "execution_count": 58,
   "metadata": {},
   "outputs": [],
   "source": [
    "pairs_list = pd.concat(dataframes)"
   ]
  },
  {
   "cell_type": "code",
   "execution_count": 59,
   "metadata": {},
   "outputs": [
    {
     "data": {
      "text/html": [
       "<div>\n",
       "<style scoped>\n",
       "    .dataframe tbody tr th:only-of-type {\n",
       "        vertical-align: middle;\n",
       "    }\n",
       "\n",
       "    .dataframe tbody tr th {\n",
       "        vertical-align: top;\n",
       "    }\n",
       "\n",
       "    .dataframe thead th {\n",
       "        text-align: right;\n",
       "    }\n",
       "</style>\n",
       "<table border=\"1\" class=\"dataframe\">\n",
       "  <thead>\n",
       "    <tr style=\"text-align: right;\">\n",
       "      <th></th>\n",
       "      <th>customer_id</th>\n",
       "      <th>list</th>\n",
       "    </tr>\n",
       "  </thead>\n",
       "  <tbody>\n",
       "    <tr>\n",
       "      <th>0</th>\n",
       "      <td>02054367e574c7287a453fb3ae3174b8d5fa968ab1c418...</td>\n",
       "      <td>[0832482001, 0820484001, 0837351001, 083441201...</td>\n",
       "    </tr>\n",
       "    <tr>\n",
       "      <th>1</th>\n",
       "      <td>04e2301dc0581c5b443429e1614cf21ffe9b23d8d3fe05...</td>\n",
       "      <td>[0706104010, 0783969004, 0834799001, 068581600...</td>\n",
       "    </tr>\n",
       "    <tr>\n",
       "      <th>2</th>\n",
       "      <td>0456515f18cdd341dbb0077191bcd67e9e7738d81ed4f9...</td>\n",
       "      <td>[0847959002, 0803592003, 0798827001, 077290200...</td>\n",
       "    </tr>\n",
       "    <tr>\n",
       "      <th>3</th>\n",
       "      <td>0444412a01c8d761fa55b19bd29cf07bd80bfcbe82275a...</td>\n",
       "      <td>[0568601029, 0448515033, 0671444001, 079621000...</td>\n",
       "    </tr>\n",
       "    <tr>\n",
       "      <th>4</th>\n",
       "      <td>00336f6224d49f63d4c1f18315f0e82789f31be24506fa...</td>\n",
       "      <td>[0489435015, 0448509014, 0850259001, 064002101...</td>\n",
       "    </tr>\n",
       "  </tbody>\n",
       "</table>\n",
       "</div>"
      ],
      "text/plain": [
       "                                         customer_id  \\\n",
       "0  02054367e574c7287a453fb3ae3174b8d5fa968ab1c418...   \n",
       "1  04e2301dc0581c5b443429e1614cf21ffe9b23d8d3fe05...   \n",
       "2  0456515f18cdd341dbb0077191bcd67e9e7738d81ed4f9...   \n",
       "3  0444412a01c8d761fa55b19bd29cf07bd80bfcbe82275a...   \n",
       "4  00336f6224d49f63d4c1f18315f0e82789f31be24506fa...   \n",
       "\n",
       "                                                list  \n",
       "0  [0832482001, 0820484001, 0837351001, 083441201...  \n",
       "1  [0706104010, 0783969004, 0834799001, 068581600...  \n",
       "2  [0847959002, 0803592003, 0798827001, 077290200...  \n",
       "3  [0568601029, 0448515033, 0671444001, 079621000...  \n",
       "4  [0489435015, 0448509014, 0850259001, 064002101...  "
      ]
     },
     "execution_count": 59,
     "metadata": {},
     "output_type": "execute_result"
    }
   ],
   "source": [
    "pairs_list.to_pickle(\"pickles/articles_pairs_list.pkl\")\n",
    "pairs_list.head()"
   ]
  },
  {
   "cell_type": "markdown",
   "metadata": {},
   "source": [
    "#### Soumission Kaggle"
   ]
  },
  {
   "cell_type": "code",
   "execution_count": 64,
   "metadata": {},
   "outputs": [
    {
     "data": {
      "text/html": [
       "<div>\n",
       "<style scoped>\n",
       "    .dataframe tbody tr th:only-of-type {\n",
       "        vertical-align: middle;\n",
       "    }\n",
       "\n",
       "    .dataframe tbody tr th {\n",
       "        vertical-align: top;\n",
       "    }\n",
       "\n",
       "    .dataframe thead th {\n",
       "        text-align: right;\n",
       "    }\n",
       "</style>\n",
       "<table border=\"1\" class=\"dataframe\">\n",
       "  <thead>\n",
       "    <tr style=\"text-align: right;\">\n",
       "      <th></th>\n",
       "      <th>customer_id</th>\n",
       "      <th>prediction</th>\n",
       "    </tr>\n",
       "  </thead>\n",
       "  <tbody>\n",
       "    <tr>\n",
       "      <th>0</th>\n",
       "      <td>00000dbacae5abe5e23885899a1fa44253a17956c6d1c3...</td>\n",
       "      <td>0805000001 0877278002 0673396002 0825579001 08...</td>\n",
       "    </tr>\n",
       "    <tr>\n",
       "      <th>1</th>\n",
       "      <td>0000423b00ade91418cceaf3b26c6af3dd342b51fd051e...</td>\n",
       "      <td>0805406003 0573085042 0542402001 0792469001 07...</td>\n",
       "    </tr>\n",
       "    <tr>\n",
       "      <th>2</th>\n",
       "      <td>000058a12d5b43e67d225668fa1f8d618c13dc232df0ca...</td>\n",
       "      <td>0727808002 0858883001 0699080001 0685813005 08...</td>\n",
       "    </tr>\n",
       "    <tr>\n",
       "      <th>3</th>\n",
       "      <td>00005ca1c9ed5f5146b52ac8639a40ca9d57aeff4d1bd2...</td>\n",
       "      <td></td>\n",
       "    </tr>\n",
       "    <tr>\n",
       "      <th>4</th>\n",
       "      <td>00006413d8573cd20ed7128e53b7b13819fe5cfc2d801f...</td>\n",
       "      <td>0732206001 0896152001 0791587001 0927530006 08...</td>\n",
       "    </tr>\n",
       "    <tr>\n",
       "      <th>...</th>\n",
       "      <td>...</td>\n",
       "      <td>...</td>\n",
       "    </tr>\n",
       "    <tr>\n",
       "      <th>1371975</th>\n",
       "      <td>ffffbbf78b6eaac697a8a5dfbfd2bfa8113ee5b403e474...</td>\n",
       "      <td>0822311003 0872820004 0827957001 0822311012 08...</td>\n",
       "    </tr>\n",
       "    <tr>\n",
       "      <th>1371976</th>\n",
       "      <td>ffffcd5046a6143d29a04fb8c424ce494a76e5cdf4fab5...</td>\n",
       "      <td>0813406005 0470789019 0892558004 0918292001 08...</td>\n",
       "    </tr>\n",
       "    <tr>\n",
       "      <th>1371977</th>\n",
       "      <td>ffffcf35913a0bee60e8741cb2b4e78b8a98ee5ff2e6a1...</td>\n",
       "      <td>0706016001 0835561002 0795975003 0706016003 05...</td>\n",
       "    </tr>\n",
       "    <tr>\n",
       "      <th>1371978</th>\n",
       "      <td>ffffd7744cebcf3aca44ae7049d2a94b87074c3d4ffe38...</td>\n",
       "      <td>0817166001</td>\n",
       "    </tr>\n",
       "    <tr>\n",
       "      <th>1371979</th>\n",
       "      <td>ffffd9ac14e89946416d80e791d064701994755c3ab686...</td>\n",
       "      <td>0889870001</td>\n",
       "    </tr>\n",
       "  </tbody>\n",
       "</table>\n",
       "<p>1371980 rows × 2 columns</p>\n",
       "</div>"
      ],
      "text/plain": [
       "                                               customer_id  \\\n",
       "0        00000dbacae5abe5e23885899a1fa44253a17956c6d1c3...   \n",
       "1        0000423b00ade91418cceaf3b26c6af3dd342b51fd051e...   \n",
       "2        000058a12d5b43e67d225668fa1f8d618c13dc232df0ca...   \n",
       "3        00005ca1c9ed5f5146b52ac8639a40ca9d57aeff4d1bd2...   \n",
       "4        00006413d8573cd20ed7128e53b7b13819fe5cfc2d801f...   \n",
       "...                                                    ...   \n",
       "1371975  ffffbbf78b6eaac697a8a5dfbfd2bfa8113ee5b403e474...   \n",
       "1371976  ffffcd5046a6143d29a04fb8c424ce494a76e5cdf4fab5...   \n",
       "1371977  ffffcf35913a0bee60e8741cb2b4e78b8a98ee5ff2e6a1...   \n",
       "1371978  ffffd7744cebcf3aca44ae7049d2a94b87074c3d4ffe38...   \n",
       "1371979  ffffd9ac14e89946416d80e791d064701994755c3ab686...   \n",
       "\n",
       "                                                prediction  \n",
       "0        0805000001 0877278002 0673396002 0825579001 08...  \n",
       "1        0805406003 0573085042 0542402001 0792469001 07...  \n",
       "2        0727808002 0858883001 0699080001 0685813005 08...  \n",
       "3                                                           \n",
       "4        0732206001 0896152001 0791587001 0927530006 08...  \n",
       "...                                                    ...  \n",
       "1371975  0822311003 0872820004 0827957001 0822311012 08...  \n",
       "1371976  0813406005 0470789019 0892558004 0918292001 08...  \n",
       "1371977  0706016001 0835561002 0795975003 0706016003 05...  \n",
       "1371978                                         0817166001  \n",
       "1371979                                         0889870001  \n",
       "\n",
       "[1371980 rows x 2 columns]"
      ]
     },
     "execution_count": 64,
     "metadata": {},
     "output_type": "execute_result"
    },
    {
     "ename": "",
     "evalue": "",
     "output_type": "error",
     "traceback": [
      "\u001b[1;31mThe Kernel crashed while executing code in the the current cell or a previous cell. Please review the code in the cell(s) to identify a possible cause of the failure. Click <a href='https://aka.ms/vscodeJupyterKernelCrash'>here</a> for more info. View Jupyter <a href='command:jupyter.viewOutput'>log</a> for further details."
     ]
    }
   ],
   "source": [
    "pairs_list['prediction'] = pairs_list['list'].apply(lambda x: ' '.join(x[0:12]))\n",
    "\n",
    "customers = pd.read_pickle('pickles/customers_clean.pkl')\n",
    "\n",
    "submission = customers[['customer_id']].merge(pairs_list[['customer_id', 'prediction']], on = \"customer_id\", how = 'left').fillna('')\n",
    "\n",
    "submission.to_csv('submissions/submission_items_purchased_together.csv', index = False)\n",
    "submission"
   ]
  },
  {
   "cell_type": "markdown",
   "metadata": {},
   "source": [
    "**Score MAP@12 de la soumission Kaggle : 0.00361**"
   ]
  },
  {
   "cell_type": "markdown",
   "metadata": {},
   "source": [
    "#### Pour entraînement\n",
    "On enlève alors les données de la dernière semaine, et on n'élabore la liste que pour les clients qui ont des transactions à la dernière semaine.\n",
    "\n",
    "En principe il faudrait aussi regénérer entièrement la liste des paires. Nous avons choisi de ne pas le faire à ce stade, pour des raisons de temps de calcul."
   ]
  },
  {
   "cell_type": "code",
   "execution_count": null,
   "metadata": {},
   "outputs": [],
   "source": [
    "# Chargement de la liste des transactions \n",
    "transactions = pd.read_pickle('pickles/transactions_clean.pkl')\n",
    "\n",
    "customer_ids = transactions[transactions['week_number'] == 0]['customer_id'].unique()\n",
    "transactions = transactions[(transactions['week_number'] < 54) & (transactions['week_number'] > 0) & (transactions['customer_id'].isin(customer_ids))]\n",
    "\n",
    "transactions = transactions.merge(articles, on = 'article_id', how = 'left').drop(columns = 'article_id', axis = 1)\n",
    "\n",
    "transactions = transactions.groupby(['customer_id', 'index'], as_index = False).agg(\n",
    "    week_number = ('week_number', 'min')\n",
    ")"
   ]
  },
  {
   "cell_type": "code",
   "execution_count": 47,
   "metadata": {},
   "outputs": [],
   "source": [
    "pairs = pd.read_pickle('pickles/articles_pairs.pkl')\n",
    "\n",
    "# Détermination des paires.\n",
    "pairs = transactions.merge(pairs, left_on='index', right_on = 'index_source', how='inner')\n",
    "\n",
    "# Suppression des lignes où l'article appairé a déjà été acheté.\n",
    "pairs = pairs.merge(transactions, left_on=['customer_id', 'index_dest'], right_on=['customer_id', 'index'], how = 'left', suffixes = ('__source', '__dest'))\n",
    "\n",
    "pairs['week_number__dest'].fillna(100, inplace = True)\n",
    "\n",
    "pairs = pairs[pairs['week_number__source'] < pairs['week_number__dest']]\n",
    "\n",
    "# Ajout de l'ID article originel.\n",
    "pairs = pairs.merge(articles, left_on = 'index_dest', right_on = 'index')\n",
    "\n",
    "# Finalisation de la liste.\n",
    "pairs_list = pairs.groupby('customer_id', as_index = False, sort = False).agg(\n",
    "    list = ('article_id', lambda x: list(x))\n",
    ")\n",
    "pairs_list['list'] = pairs_list['list'].apply(lambda x: x[0:101])\n",
    "    \n"
   ]
  },
  {
   "cell_type": "code",
   "execution_count": 48,
   "metadata": {},
   "outputs": [
    {
     "data": {
      "text/html": [
       "<div>\n",
       "<style scoped>\n",
       "    .dataframe tbody tr th:only-of-type {\n",
       "        vertical-align: middle;\n",
       "    }\n",
       "\n",
       "    .dataframe tbody tr th {\n",
       "        vertical-align: top;\n",
       "    }\n",
       "\n",
       "    .dataframe thead th {\n",
       "        text-align: right;\n",
       "    }\n",
       "</style>\n",
       "<table border=\"1\" class=\"dataframe\">\n",
       "  <thead>\n",
       "    <tr style=\"text-align: right;\">\n",
       "      <th></th>\n",
       "      <th>customer_id</th>\n",
       "      <th>list</th>\n",
       "    </tr>\n",
       "  </thead>\n",
       "  <tbody>\n",
       "    <tr>\n",
       "      <th>0</th>\n",
       "      <td>00039306476aaf41a07fed942884f16b30abfa83a2a8be...</td>\n",
       "      <td>[0111593001, 0111593001, 0123173001, 011158600...</td>\n",
       "    </tr>\n",
       "    <tr>\n",
       "      <th>1</th>\n",
       "      <td>000fb6e772c5d0023892065e659963da90b1866035558e...</td>\n",
       "      <td>[0111593001, 0111593001, 0111593001, 011159300...</td>\n",
       "    </tr>\n",
       "    <tr>\n",
       "      <th>2</th>\n",
       "      <td>0073569a706784581f7916cbc61e6af44c9fa52eae38e4...</td>\n",
       "      <td>[0111593001, 0111593001, 0123173001, 012317300...</td>\n",
       "    </tr>\n",
       "    <tr>\n",
       "      <th>3</th>\n",
       "      <td>0127e534d8e740d7edfd0a32147a5606b82c9fd2bcf043...</td>\n",
       "      <td>[0111593001, 0123173001, 0111586001, 015834000...</td>\n",
       "    </tr>\n",
       "    <tr>\n",
       "      <th>4</th>\n",
       "      <td>017aea02140c5a2efed108966b7c9dca8719caf028e924...</td>\n",
       "      <td>[0111593001, 0111593001, 0111586001, 011158600...</td>\n",
       "    </tr>\n",
       "  </tbody>\n",
       "</table>\n",
       "</div>"
      ],
      "text/plain": [
       "                                         customer_id  \\\n",
       "0  00039306476aaf41a07fed942884f16b30abfa83a2a8be...   \n",
       "1  000fb6e772c5d0023892065e659963da90b1866035558e...   \n",
       "2  0073569a706784581f7916cbc61e6af44c9fa52eae38e4...   \n",
       "3  0127e534d8e740d7edfd0a32147a5606b82c9fd2bcf043...   \n",
       "4  017aea02140c5a2efed108966b7c9dca8719caf028e924...   \n",
       "\n",
       "                                                list  \n",
       "0  [0111593001, 0111593001, 0123173001, 011158600...  \n",
       "1  [0111593001, 0111593001, 0111593001, 011159300...  \n",
       "2  [0111593001, 0111593001, 0123173001, 012317300...  \n",
       "3  [0111593001, 0123173001, 0111586001, 015834000...  \n",
       "4  [0111593001, 0111593001, 0111586001, 011158600...  "
      ]
     },
     "execution_count": 48,
     "metadata": {},
     "output_type": "execute_result"
    }
   ],
   "source": [
    "pairs_list.to_pickle(\"pickles/articles_pairs_list_training.pkl\")\n",
    "pairs_list.head()"
   ]
  }
 ],
 "metadata": {
  "interpreter": {
   "hash": "556b15acb71fbccb0059bce8ff607ae84b982497bd2dd0381fcb515435bd8f90"
  },
  "kernelspec": {
   "display_name": "Python 3.9.7 ('base')",
   "language": "python",
   "name": "python3"
  },
  "language_info": {
   "codemirror_mode": {
    "name": "ipython",
    "version": 3
   },
   "file_extension": ".py",
   "mimetype": "text/x-python",
   "name": "python",
   "nbconvert_exporter": "python",
   "pygments_lexer": "ipython3",
   "version": "3.9.7"
  },
  "orig_nbformat": 4
 },
 "nbformat": 4,
 "nbformat_minor": 2
}
