{
 "cells": [
  {
   "cell_type": "markdown",
   "metadata": {},
   "source": [
    "## Détermination de groupes de codes postaux\n",
    "\n",
    "#### Idée\n",
    " les codes postaux ont été anonymisés, ils constituent donc une boîte noire que l'on ne peut pas utiliser telle quelle. <br/>Par contre, on peut supposer que certains types de vêtements associés à un type de climat (shorts, manteaux) n'ont pas les mêmes figures de ventes selon la zone géographique et éventuellement l'hémisphère.<br/>-> Nous allons donc tenter de déterminer des groupes de codes postaux.\n",
    "#### Features à contruire \n",
    "- Différentiel entre le minimum et le maximum de ventes pour chaque type de produit\n",
    "- Pic de vente pour chaque type de produit."
   ]
  },
  {
   "cell_type": "code",
   "execution_count": 52,
   "metadata": {},
   "outputs": [],
   "source": [
    "import pandas as pd\n",
    "import numpy as np"
   ]
  },
  {
   "cell_type": "markdown",
   "metadata": {},
   "source": [
    "### Création des features"
   ]
  },
  {
   "cell_type": "code",
   "execution_count": 7,
   "metadata": {},
   "outputs": [],
   "source": [
    "transactions = pd.read_pickle('pickles/transactions.pkl')"
   ]
  },
  {
   "cell_type": "code",
   "execution_count": 3,
   "metadata": {},
   "outputs": [
    {
     "name": "stderr",
     "output_type": "stream",
     "text": [
      "/tmp/ipykernel_6514/1705565447.py:1: FutureWarning: In a future version of pandas all arguments of DataFrame.drop except for the argument 'labels' will be keyword-only\n",
      "  transactions.drop(['t_dat', 'price', 'sales_channel_id', 'day_of_week', 'day_of_year'], 1, inplace = True)\n"
     ]
    }
   ],
   "source": [
    "transactions.drop(['t_dat', 'price', 'sales_channel_id', 'day_of_week', 'day_of_year'], 1, inplace = True)"
   ]
  },
  {
   "cell_type": "code",
   "execution_count": 4,
   "metadata": {},
   "outputs": [],
   "source": [
    "sales_by_week = transactions.groupby(['week_number', 'customer_id', 'article_id'], as_index = False).agg(\n",
    "    sales = ('article_id', 'count')\n",
    ")"
   ]
  },
  {
   "cell_type": "code",
   "execution_count": 5,
   "metadata": {},
   "outputs": [],
   "source": [
    "postal_codes = pd.read_pickle('pickles/customers_clean.pkl')\n",
    "postal_codes = postal_codes[['customer_id', 'postal_code']]"
   ]
  },
  {
   "cell_type": "code",
   "execution_count": 6,
   "metadata": {},
   "outputs": [],
   "source": [
    "sales_by_week = sales_by_week.merge(postal_codes, on = 'customer_id', how = 'left')"
   ]
  },
  {
   "cell_type": "code",
   "execution_count": 7,
   "metadata": {},
   "outputs": [],
   "source": [
    "sales_by_postal_code = sales_by_week.groupby(['article_id', 'week_number', 'postal_code'], as_index = False).agg(\n",
    "    sales = ('sales', 'sum')\n",
    ")"
   ]
  },
  {
   "cell_type": "code",
   "execution_count": 8,
   "metadata": {},
   "outputs": [],
   "source": [
    "sales_by_postal_code.to_pickle('pickles/sales_by_postal_code.pkl')"
   ]
  },
  {
   "cell_type": "code",
   "execution_count": 9,
   "metadata": {},
   "outputs": [],
   "source": [
    "# Ajout du type de produit\n",
    "articles = pd.read_pickle('pickles/articles_clean.pkl')\n",
    "sales_by_postal_code = pd.read_pickle('pickles/sales_by_postal_code.pkl')"
   ]
  },
  {
   "cell_type": "code",
   "execution_count": 10,
   "metadata": {},
   "outputs": [],
   "source": [
    "articles = articles[['article_id', 'product_type_name']]\n",
    "sales_by_postal_code = sales_by_postal_code.merge(articles, how = 'left', on = 'article_id')"
   ]
  },
  {
   "cell_type": "code",
   "execution_count": 11,
   "metadata": {},
   "outputs": [],
   "source": [
    "# Groupage et préparation des features\n",
    "sales_by_product_type = sales_by_postal_code.groupby(['week_number', 'postal_code', 'product_type_name'], as_index = False).agg(\n",
    "    sales = ('sales', 'sum')\n",
    ")"
   ]
  },
  {
   "cell_type": "code",
   "execution_count": 12,
   "metadata": {},
   "outputs": [],
   "source": [
    "sales_by_product_type.to_pickle('pickles/sales_by_product_type.pkl')"
   ]
  },
  {
   "cell_type": "code",
   "execution_count": 14,
   "metadata": {},
   "outputs": [],
   "source": [
    "# Récupérer le minimum et le maximum de vente pour chaque catégorie et code postal.\n",
    "sales_category_boundaries = sales_by_product_type.groupby(['postal_code', 'product_type_name'], as_index = False).agg(\n",
    "    sales_min = ('sales', 'min'),\n",
    "    sales_max = ('sales', 'max'),\n",
    "    max_index = ('sales', 'idxmax')\n",
    ")"
   ]
  },
  {
   "cell_type": "code",
   "execution_count": null,
   "metadata": {},
   "outputs": [],
   "source": [
    "sales_category_boundaries.to_pickle('pickles/sales_category_boundaries.pkl')\n"
   ]
  },
  {
   "cell_type": "code",
   "execution_count": 3,
   "metadata": {},
   "outputs": [],
   "source": [
    "sales_by_product_type = pd.read_pickle('pickles/sales_by_product_type.pkl')\n",
    "sales_category_boundaries = pd.read_pickle('pickles/sales_category_boundaries.pkl')"
   ]
  },
  {
   "cell_type": "code",
   "execution_count": null,
   "metadata": {},
   "outputs": [],
   "source": [
    "week_number_max = sales_by_product_type.loc[sales_category_boundaries['max_index']]['week_number']\n"
   ]
  },
  {
   "cell_type": "code",
   "execution_count": null,
   "metadata": {},
   "outputs": [],
   "source": [
    "sales_category_boundaries['week_number_max'] = week_number_max.reset_index()['week_number']"
   ]
  },
  {
   "cell_type": "code",
   "execution_count": null,
   "metadata": {},
   "outputs": [
    {
     "name": "stderr",
     "output_type": "stream",
     "text": [
      "/tmp/ipykernel_24448/1425819461.py:1: FutureWarning: In a future version of pandas all arguments of DataFrame.drop except for the argument 'labels' will be keyword-only\n",
      "  sales_category_boundaries.drop('max_index', 1, inplace = True)\n"
     ]
    }
   ],
   "source": [
    "sales_category_boundaries.drop('max_index', 1, inplace = True)"
   ]
  },
  {
   "cell_type": "code",
   "execution_count": null,
   "metadata": {},
   "outputs": [],
   "source": [
    "sales_category_boundaries.to_pickle('pickles/sales_category_boundaries.pkl')"
   ]
  },
  {
   "cell_type": "code",
   "execution_count": 15,
   "metadata": {},
   "outputs": [],
   "source": [
    "# Mapping des types de produits dans les codes postaux\n",
    "sales_category_boundaries = pd.read_pickle('pickles/sales_category_boundaries.pkl')\n",
    "postal_codes = pd.DataFrame()\n",
    "\n",
    "postal_codes['postal_code'] = sales_category_boundaries['postal_code'].unique()\n",
    "product_types = sales_category_boundaries['product_type_name'].sort_values().unique()"
   ]
  },
  {
   "cell_type": "code",
   "execution_count": 17,
   "metadata": {},
   "outputs": [],
   "source": [
    "#Don't use every product types, only those who has something to do with local weather.\n",
    "product_types_kept = ['Bikini top', 'Blanket', 'Coat', 'Gloves', 'Hoodie',\n",
    "       'Jacket','Scarf', 'Shorts', 'Sunglasses', 'Sweater', 'Swimwear bottom',\n",
    "       'Swimwear set', 'Swimwear top', 'Umbrella']"
   ]
  },
  {
   "cell_type": "code",
   "execution_count": 19,
   "metadata": {},
   "outputs": [],
   "source": [
    "\n",
    "\n",
    "for product_type in product_types_kept:\n",
    "    prefix = f\"{product_type}\".lower()\n",
    "    \n",
    "    product_type_feats = sales_category_boundaries[sales_category_boundaries['product_type_name'] == product_type]\n",
    "    product_type_feats = product_type_feats.rename({\n",
    "        'sales_min': f'{prefix}_min',\n",
    "        'sales_max': f'{prefix}_max',\n",
    "        'week_number_max': f'{prefix}_peak',\n",
    "    }, axis = 1).drop(columns = 'product_type_name', axis = 1)\n",
    "    \n",
    "    postal_codes = postal_codes.merge(product_type_feats, on = 'postal_code', how = 'left')\n",
    "    "
   ]
  },
  {
   "cell_type": "code",
   "execution_count": 22,
   "metadata": {},
   "outputs": [
    {
     "data": {
      "text/html": [
       "<div>\n",
       "<style scoped>\n",
       "    .dataframe tbody tr th:only-of-type {\n",
       "        vertical-align: middle;\n",
       "    }\n",
       "\n",
       "    .dataframe tbody tr th {\n",
       "        vertical-align: top;\n",
       "    }\n",
       "\n",
       "    .dataframe thead th {\n",
       "        text-align: right;\n",
       "    }\n",
       "</style>\n",
       "<table border=\"1\" class=\"dataframe\">\n",
       "  <thead>\n",
       "    <tr style=\"text-align: right;\">\n",
       "      <th></th>\n",
       "      <th>postal_code</th>\n",
       "      <th>bikini top_min_x</th>\n",
       "      <th>bikini top_max_x</th>\n",
       "      <th>bikini top_peak_x</th>\n",
       "      <th>blanket_min_x</th>\n",
       "      <th>blanket_max_x</th>\n",
       "      <th>blanket_peak_x</th>\n",
       "      <th>coat_min_x</th>\n",
       "      <th>coat_max_x</th>\n",
       "      <th>coat_peak_x</th>\n",
       "      <th>...</th>\n",
       "      <th>swimwear bottom_peak_y</th>\n",
       "      <th>swimwear set_min_y</th>\n",
       "      <th>swimwear set_max_y</th>\n",
       "      <th>swimwear set_peak_y</th>\n",
       "      <th>swimwear top_min_y</th>\n",
       "      <th>swimwear top_max_y</th>\n",
       "      <th>swimwear top_peak_y</th>\n",
       "      <th>umbrella_min_y</th>\n",
       "      <th>umbrella_max_y</th>\n",
       "      <th>umbrella_peak_y</th>\n",
       "    </tr>\n",
       "  </thead>\n",
       "  <tbody>\n",
       "    <tr>\n",
       "      <th>0</th>\n",
       "      <td>0000198d2c593b7d3df5a35282b74cf3a487b066286b2b...</td>\n",
       "      <td>NaN</td>\n",
       "      <td>NaN</td>\n",
       "      <td>NaN</td>\n",
       "      <td>NaN</td>\n",
       "      <td>NaN</td>\n",
       "      <td>NaN</td>\n",
       "      <td>NaN</td>\n",
       "      <td>NaN</td>\n",
       "      <td>NaN</td>\n",
       "      <td>...</td>\n",
       "      <td>NaN</td>\n",
       "      <td>NaN</td>\n",
       "      <td>NaN</td>\n",
       "      <td>NaN</td>\n",
       "      <td>NaN</td>\n",
       "      <td>NaN</td>\n",
       "      <td>NaN</td>\n",
       "      <td>NaN</td>\n",
       "      <td>NaN</td>\n",
       "      <td>NaN</td>\n",
       "    </tr>\n",
       "    <tr>\n",
       "      <th>1</th>\n",
       "      <td>00005652fb5323679a5d608ce8c94fbb57bc15d3d8c01a...</td>\n",
       "      <td>1.0</td>\n",
       "      <td>1.0</td>\n",
       "      <td>10.0</td>\n",
       "      <td>NaN</td>\n",
       "      <td>NaN</td>\n",
       "      <td>NaN</td>\n",
       "      <td>NaN</td>\n",
       "      <td>NaN</td>\n",
       "      <td>NaN</td>\n",
       "      <td>...</td>\n",
       "      <td>78.0</td>\n",
       "      <td>NaN</td>\n",
       "      <td>NaN</td>\n",
       "      <td>NaN</td>\n",
       "      <td>NaN</td>\n",
       "      <td>NaN</td>\n",
       "      <td>NaN</td>\n",
       "      <td>NaN</td>\n",
       "      <td>NaN</td>\n",
       "      <td>NaN</td>\n",
       "    </tr>\n",
       "    <tr>\n",
       "      <th>2</th>\n",
       "      <td>0000eda740da878fb9df474806be9597f043eb5f748091...</td>\n",
       "      <td>NaN</td>\n",
       "      <td>NaN</td>\n",
       "      <td>NaN</td>\n",
       "      <td>NaN</td>\n",
       "      <td>NaN</td>\n",
       "      <td>NaN</td>\n",
       "      <td>NaN</td>\n",
       "      <td>NaN</td>\n",
       "      <td>NaN</td>\n",
       "      <td>...</td>\n",
       "      <td>NaN</td>\n",
       "      <td>NaN</td>\n",
       "      <td>NaN</td>\n",
       "      <td>NaN</td>\n",
       "      <td>NaN</td>\n",
       "      <td>NaN</td>\n",
       "      <td>NaN</td>\n",
       "      <td>NaN</td>\n",
       "      <td>NaN</td>\n",
       "      <td>NaN</td>\n",
       "    </tr>\n",
       "    <tr>\n",
       "      <th>3</th>\n",
       "      <td>0001617618d0facf2ae73cdba7b8caefb3c05e6987a98a...</td>\n",
       "      <td>NaN</td>\n",
       "      <td>NaN</td>\n",
       "      <td>NaN</td>\n",
       "      <td>NaN</td>\n",
       "      <td>NaN</td>\n",
       "      <td>NaN</td>\n",
       "      <td>1.0</td>\n",
       "      <td>1.0</td>\n",
       "      <td>48.0</td>\n",
       "      <td>...</td>\n",
       "      <td>NaN</td>\n",
       "      <td>NaN</td>\n",
       "      <td>NaN</td>\n",
       "      <td>NaN</td>\n",
       "      <td>NaN</td>\n",
       "      <td>NaN</td>\n",
       "      <td>NaN</td>\n",
       "      <td>NaN</td>\n",
       "      <td>NaN</td>\n",
       "      <td>NaN</td>\n",
       "    </tr>\n",
       "    <tr>\n",
       "      <th>4</th>\n",
       "      <td>00016f13cb796865b053cda4d470b4a3146553eaa36241...</td>\n",
       "      <td>1.0</td>\n",
       "      <td>4.0</td>\n",
       "      <td>5.0</td>\n",
       "      <td>NaN</td>\n",
       "      <td>NaN</td>\n",
       "      <td>NaN</td>\n",
       "      <td>NaN</td>\n",
       "      <td>NaN</td>\n",
       "      <td>NaN</td>\n",
       "      <td>...</td>\n",
       "      <td>5.0</td>\n",
       "      <td>NaN</td>\n",
       "      <td>NaN</td>\n",
       "      <td>NaN</td>\n",
       "      <td>NaN</td>\n",
       "      <td>NaN</td>\n",
       "      <td>NaN</td>\n",
       "      <td>NaN</td>\n",
       "      <td>NaN</td>\n",
       "      <td>NaN</td>\n",
       "    </tr>\n",
       "    <tr>\n",
       "      <th>...</th>\n",
       "      <td>...</td>\n",
       "      <td>...</td>\n",
       "      <td>...</td>\n",
       "      <td>...</td>\n",
       "      <td>...</td>\n",
       "      <td>...</td>\n",
       "      <td>...</td>\n",
       "      <td>...</td>\n",
       "      <td>...</td>\n",
       "      <td>...</td>\n",
       "      <td>...</td>\n",
       "      <td>...</td>\n",
       "      <td>...</td>\n",
       "      <td>...</td>\n",
       "      <td>...</td>\n",
       "      <td>...</td>\n",
       "      <td>...</td>\n",
       "      <td>...</td>\n",
       "      <td>...</td>\n",
       "      <td>...</td>\n",
       "      <td>...</td>\n",
       "    </tr>\n",
       "    <tr>\n",
       "      <th>352331</th>\n",
       "      <td>ffffcc2ddf5fbe05ea3e2bdb5f920237c5167862fa906a...</td>\n",
       "      <td>1.0</td>\n",
       "      <td>3.0</td>\n",
       "      <td>17.0</td>\n",
       "      <td>NaN</td>\n",
       "      <td>NaN</td>\n",
       "      <td>NaN</td>\n",
       "      <td>1.0</td>\n",
       "      <td>1.0</td>\n",
       "      <td>81.0</td>\n",
       "      <td>...</td>\n",
       "      <td>17.0</td>\n",
       "      <td>NaN</td>\n",
       "      <td>NaN</td>\n",
       "      <td>NaN</td>\n",
       "      <td>NaN</td>\n",
       "      <td>NaN</td>\n",
       "      <td>NaN</td>\n",
       "      <td>NaN</td>\n",
       "      <td>NaN</td>\n",
       "      <td>NaN</td>\n",
       "    </tr>\n",
       "    <tr>\n",
       "      <th>352332</th>\n",
       "      <td>ffffd89fe6a23128efcee162ad22b229e0c7e3d9bba5a3...</td>\n",
       "      <td>1.0</td>\n",
       "      <td>5.0</td>\n",
       "      <td>61.0</td>\n",
       "      <td>NaN</td>\n",
       "      <td>NaN</td>\n",
       "      <td>NaN</td>\n",
       "      <td>NaN</td>\n",
       "      <td>NaN</td>\n",
       "      <td>NaN</td>\n",
       "      <td>...</td>\n",
       "      <td>14.0</td>\n",
       "      <td>NaN</td>\n",
       "      <td>NaN</td>\n",
       "      <td>NaN</td>\n",
       "      <td>NaN</td>\n",
       "      <td>NaN</td>\n",
       "      <td>NaN</td>\n",
       "      <td>NaN</td>\n",
       "      <td>NaN</td>\n",
       "      <td>NaN</td>\n",
       "    </tr>\n",
       "    <tr>\n",
       "      <th>352333</th>\n",
       "      <td>ffffdad63acd760f392e724af1e8fe05984ebef3749ede...</td>\n",
       "      <td>NaN</td>\n",
       "      <td>NaN</td>\n",
       "      <td>NaN</td>\n",
       "      <td>NaN</td>\n",
       "      <td>NaN</td>\n",
       "      <td>NaN</td>\n",
       "      <td>NaN</td>\n",
       "      <td>NaN</td>\n",
       "      <td>NaN</td>\n",
       "      <td>...</td>\n",
       "      <td>NaN</td>\n",
       "      <td>NaN</td>\n",
       "      <td>NaN</td>\n",
       "      <td>NaN</td>\n",
       "      <td>NaN</td>\n",
       "      <td>NaN</td>\n",
       "      <td>NaN</td>\n",
       "      <td>NaN</td>\n",
       "      <td>NaN</td>\n",
       "      <td>NaN</td>\n",
       "    </tr>\n",
       "    <tr>\n",
       "      <th>352334</th>\n",
       "      <td>ffffdb8046b028cc705ae0b3bc0267ac7f2a44cd1e4b0b...</td>\n",
       "      <td>1.0</td>\n",
       "      <td>5.0</td>\n",
       "      <td>13.0</td>\n",
       "      <td>NaN</td>\n",
       "      <td>NaN</td>\n",
       "      <td>NaN</td>\n",
       "      <td>NaN</td>\n",
       "      <td>NaN</td>\n",
       "      <td>NaN</td>\n",
       "      <td>...</td>\n",
       "      <td>13.0</td>\n",
       "      <td>NaN</td>\n",
       "      <td>NaN</td>\n",
       "      <td>NaN</td>\n",
       "      <td>NaN</td>\n",
       "      <td>NaN</td>\n",
       "      <td>NaN</td>\n",
       "      <td>NaN</td>\n",
       "      <td>NaN</td>\n",
       "      <td>NaN</td>\n",
       "    </tr>\n",
       "    <tr>\n",
       "      <th>352335</th>\n",
       "      <td>ffffe14375fc30204f19ec3f8aafcd7739a3edba88abc9...</td>\n",
       "      <td>1.0</td>\n",
       "      <td>1.0</td>\n",
       "      <td>48.0</td>\n",
       "      <td>NaN</td>\n",
       "      <td>NaN</td>\n",
       "      <td>NaN</td>\n",
       "      <td>NaN</td>\n",
       "      <td>NaN</td>\n",
       "      <td>NaN</td>\n",
       "      <td>...</td>\n",
       "      <td>48.0</td>\n",
       "      <td>NaN</td>\n",
       "      <td>NaN</td>\n",
       "      <td>NaN</td>\n",
       "      <td>NaN</td>\n",
       "      <td>NaN</td>\n",
       "      <td>NaN</td>\n",
       "      <td>NaN</td>\n",
       "      <td>NaN</td>\n",
       "      <td>NaN</td>\n",
       "    </tr>\n",
       "  </tbody>\n",
       "</table>\n",
       "<p>352336 rows × 85 columns</p>\n",
       "</div>"
      ],
      "text/plain": [
       "                                              postal_code  bikini top_min_x  \\\n",
       "0       0000198d2c593b7d3df5a35282b74cf3a487b066286b2b...               NaN   \n",
       "1       00005652fb5323679a5d608ce8c94fbb57bc15d3d8c01a...               1.0   \n",
       "2       0000eda740da878fb9df474806be9597f043eb5f748091...               NaN   \n",
       "3       0001617618d0facf2ae73cdba7b8caefb3c05e6987a98a...               NaN   \n",
       "4       00016f13cb796865b053cda4d470b4a3146553eaa36241...               1.0   \n",
       "...                                                   ...               ...   \n",
       "352331  ffffcc2ddf5fbe05ea3e2bdb5f920237c5167862fa906a...               1.0   \n",
       "352332  ffffd89fe6a23128efcee162ad22b229e0c7e3d9bba5a3...               1.0   \n",
       "352333  ffffdad63acd760f392e724af1e8fe05984ebef3749ede...               NaN   \n",
       "352334  ffffdb8046b028cc705ae0b3bc0267ac7f2a44cd1e4b0b...               1.0   \n",
       "352335  ffffe14375fc30204f19ec3f8aafcd7739a3edba88abc9...               1.0   \n",
       "\n",
       "        bikini top_max_x  bikini top_peak_x  blanket_min_x  blanket_max_x  \\\n",
       "0                    NaN                NaN            NaN            NaN   \n",
       "1                    1.0               10.0            NaN            NaN   \n",
       "2                    NaN                NaN            NaN            NaN   \n",
       "3                    NaN                NaN            NaN            NaN   \n",
       "4                    4.0                5.0            NaN            NaN   \n",
       "...                  ...                ...            ...            ...   \n",
       "352331               3.0               17.0            NaN            NaN   \n",
       "352332               5.0               61.0            NaN            NaN   \n",
       "352333               NaN                NaN            NaN            NaN   \n",
       "352334               5.0               13.0            NaN            NaN   \n",
       "352335               1.0               48.0            NaN            NaN   \n",
       "\n",
       "        blanket_peak_x  coat_min_x  coat_max_x  coat_peak_x  ...  \\\n",
       "0                  NaN         NaN         NaN          NaN  ...   \n",
       "1                  NaN         NaN         NaN          NaN  ...   \n",
       "2                  NaN         NaN         NaN          NaN  ...   \n",
       "3                  NaN         1.0         1.0         48.0  ...   \n",
       "4                  NaN         NaN         NaN          NaN  ...   \n",
       "...                ...         ...         ...          ...  ...   \n",
       "352331             NaN         1.0         1.0         81.0  ...   \n",
       "352332             NaN         NaN         NaN          NaN  ...   \n",
       "352333             NaN         NaN         NaN          NaN  ...   \n",
       "352334             NaN         NaN         NaN          NaN  ...   \n",
       "352335             NaN         NaN         NaN          NaN  ...   \n",
       "\n",
       "        swimwear bottom_peak_y  swimwear set_min_y  swimwear set_max_y  \\\n",
       "0                          NaN                 NaN                 NaN   \n",
       "1                         78.0                 NaN                 NaN   \n",
       "2                          NaN                 NaN                 NaN   \n",
       "3                          NaN                 NaN                 NaN   \n",
       "4                          5.0                 NaN                 NaN   \n",
       "...                        ...                 ...                 ...   \n",
       "352331                    17.0                 NaN                 NaN   \n",
       "352332                    14.0                 NaN                 NaN   \n",
       "352333                     NaN                 NaN                 NaN   \n",
       "352334                    13.0                 NaN                 NaN   \n",
       "352335                    48.0                 NaN                 NaN   \n",
       "\n",
       "        swimwear set_peak_y  swimwear top_min_y  swimwear top_max_y  \\\n",
       "0                       NaN                 NaN                 NaN   \n",
       "1                       NaN                 NaN                 NaN   \n",
       "2                       NaN                 NaN                 NaN   \n",
       "3                       NaN                 NaN                 NaN   \n",
       "4                       NaN                 NaN                 NaN   \n",
       "...                     ...                 ...                 ...   \n",
       "352331                  NaN                 NaN                 NaN   \n",
       "352332                  NaN                 NaN                 NaN   \n",
       "352333                  NaN                 NaN                 NaN   \n",
       "352334                  NaN                 NaN                 NaN   \n",
       "352335                  NaN                 NaN                 NaN   \n",
       "\n",
       "        swimwear top_peak_y  umbrella_min_y  umbrella_max_y  umbrella_peak_y  \n",
       "0                       NaN             NaN             NaN              NaN  \n",
       "1                       NaN             NaN             NaN              NaN  \n",
       "2                       NaN             NaN             NaN              NaN  \n",
       "3                       NaN             NaN             NaN              NaN  \n",
       "4                       NaN             NaN             NaN              NaN  \n",
       "...                     ...             ...             ...              ...  \n",
       "352331                  NaN             NaN             NaN              NaN  \n",
       "352332                  NaN             NaN             NaN              NaN  \n",
       "352333                  NaN             NaN             NaN              NaN  \n",
       "352334                  NaN             NaN             NaN              NaN  \n",
       "352335                  NaN             NaN             NaN              NaN  \n",
       "\n",
       "[352336 rows x 85 columns]"
      ]
     },
     "execution_count": 22,
     "metadata": {},
     "output_type": "execute_result"
    }
   ],
   "source": [
    "postal_codes.dropna(subset = ['postal_code'], inplace = True)\n",
    "postal_codes.to_pickle('pickles/postal_codes_features')\n",
    "postal_codes"
   ]
  },
  {
   "cell_type": "markdown",
   "metadata": {},
   "source": [
    "### Normalization et réduction de dimension\n",
    "Voir le code de `preparing_postal_code_features.py`\n",
    "\n",
    "### Lancement du modèle"
   ]
  },
  {
   "cell_type": "code",
   "execution_count": 2,
   "metadata": {},
   "outputs": [],
   "source": [
    "from sklearn.cluster import KMeans\n",
    "import pandas as pd\n",
    "import numpy as np\n",
    "from sklearn.pipeline import Pipeline\n",
    "from sklearn.preprocessing import MinMaxScaler, PolynomialFeatures\n",
    "import matplotlib.pyplot as plt\n",
    "import pickle\n",
    "from sklearn.decomposition import PCA\n",
    "from utils.map12_from_series import map12_from_series\n",
    "\n",
    "postal_codes = pd.read_pickle('pickles/postal_codes_features')\n",
    "feats = postal_codes.drop(columns = 'postal_code', axis = 1).fillna(0).astype(int)\n",
    "\n",
    "pca = PCA(n_components=0.95)\n",
    "scaler = MinMaxScaler()     \n",
    "\n",
    "pipeline = Pipeline(steps = [\n",
    "    ('scaler', scaler),\n",
    "    ('pca', pca),                       \n",
    "])"
   ]
  },
  {
   "cell_type": "code",
   "execution_count": 3,
   "metadata": {},
   "outputs": [],
   "source": [
    "# Chargement des transactions pour créer un jeu de données de validation\n",
    "transactions = pd.read_pickle('pickles/transactions.pkl')\n",
    "customers = pd.read_pickle('pickles/customers.pkl')"
   ]
  },
  {
   "cell_type": "code",
   "execution_count": 4,
   "metadata": {},
   "outputs": [],
   "source": [
    "last_week_sales = transactions[transactions['week_number'] == 0]\n",
    "last_week_sales = last_week_sales.merge(customers[['customer_id', 'postal_code']], on = 'customer_id', how = 'left')\n",
    "\n",
    "validation_data = last_week_sales.groupby(['customer_id', 'postal_code'], as_index = False).agg(\n",
    "    purchased_articles = ('article_id', lambda x: list(x))\n",
    ")"
   ]
  },
  {
   "cell_type": "code",
   "execution_count": 5,
   "metadata": {},
   "outputs": [],
   "source": [
    "\n",
    "# Groupage par code postal\n",
    "last_week_sales = last_week_sales.groupby(['postal_code', 'article_id'], as_index = False).agg(\n",
    "    sales = ('article_id', 'count')\n",
    ")"
   ]
  },
  {
   "cell_type": "code",
   "execution_count": 6,
   "metadata": {},
   "outputs": [
    {
     "data": {
      "text/plain": [
       "0"
      ]
     },
     "execution_count": 6,
     "metadata": {},
     "output_type": "execute_result"
    }
   ],
   "source": [
    "validation_data['postal_code'].isna().sum()"
   ]
  },
  {
   "cell_type": "code",
   "execution_count": 7,
   "metadata": {},
   "outputs": [
    {
     "name": "stderr",
     "output_type": "stream",
     "text": [
      "/tmp/ipykernel_21173/3372434727.py:7: SettingWithCopyWarning: \n",
      "A value is trying to be set on a copy of a slice from a DataFrame.\n",
      "Try using .loc[row_indexer,col_indexer] = value instead\n",
      "\n",
      "See the caveats in the documentation: https://pandas.pydata.org/pandas-docs/stable/user_guide/indexing.html#returning-a-view-versus-a-copy\n",
      "  top_sales['prediction'] = [top_sales_list] * len(top_sales)\n"
     ]
    },
    {
     "name": "stdout",
     "output_type": "stream",
     "text": [
      "Score des articles les plus populaires:  0.010221290725402028\n"
     ]
    }
   ],
   "source": [
    "# Calculer le score MAP@12 de la liste des articles les plus populaires, comme point de comparaison\n",
    "top_sales_list = last_week_sales.groupby('article_id', as_index = False).agg(\n",
    "    sales = ('article_id', 'count')\n",
    ").nlargest(12, 'sales')['article_id'].to_list()\n",
    "\n",
    "top_sales = validation_data[['purchased_articles']]\n",
    "top_sales['prediction'] = [top_sales_list] * len(top_sales)\n",
    "\n",
    "top_sales_score = map12_from_series(top_sales['purchased_articles'], top_sales['prediction']).sum() / len(top_sales)\n",
    "print(\"Score des articles les plus populaires: \", top_sales_score)"
   ]
  },
  {
   "cell_type": "markdown",
   "metadata": {},
   "source": [
    "### Recherche de la meilleure clusterisation\n",
    "#### 1. Sans features polynomiales"
   ]
  },
  {
   "cell_type": "code",
   "execution_count": null,
   "metadata": {},
   "outputs": [],
   "source": [
    "X = pipeline.fit_transform(feats)"
   ]
  },
  {
   "cell_type": "code",
   "execution_count": null,
   "metadata": {},
   "outputs": [],
   "source": [
    "# Recherche du nombre de clusters qui donnera le meilleur score MAP@12\n",
    "score_curve = [top_sales_score] \n",
    "best_score = 0\n",
    "\n",
    "for k in range(2, 10):\n",
    "    \n",
    "    print(f\"\\r Entraînement pour {k} clusters                    \", end=\"\")\n",
    "    model = KMeans(n_clusters=k).fit(X)\n",
    "    clusters = model.predict(X)\n",
    "    \n",
    "    # Process a top sales list for each groups.\n",
    "    postal_codes_groups = postal_codes[['postal_code']]\n",
    "    postal_codes_groups.loc[:, 'group'] = clusters\n",
    "    \n",
    "    top_sales_by_group = last_week_sales.merge(postal_codes_groups, on ='postal_code', how='left').groupby(\n",
    "        ['group', 'article_id'],\n",
    "        as_index = False\n",
    "    ).agg(\n",
    "        sales = ('sales', 'sum')\n",
    "    )\n",
    "    \n",
    "    print(f\"\\r Mise en forme des données                   \", end=\"\")\n",
    "    \n",
    "    # Assign the lists to each postal code\n",
    "    top_sales_lists = {}\n",
    "    for group in range(0, k + 1):\n",
    "        top_sales_lists[group] = top_sales_by_group.loc[top_sales_by_group['group'] == group].nlargest(12, columns = ['sales'])['article_id'].to_list()\n",
    "    \n",
    "    postal_codes_groups.loc[:, 'prediction'] = postal_codes_groups.loc[:, 'group'].apply(lambda x: top_sales_lists[x])\n",
    "    \n",
    "    # Put the prediction aside of the real lists.\n",
    "    validation_data_with_prediction = validation_data.merge(postal_codes_groups, on = 'postal_code', how='left')\n",
    "    \n",
    "    print(f\"\\r Calcul du score pour {k} clusters                 \", end=\"\")\n",
    "    score = map12_from_series(validation_data_with_prediction['purchased_articles'], validation_data_with_prediction['prediction']).sum() / len(validation_data_with_prediction)\n",
    "    \n",
    "    print(f\"Score pour {k} clusters: {score}\")\n",
    "    \n",
    "    if score > best_score:\n",
    "        best_model = model\n",
    "        best_clusters = clusters\n",
    "        \n",
    "    score_curve.append(score)"
   ]
  },
  {
   "cell_type": "code",
   "execution_count": 30,
   "metadata": {},
   "outputs": [
    {
     "data": {
      "image/png": "[encoded data removed]",
      "text/plain": [
       "<Figure size 576x288 with 1 Axes>"
      ]
     },
     "metadata": {
      "needs_background": "light"
     },
     "output_type": "display_data"
    }
   ],
   "source": [
    "import matplotlib.pyplot as plt\n",
    "\n",
    "plt.figure(figsize=(8, 4))\n",
    "plt.plot(range(1, 10), score_curve, \"bo-\")\n",
    "plt.xlabel(\"Nombre de clusters\", fontsize=14)\n",
    "plt.ylabel(\"Score MAP@12\", fontsize=14)\n",
    "plt.title('Évaluation de la liste des 12 meilleures ventes avec groupage par code postal')\n",
    "plt.show()"
   ]
  },
  {
   "cell_type": "markdown",
   "metadata": {},
   "source": [
    "#### 2. Avec features polynomiales"
   ]
  },
  {
   "cell_type": "code",
   "execution_count": 4,
   "metadata": {},
   "outputs": [],
   "source": [
    "# Ajout des features polynomiales\n",
    "\n",
    "polynomial_features = PolynomialFeatures(degree=2)\n",
    "X = pca.fit_transform(feats)\n",
    "X = polynomial_features.fit_transform(X)\n",
    "X = pca.fit_transform(X)\n",
    "X = scaler.fit_transform(X)"
   ]
  },
  {
   "cell_type": "code",
   "execution_count": 5,
   "metadata": {},
   "outputs": [],
   "source": [
    "# Partons sur 8 groupes.\n",
    " \n",
    "kmeans = KMeans(n_clusters=8)\n",
    "clusters = kmeans.fit_predict(X)"
   ]
  },
  {
   "cell_type": "code",
   "execution_count": 14,
   "metadata": {},
   "outputs": [
    {
     "name": "stdout",
     "output_type": "stream",
     "text": [
      "Score pour 8 clusters et features polynomiales: 0.010348885434011204\n"
     ]
    }
   ],
   "source": [
    "### Calcul du score\n",
    "\n",
    "# Process a top sales list for each groups.\n",
    "postal_codes_groups = postal_codes[['postal_code']]\n",
    "postal_codes_groups.loc[:, 'group'] = clusters\n",
    "\n",
    "top_sales_by_group = last_week_sales.merge(postal_codes_groups, on ='postal_code', how='left').groupby(\n",
    "    ['group', 'article_id'],\n",
    "    as_index = False\n",
    ").agg(\n",
    "    sales = ('sales', 'sum')\n",
    ")\n",
    "\n",
    "# Assign the lists to each postal code\n",
    "top_sales_lists = {}\n",
    "for group in range(0, 9):\n",
    "    top_sales_lists[group] = top_sales_by_group.loc[top_sales_by_group['group'] == group].nlargest(12, columns = ['sales'])['article_id'].to_list()\n",
    "\n",
    "postal_codes_groups.loc[:, 'prediction'] = postal_codes_groups.loc[:, 'group'].apply(lambda x: top_sales_lists[x])\n",
    "\n",
    "# Put the prediction aside of the real lists.\n",
    "validation_data_with_prediction = validation_data.merge(postal_codes_groups, on = 'postal_code', how='left')\n",
    "\n",
    "score = map12_from_series(validation_data_with_prediction['purchased_articles'], validation_data_with_prediction['prediction']).sum() / len(validation_data_with_prediction)\n",
    "\n",
    "print(\"Score pour 8 clusters et features polynomiales:\", score)"
   ]
  },
  {
   "cell_type": "code",
   "execution_count": 7,
   "metadata": {},
   "outputs": [],
   "source": [
    "postal_codes_groups.to_pickle(\"pickles/postal_code_groups.pkl\")"
   ]
  },
  {
   "cell_type": "markdown",
   "metadata": {},
   "source": [
    "#### Conclusion\n",
    "Le groupage par code postal semble amener un petit plus, mais très faible."
   ]
  },
  {
   "cell_type": "markdown",
   "metadata": {},
   "source": []
  }
 ],
 "metadata": {
  "interpreter": {
   "hash": "556b15acb71fbccb0059bce8ff607ae84b982497bd2dd0381fcb515435bd8f90"
  },
  "kernelspec": {
   "display_name": "Python 3.9.7 ('base')",
   "language": "python",
   "name": "python3"
  },
  "language_info": {
   "codemirror_mode": {
    "name": "ipython",
    "version": 3
   },
   "file_extension": ".py",
   "mimetype": "text/x-python",
   "name": "python",
   "nbconvert_exporter": "python",
   "pygments_lexer": "ipython3",
   "version": "3.9.7"
  },
  "orig_nbformat": 4
 },
 "nbformat": 4,
 "nbformat_minor": 2
}
