{
 "cells": [
  {
   "cell_type": "code",
   "execution_count": 1,
   "metadata": {},
   "outputs": [],
   "source": [
    "import pandas as pd\n",
    "import numpy as np\n",
    "import pickle"
   ]
  },
  {
   "cell_type": "code",
   "execution_count": 3,
   "metadata": {},
   "outputs": [],
   "source": [
    "transactions = pd.read_pickle('pickles/transactions_clean.pkl')"
   ]
  },
  {
   "cell_type": "code",
   "execution_count": 3,
   "metadata": {},
   "outputs": [],
   "source": [
    "transactions = transactions[transactions['week_number'] < 20]"
   ]
  },
  {
   "cell_type": "code",
   "execution_count": 4,
   "metadata": {},
   "outputs": [],
   "source": [
    "transactions['article_id'] = transactions['article_id'].astype(\"int32\")"
   ]
  },
  {
   "cell_type": "code",
   "execution_count": 5,
   "metadata": {},
   "outputs": [],
   "source": [
    "transactions = transactions.groupby(['customer_id', 'article_id'], as_index = False).agg(\n",
    "    sales = ('article_id', 'count'),\n",
    "    week_number = ('week_number', 'max')\n",
    ").sort_values('week_number', ascending = False)"
   ]
  },
  {
   "cell_type": "code",
   "execution_count": 6,
   "metadata": {},
   "outputs": [],
   "source": [
    "sales = transactions.groupby('article_id', as_index = False).agg(\n",
    "    sales = ('sales', 'sum')\n",
    ")"
   ]
  },
  {
   "cell_type": "code",
   "execution_count": 23,
   "metadata": {},
   "outputs": [],
   "source": [
    "purchase_lists = transactions.groupby(['customer_id'], as_index = False).agg(\n",
    "    purchases = ('article_id', lambda x: list(x)),\n",
    "    weeks = ('week_number', lambda x: list(x))\n",
    ")"
   ]
  },
  {
   "cell_type": "code",
   "execution_count": 24,
   "metadata": {},
   "outputs": [
    {
     "name": "stdout",
     "output_type": "stream",
     "text": [
      " Insertion des paires pour la ligne 659007 / 659008"
     ]
    }
   ],
   "source": [
    "pairs_dictionnary = {}\n",
    "\n",
    "total_lists = len(purchase_lists)\n",
    "current_line = 0\n",
    "\n",
    "def process_purchase_list(row):\n",
    "    global total_lists\n",
    "    global current_line\n",
    "\n",
    "    print(f\"\\r Insertion des paires pour la ligne {current_line} / {total_lists}\", end=\"\")\n",
    "    \n",
    "    length = len(row['purchases'])\n",
    "    \n",
    "    for i in range(0, length):\n",
    "        for j in range(i + 1, length):\n",
    "            \n",
    "            interval = row['weeks'][i] - row['weeks'][j] # Les n° de semaines sont inversés et partent de la fin du dataset.\n",
    "            \n",
    "            if interval  == 0:\n",
    "                continue\n",
    "                \n",
    "            article_source = row['purchases'][i]\n",
    "            article_dest = row['purchases'][j]\n",
    "            \n",
    "            if article_source not in pairs_dictionnary:\n",
    "                pairs_dictionnary[article_source] = {}\n",
    "                \n",
    "            if article_dest not in pairs_dictionnary[article_source]:\n",
    "                pairs_dictionnary[article_source][article_dest] = [0, 0]\n",
    "                \n",
    "            pairs_dictionnary[article_source][article_dest][0] += 1\n",
    "            pairs_dictionnary[article_source][article_dest][1] += interval\n",
    "            \n",
    "    current_line += 1\n",
    "            \n",
    "blank = purchase_lists.apply(process_purchase_list, axis = 1)"
   ]
  },
  {
   "cell_type": "code",
   "execution_count": 25,
   "metadata": {},
   "outputs": [],
   "source": [
    "# Mise au format liste pour insertion dans un DataFrame\n",
    "pairs_list = []\n",
    "\n",
    "for article_source in pairs_dictionnary.keys():\n",
    "    for article_dest in pairs_dictionnary[article_source].keys():\n",
    "        pairs_list.append([\n",
    "            article_source,\n",
    "            article_dest,\n",
    "            pairs_dictionnary[article_source][article_dest][0],\n",
    "            pairs_dictionnary[article_source][article_dest][1]\n",
    "        ])"
   ]
  },
  {
   "cell_type": "code",
   "execution_count": 26,
   "metadata": {},
   "outputs": [],
   "source": [
    "pickle.dump(pairs_list, open(\"pickles/articles_pairs_list.pkl\", 'wb'))"
   ]
  },
  {
   "cell_type": "code",
   "execution_count": 7,
   "metadata": {},
   "outputs": [],
   "source": [
    "\n",
    "pairs_list = pickle.load(open(\"pickles/articles_pairs_list.pkl\", 'rb'))"
   ]
  },
  {
   "cell_type": "code",
   "execution_count": 23,
   "metadata": {},
   "outputs": [],
   "source": [
    "# Création du DataFrame\n",
    "pairs = pd.DataFrame(pairs_list, columns = ['article_id', 'article_dest', 'count', 'intervals'])"
   ]
  },
  {
   "cell_type": "code",
   "execution_count": 24,
   "metadata": {},
   "outputs": [],
   "source": [
    "pairs = pairs.merge(sales, on = 'article_id', how = 'left')"
   ]
  },
  {
   "cell_type": "code",
   "execution_count": 25,
   "metadata": {},
   "outputs": [],
   "source": [
    "# Ne garder que les paires avec un nombre significatif de ventes.\n",
    "pairs = pairs[pairs['sales'] > 5]"
   ]
  },
  {
   "cell_type": "code",
   "execution_count": 26,
   "metadata": {},
   "outputs": [],
   "source": [
    "# Finalisation\n",
    "pairs['mean_interval'] = pairs['intervals'] / pairs['count']\n",
    "pairs['ratio'] = pairs['count'] / pairs['sales']\n",
    "pairs = pairs[pairs['ratio'] > 0.05]\n",
    "pairs.drop(columns = ['intervals', 'count', 'sales'], axis = 1, inplace = True)"
   ]
  },
  {
   "cell_type": "code",
   "execution_count": 31,
   "metadata": {},
   "outputs": [],
   "source": [
    "pairs.to_pickle('pickles/article_pairs.pkl')"
   ]
  },
  {
   "cell_type": "code",
   "execution_count": 29,
   "metadata": {},
   "outputs": [
    {
     "data": {
      "text/html": [
       "<div>\n",
       "<style scoped>\n",
       "    .dataframe tbody tr th:only-of-type {\n",
       "        vertical-align: middle;\n",
       "    }\n",
       "\n",
       "    .dataframe tbody tr th {\n",
       "        vertical-align: top;\n",
       "    }\n",
       "\n",
       "    .dataframe thead th {\n",
       "        text-align: right;\n",
       "    }\n",
       "</style>\n",
       "<table border=\"1\" class=\"dataframe\">\n",
       "  <thead>\n",
       "    <tr style=\"text-align: right;\">\n",
       "      <th></th>\n",
       "      <th>article_id</th>\n",
       "      <th>article_dest</th>\n",
       "      <th>mean_interval</th>\n",
       "      <th>ratio</th>\n",
       "    </tr>\n",
       "  </thead>\n",
       "  <tbody>\n",
       "    <tr>\n",
       "      <th>22843</th>\n",
       "      <td>903428001</td>\n",
       "      <td>921226007</td>\n",
       "      <td>2.0</td>\n",
       "      <td>0.062500</td>\n",
       "    </tr>\n",
       "    <tr>\n",
       "      <th>22844</th>\n",
       "      <td>903428001</td>\n",
       "      <td>889652001</td>\n",
       "      <td>2.0</td>\n",
       "      <td>0.062500</td>\n",
       "    </tr>\n",
       "    <tr>\n",
       "      <th>22845</th>\n",
       "      <td>903428001</td>\n",
       "      <td>568597007</td>\n",
       "      <td>2.0</td>\n",
       "      <td>0.062500</td>\n",
       "    </tr>\n",
       "    <tr>\n",
       "      <th>22846</th>\n",
       "      <td>903428001</td>\n",
       "      <td>516859008</td>\n",
       "      <td>2.0</td>\n",
       "      <td>0.062500</td>\n",
       "    </tr>\n",
       "    <tr>\n",
       "      <th>22847</th>\n",
       "      <td>903428001</td>\n",
       "      <td>562245099</td>\n",
       "      <td>2.0</td>\n",
       "      <td>0.062500</td>\n",
       "    </tr>\n",
       "    <tr>\n",
       "      <th>...</th>\n",
       "      <td>...</td>\n",
       "      <td>...</td>\n",
       "      <td>...</td>\n",
       "      <td>...</td>\n",
       "    </tr>\n",
       "    <tr>\n",
       "      <th>28763518</th>\n",
       "      <td>888140002</td>\n",
       "      <td>608776020</td>\n",
       "      <td>3.0</td>\n",
       "      <td>0.166667</td>\n",
       "    </tr>\n",
       "    <tr>\n",
       "      <th>28763519</th>\n",
       "      <td>888140002</td>\n",
       "      <td>892624003</td>\n",
       "      <td>3.0</td>\n",
       "      <td>0.166667</td>\n",
       "    </tr>\n",
       "    <tr>\n",
       "      <th>28763884</th>\n",
       "      <td>697920067</td>\n",
       "      <td>685813042</td>\n",
       "      <td>1.0</td>\n",
       "      <td>0.083333</td>\n",
       "    </tr>\n",
       "    <tr>\n",
       "      <th>28764296</th>\n",
       "      <td>679948010</td>\n",
       "      <td>782555003</td>\n",
       "      <td>5.0</td>\n",
       "      <td>0.142857</td>\n",
       "    </tr>\n",
       "    <tr>\n",
       "      <th>28764297</th>\n",
       "      <td>679948010</td>\n",
       "      <td>832323001</td>\n",
       "      <td>5.0</td>\n",
       "      <td>0.142857</td>\n",
       "    </tr>\n",
       "  </tbody>\n",
       "</table>\n",
       "<p>873146 rows × 4 columns</p>\n",
       "</div>"
      ],
      "text/plain": [
       "          article_id  article_dest  mean_interval     ratio\n",
       "22843      903428001     921226007            2.0  0.062500\n",
       "22844      903428001     889652001            2.0  0.062500\n",
       "22845      903428001     568597007            2.0  0.062500\n",
       "22846      903428001     516859008            2.0  0.062500\n",
       "22847      903428001     562245099            2.0  0.062500\n",
       "...              ...           ...            ...       ...\n",
       "28763518   888140002     608776020            3.0  0.166667\n",
       "28763519   888140002     892624003            3.0  0.166667\n",
       "28763884   697920067     685813042            1.0  0.083333\n",
       "28764296   679948010     782555003            5.0  0.142857\n",
       "28764297   679948010     832323001            5.0  0.142857\n",
       "\n",
       "[873146 rows x 4 columns]"
      ]
     },
     "execution_count": 29,
     "metadata": {},
     "output_type": "execute_result"
    }
   ],
   "source": [
    "pairs"
   ]
  },
  {
   "cell_type": "code",
   "execution_count": 4,
   "metadata": {},
   "outputs": [
    {
     "data": {
      "text/html": [
       "<div>\n",
       "<style scoped>\n",
       "    .dataframe tbody tr th:only-of-type {\n",
       "        vertical-align: middle;\n",
       "    }\n",
       "\n",
       "    .dataframe tbody tr th {\n",
       "        vertical-align: top;\n",
       "    }\n",
       "\n",
       "    .dataframe thead th {\n",
       "        text-align: right;\n",
       "    }\n",
       "</style>\n",
       "<table border=\"1\" class=\"dataframe\">\n",
       "  <thead>\n",
       "    <tr style=\"text-align: right;\">\n",
       "      <th></th>\n",
       "      <th>article_id</th>\n",
       "      <th>article_dest</th>\n",
       "      <th>mean_interval</th>\n",
       "      <th>ratio</th>\n",
       "    </tr>\n",
       "  </thead>\n",
       "  <tbody>\n",
       "    <tr>\n",
       "      <th>count</th>\n",
       "      <td>8.731460e+05</td>\n",
       "      <td>8.731460e+05</td>\n",
       "      <td>873146.000000</td>\n",
       "      <td>873146.000000</td>\n",
       "    </tr>\n",
       "    <tr>\n",
       "      <th>mean</th>\n",
       "      <td>7.484102e+08</td>\n",
       "      <td>7.985588e+08</td>\n",
       "      <td>6.684284</td>\n",
       "      <td>0.091234</td>\n",
       "    </tr>\n",
       "    <tr>\n",
       "      <th>std</th>\n",
       "      <td>1.145260e+08</td>\n",
       "      <td>1.211956e+08</td>\n",
       "      <td>4.438240</td>\n",
       "      <td>0.034677</td>\n",
       "    </tr>\n",
       "    <tr>\n",
       "      <th>min</th>\n",
       "      <td>1.100650e+08</td>\n",
       "      <td>1.087750e+08</td>\n",
       "      <td>1.000000</td>\n",
       "      <td>0.050209</td>\n",
       "    </tr>\n",
       "    <tr>\n",
       "      <th>25%</th>\n",
       "      <td>7.012650e+08</td>\n",
       "      <td>7.579710e+08</td>\n",
       "      <td>3.000000</td>\n",
       "      <td>0.062500</td>\n",
       "    </tr>\n",
       "    <tr>\n",
       "      <th>50%</th>\n",
       "      <td>7.727620e+08</td>\n",
       "      <td>8.348980e+08</td>\n",
       "      <td>6.000000</td>\n",
       "      <td>0.083333</td>\n",
       "    </tr>\n",
       "    <tr>\n",
       "      <th>75%</th>\n",
       "      <td>8.250630e+08</td>\n",
       "      <td>8.757670e+08</td>\n",
       "      <td>10.000000</td>\n",
       "      <td>0.111111</td>\n",
       "    </tr>\n",
       "    <tr>\n",
       "      <th>max</th>\n",
       "      <td>9.562170e+08</td>\n",
       "      <td>9.562170e+08</td>\n",
       "      <td>19.000000</td>\n",
       "      <td>0.500000</td>\n",
       "    </tr>\n",
       "  </tbody>\n",
       "</table>\n",
       "</div>"
      ],
      "text/plain": [
       "         article_id  article_dest  mean_interval          ratio\n",
       "count  8.731460e+05  8.731460e+05  873146.000000  873146.000000\n",
       "mean   7.484102e+08  7.985588e+08       6.684284       0.091234\n",
       "std    1.145260e+08  1.211956e+08       4.438240       0.034677\n",
       "min    1.100650e+08  1.087750e+08       1.000000       0.050209\n",
       "25%    7.012650e+08  7.579710e+08       3.000000       0.062500\n",
       "50%    7.727620e+08  8.348980e+08       6.000000       0.083333\n",
       "75%    8.250630e+08  8.757670e+08      10.000000       0.111111\n",
       "max    9.562170e+08  9.562170e+08      19.000000       0.500000"
      ]
     },
     "execution_count": 4,
     "metadata": {},
     "output_type": "execute_result"
    }
   ],
   "source": [
    "pairs.describe()"
   ]
  },
  {
   "cell_type": "markdown",
   "metadata": {},
   "source": [
    "### Création des listings par Client"
   ]
  },
  {
   "cell_type": "code",
   "execution_count": 1,
   "metadata": {},
   "outputs": [],
   "source": [
    "### CHECKPOINT\n",
    "import pandas as pd\n",
    "\n",
    "pairs = pd.read_pickle('pickles/article_pairs.pkl')"
   ]
  },
  {
   "cell_type": "code",
   "execution_count": 2,
   "metadata": {},
   "outputs": [],
   "source": [
    "transactions = pd.read_pickle('pickles/transactions.pkl')\n",
    "transactions = transactions[transactions['week_number'] < 27]"
   ]
  },
  {
   "cell_type": "code",
   "execution_count": 3,
   "metadata": {},
   "outputs": [],
   "source": [
    "transactions = transactions.groupby(['customer_id', 'article_id'], as_index = False).agg(\n",
    "    week_number = ('week_number', 'min')\n",
    ")"
   ]
  },
  {
   "cell_type": "code",
   "execution_count": 4,
   "metadata": {},
   "outputs": [],
   "source": [
    "transactions['article_id'] = transactions['article_id'].astype('int32')"
   ]
  },
  {
   "cell_type": "code",
   "execution_count": 5,
   "metadata": {},
   "outputs": [],
   "source": [
    "# Détermination des paires.\n",
    "pairs = transactions.merge(pairs, on='article_id', how='inner')\n"
   ]
  },
  {
   "cell_type": "code",
   "execution_count": 6,
   "metadata": {},
   "outputs": [],
   "source": [
    "# Suppression des lignes où l'article appairé a déjà été acheté.\n",
    "pairs = pairs.merge(transactions, left_on=['customer_id', 'article_dest'], right_on=['customer_id', 'article_id'], how = 'left', suffixes = ('_source', '_dest'))\n",
    "\n",
    "pairs['week_number_dest'].fillna(100, inplace = True)\n",
    "\n",
    "\n",
    "pairs = pairs[pairs['week_number_source'] > pairs['week_number_dest']]\n",
    "pairs['article_dest'] = '0' + pairs['article_dest'].astype(str)"
   ]
  },
  {
   "cell_type": "code",
   "execution_count": 9,
   "metadata": {},
   "outputs": [],
   "source": [
    "# Finalisation des listes.\n",
    "pairs_list = pairs.groupby('customer_id', as_index = False, sort = False).agg(\n",
    "    list = ('article_dest', lambda x: list(x))\n",
    ")\n",
    "pairs_list['list'] = pairs_list['list'].apply(lambda x: x[0:51])"
   ]
  },
  {
   "cell_type": "code",
   "execution_count": 10,
   "metadata": {},
   "outputs": [],
   "source": [
    "pairs_list.to_pickle(\"pickles/articles_pairs_list.pkl\")"
   ]
  },
  {
   "cell_type": "code",
   "execution_count": null,
   "metadata": {},
   "outputs": [],
   "source": []
  }
 ],
 "metadata": {
  "interpreter": {
   "hash": "556b15acb71fbccb0059bce8ff607ae84b982497bd2dd0381fcb515435bd8f90"
  },
  "kernelspec": {
   "display_name": "Python 3.9.7 ('base')",
   "language": "python",
   "name": "python3"
  },
  "language_info": {
   "codemirror_mode": {
    "name": "ipython",
    "version": 3
   },
   "file_extension": ".py",
   "mimetype": "text/x-python",
   "name": "python",
   "nbconvert_exporter": "python",
   "pygments_lexer": "ipython3",
   "version": "3.9.7"
  },
  "orig_nbformat": 4
 },
 "nbformat": 4,
 "nbformat_minor": 2
}
