{
 "cells": [
  {
   "cell_type": "markdown",
   "metadata": {},
   "source": [
    "## Shortlist d'articles\n",
    "\n",
    "Le but de ce notebook est de déterminer une liste restreinte d'articles, statique ou dynamique, qui sera utilisée pour les modélisations.\n",
    "\n",
    "On se basera pour cela sur les ventes, couplées aux critères suivants : \n",
    "- Groupe de client\n",
    "- Groupe de code postal\n",
    "- Âge du client\n",
    "- Catégories préférées par le client\n",
    "- Articles susceptibles d'être rachetés\n",
    "- Articles qui vont de pair avec des articles déjà achetés\n",
    "\n",
    "**L'idée est de déterminer une liste de 50 articles par client, sur la base de laquelle le score maximal obtenu sera satisfaisant.**"
   ]
  },
  {
   "cell_type": "code",
   "execution_count": 2,
   "metadata": {},
   "outputs": [],
   "source": [
    "import pandas as pd\n",
    "import numpy as np\n",
    "import swifter\n",
    "from utils.map12_from_score_table import map12_from_score_table\n",
    "from utils.map12_from_series import map12_from_series\n",
    "\n",
    "ages_centers = [15, 25, 35, 45, 55, 65]\n",
    "\n",
    "def get_maximum_score(purchased_articles, shortlist):\n",
    "    \"\"\"Get the maximum (linear) score that can be obtained with an article shortlist.\n",
    "\n",
    "    Args:\n",
    "        purchased_articles (pd.Series): Series containing the list of purchased article for each customer.\n",
    "        shortlist (pd.Series): Series containing the shortlist of articles for each customer.\n",
    "        \n",
    "        \n",
    "    Returns:\n",
    "        A pd.Series object containing the maximum linear score for each customer.\n",
    "    \"\"\"\n",
    "    return pd.concat([purchased_articles.rename('purchased_articles'), shortlist.rename('shortlist')], axis = 1).apply(\n",
    "        lambda x: min( \n",
    "            np.sum(\n",
    "                np.where(\n",
    "                    [article in x.purchased_articles for article in x.shortlist], # Gives one sub-point for right article.\n",
    "                    1, \n",
    "                    0\n",
    "                )\n",
    "            ) / min(len(x.purchased_articles), 12), # Predict 12 articles is sufficient for having the maximum score.\n",
    "            1 # The max score is 1 per article.\n",
    "        ),\n",
    "    axis=1)\n",
    "\n",
    "def max_score_curve(purchased_articles, shortlist, max = 100, step = 5):\n",
    "    curve = [0]\n",
    "    \n",
    "    length = len(shortlist)\n",
    "    \n",
    "    score = 0\n",
    "    \n",
    "    for i in np.arange(0, max, step):\n",
    "        print(f\"\\r Calcul pour les articles 1-{i}\", end=\"\")\n",
    "        score += get_maximum_score(\n",
    "                purchased_articles,\n",
    "                shortlist.apply(lambda x: x[i: i + step])\n",
    "            ).sum() / length\n",
    "            \n",
    "        curve.append(\n",
    "            score\n",
    "        )\n",
    "    \n",
    "    return curve"
   ]
  },
  {
   "cell_type": "markdown",
   "metadata": {},
   "source": [
    "### Création des données de validation\n",
    "Sur la base de la dernière semaine du jeu de données."
   ]
  },
  {
   "cell_type": "code",
   "execution_count": 2,
   "metadata": {},
   "outputs": [],
   "source": [
    "transactions = pd.read_pickle('pickles/transactions_clean.pkl')\n",
    "transactions_last_week = transactions[transactions['week_number'] == 0]"
   ]
  },
  {
   "cell_type": "code",
   "execution_count": 3,
   "metadata": {},
   "outputs": [],
   "source": [
    "validation_purchases = transactions_last_week.groupby(['customer_id'], as_index = False).agg(\n",
    "    purchase_list = ('article_id', lambda x: list(x))\n",
    ")"
   ]
  },
  {
   "cell_type": "markdown",
   "metadata": {},
   "source": [
    "### Création des listes pour chaque Client\n",
    "Ici, on travaille uniquement sur les clients qui ont des achats."
   ]
  },
  {
   "cell_type": "code",
   "execution_count": 4,
   "metadata": {},
   "outputs": [],
   "source": [
    "# Création d'une table Clients destinée à \n",
    "customers = pd.read_pickle('pickles/customers_second_iteration.pkl')\n",
    "\n",
    "# Ajout de la liste des achats effectués.\n",
    "validation_customers = validation_purchases[['customer_id']].merge(customers, on = 'customer_id', how = 'left')\n",
    "\n",
    "# Suppression des features inutiles pour la génération des listes.\n",
    "validation_customers.drop(['FN', 'Active', 'club_member_status',\n",
    "       'fashion_news_frequency', 'age', 'average_cart_articles',\n",
    "       'average_cart_price', 'total_carts', 'total_articles', 'total_price',\n",
    "       'average_cart_interval', 'repurchases', 'repurchases_interval'], 1, inplace = True)\n"
   ]
  },
  {
   "cell_type": "code",
   "execution_count": 5,
   "metadata": {},
   "outputs": [
    {
     "data": {
      "text/html": [
       "<div>\n",
       "<style scoped>\n",
       "    .dataframe tbody tr th:only-of-type {\n",
       "        vertical-align: middle;\n",
       "    }\n",
       "\n",
       "    .dataframe tbody tr th {\n",
       "        vertical-align: top;\n",
       "    }\n",
       "\n",
       "    .dataframe thead th {\n",
       "        text-align: right;\n",
       "    }\n",
       "</style>\n",
       "<table border=\"1\" class=\"dataframe\">\n",
       "  <thead>\n",
       "    <tr style=\"text-align: right;\">\n",
       "      <th></th>\n",
       "      <th>article_id</th>\n",
       "      <th>postal_code_group</th>\n",
       "      <th>group</th>\n",
       "      <th>sales</th>\n",
       "      <th>age_around_15</th>\n",
       "      <th>age_around_25</th>\n",
       "      <th>age_around_35</th>\n",
       "      <th>age_around_45</th>\n",
       "      <th>age_around_55</th>\n",
       "      <th>age_around_65</th>\n",
       "      <th>index_group_name</th>\n",
       "    </tr>\n",
       "  </thead>\n",
       "  <tbody>\n",
       "    <tr>\n",
       "      <th>0</th>\n",
       "      <td>0108775044</td>\n",
       "      <td>4</td>\n",
       "      <td>4</td>\n",
       "      <td>1</td>\n",
       "      <td>0.0</td>\n",
       "      <td>0.0</td>\n",
       "      <td>0.0</td>\n",
       "      <td>0.2</td>\n",
       "      <td>0.8</td>\n",
       "      <td>0.0</td>\n",
       "      <td>Ladieswear</td>\n",
       "    </tr>\n",
       "    <tr>\n",
       "      <th>1</th>\n",
       "      <td>0108775044</td>\n",
       "      <td>5</td>\n",
       "      <td>11</td>\n",
       "      <td>1</td>\n",
       "      <td>0.0</td>\n",
       "      <td>0.3</td>\n",
       "      <td>0.7</td>\n",
       "      <td>0.0</td>\n",
       "      <td>0.0</td>\n",
       "      <td>0.0</td>\n",
       "      <td>Ladieswear</td>\n",
       "    </tr>\n",
       "    <tr>\n",
       "      <th>2</th>\n",
       "      <td>0111565001</td>\n",
       "      <td>1</td>\n",
       "      <td>6</td>\n",
       "      <td>1</td>\n",
       "      <td>0.0</td>\n",
       "      <td>0.0</td>\n",
       "      <td>0.0</td>\n",
       "      <td>0.5</td>\n",
       "      <td>0.5</td>\n",
       "      <td>0.0</td>\n",
       "      <td>Ladieswear</td>\n",
       "    </tr>\n",
       "    <tr>\n",
       "      <th>3</th>\n",
       "      <td>0111565001</td>\n",
       "      <td>1</td>\n",
       "      <td>9</td>\n",
       "      <td>1</td>\n",
       "      <td>0.1</td>\n",
       "      <td>0.9</td>\n",
       "      <td>0.0</td>\n",
       "      <td>0.0</td>\n",
       "      <td>0.0</td>\n",
       "      <td>0.0</td>\n",
       "      <td>Ladieswear</td>\n",
       "    </tr>\n",
       "    <tr>\n",
       "      <th>4</th>\n",
       "      <td>0111565001</td>\n",
       "      <td>1</td>\n",
       "      <td>11</td>\n",
       "      <td>1</td>\n",
       "      <td>0.0</td>\n",
       "      <td>0.5</td>\n",
       "      <td>0.5</td>\n",
       "      <td>0.0</td>\n",
       "      <td>0.0</td>\n",
       "      <td>0.0</td>\n",
       "      <td>Ladieswear</td>\n",
       "    </tr>\n",
       "  </tbody>\n",
       "</table>\n",
       "</div>"
      ],
      "text/plain": [
       "   article_id  postal_code_group  group  sales  age_around_15  age_around_25  \\\n",
       "0  0108775044                  4      4      1            0.0            0.0   \n",
       "1  0108775044                  5     11      1            0.0            0.3   \n",
       "2  0111565001                  1      6      1            0.0            0.0   \n",
       "3  0111565001                  1      9      1            0.1            0.9   \n",
       "4  0111565001                  1     11      1            0.0            0.5   \n",
       "\n",
       "   age_around_35  age_around_45  age_around_55  age_around_65 index_group_name  \n",
       "0            0.0            0.2            0.8            0.0       Ladieswear  \n",
       "1            0.7            0.0            0.0            0.0       Ladieswear  \n",
       "2            0.0            0.5            0.5            0.0       Ladieswear  \n",
       "3            0.0            0.0            0.0            0.0       Ladieswear  \n",
       "4            0.5            0.0            0.0            0.0       Ladieswear  "
      ]
     },
     "execution_count": 5,
     "metadata": {},
     "output_type": "execute_result"
    }
   ],
   "source": [
    "# Création d'un index des ventes sur l'avant-dernière semaine.\n",
    "before_last_week_sales = transactions[transactions['week_number'] == 1]\n",
    "\n",
    "before_last_week_sales = transactions[transactions['week_number'] == 1].merge(customers, on = 'customer_id', how = 'left')\n",
    "\n",
    "top_sales_validation = before_last_week_sales.groupby(['article_id', 'postal_code_group', 'group'], as_index = False).agg(\n",
    "    sales = ('article_id', 'count'),\n",
    "    age_around_15 = ('age_around_15', 'sum'),\n",
    "    age_around_25 = ('age_around_25', 'sum'),\n",
    "    age_around_35 = ('age_around_35', 'sum'),\n",
    "    age_around_45 = ('age_around_45', 'sum'),\n",
    "    age_around_55 = ('age_around_55', 'sum'),\n",
    "    age_around_65 = ('age_around_65', 'sum'),\n",
    ")\n",
    "\n",
    "articles = pd.read_pickle('pickles/articles_second_iteration.pkl')\n",
    "\n",
    "top_sales_validation = top_sales_validation.merge(articles[['article_id', 'index_group_name']], on = 'article_id')\n",
    "top_sales_validation.head()"
   ]
  },
  {
   "cell_type": "markdown",
   "metadata": {},
   "source": [
    "#### Articles les plus vendus\n",
    "Génération de la liste des articles les plus vendus, toute catégorie / âge etc confondus."
   ]
  },
  {
   "cell_type": "code",
   "execution_count": 6,
   "metadata": {},
   "outputs": [
    {
     "data": {
      "text/html": [
       "<div>\n",
       "<style scoped>\n",
       "    .dataframe tbody tr th:only-of-type {\n",
       "        vertical-align: middle;\n",
       "    }\n",
       "\n",
       "    .dataframe tbody tr th {\n",
       "        vertical-align: top;\n",
       "    }\n",
       "\n",
       "    .dataframe thead th {\n",
       "        text-align: right;\n",
       "    }\n",
       "</style>\n",
       "<table border=\"1\" class=\"dataframe\">\n",
       "  <thead>\n",
       "    <tr style=\"text-align: right;\">\n",
       "      <th></th>\n",
       "      <th>customer_id</th>\n",
       "      <th>best_articles</th>\n",
       "    </tr>\n",
       "  </thead>\n",
       "  <tbody>\n",
       "    <tr>\n",
       "      <th>0</th>\n",
       "      <td>00039306476aaf41a07fed942884f16b30abfa83a2a8be...</td>\n",
       "      <td>[0909370001, 0865799006, 0918522001, 092424300...</td>\n",
       "    </tr>\n",
       "    <tr>\n",
       "      <th>1</th>\n",
       "      <td>0003e867a930d0d6842f923d6ba7c9b77aba33fe2a0fbf...</td>\n",
       "      <td>[0909370001, 0865799006, 0918522001, 092424300...</td>\n",
       "    </tr>\n",
       "    <tr>\n",
       "      <th>2</th>\n",
       "      <td>000493dd9fc463df1acc2081450c9e75ef8e87d5dd17ed...</td>\n",
       "      <td>[0909370001, 0865799006, 0918522001, 092424300...</td>\n",
       "    </tr>\n",
       "    <tr>\n",
       "      <th>3</th>\n",
       "      <td>000525e3fe01600d717da8423643a8303390a055c578ed...</td>\n",
       "      <td>[0909370001, 0865799006, 0918522001, 092424300...</td>\n",
       "    </tr>\n",
       "    <tr>\n",
       "      <th>4</th>\n",
       "      <td>00077dbd5c4a4991e092e63893ccf29294a9d5c46e8501...</td>\n",
       "      <td>[0909370001, 0865799006, 0918522001, 092424300...</td>\n",
       "    </tr>\n",
       "  </tbody>\n",
       "</table>\n",
       "</div>"
      ],
      "text/plain": [
       "                                         customer_id  \\\n",
       "0  00039306476aaf41a07fed942884f16b30abfa83a2a8be...   \n",
       "1  0003e867a930d0d6842f923d6ba7c9b77aba33fe2a0fbf...   \n",
       "2  000493dd9fc463df1acc2081450c9e75ef8e87d5dd17ed...   \n",
       "3  000525e3fe01600d717da8423643a8303390a055c578ed...   \n",
       "4  00077dbd5c4a4991e092e63893ccf29294a9d5c46e8501...   \n",
       "\n",
       "                                       best_articles  \n",
       "0  [0909370001, 0865799006, 0918522001, 092424300...  \n",
       "1  [0909370001, 0865799006, 0918522001, 092424300...  \n",
       "2  [0909370001, 0865799006, 0918522001, 092424300...  \n",
       "3  [0909370001, 0865799006, 0918522001, 092424300...  \n",
       "4  [0909370001, 0865799006, 0918522001, 092424300...  "
      ]
     },
     "execution_count": 6,
     "metadata": {},
     "output_type": "execute_result"
    }
   ],
   "source": [
    "top_sales_general = top_sales_validation.groupby('article_id', as_index = False)['sales'].sum().nlargest(n = 100, columns=\"sales\")['article_id'].tolist()\n",
    "validation_customers['best_articles'] = validation_customers['customer_id'].apply(lambda x: top_sales_general)\n",
    "validation_customers[['customer_id', 'best_articles']].head(5)"
   ]
  },
  {
   "cell_type": "markdown",
   "metadata": {},
   "source": [
    "#### Articles les plus vendus par groupe de code postal"
   ]
  },
  {
   "cell_type": "code",
   "execution_count": 7,
   "metadata": {},
   "outputs": [
    {
     "data": {
      "text/html": [
       "<div>\n",
       "<style scoped>\n",
       "    .dataframe tbody tr th:only-of-type {\n",
       "        vertical-align: middle;\n",
       "    }\n",
       "\n",
       "    .dataframe tbody tr th {\n",
       "        vertical-align: top;\n",
       "    }\n",
       "\n",
       "    .dataframe thead th {\n",
       "        text-align: right;\n",
       "    }\n",
       "</style>\n",
       "<table border=\"1\" class=\"dataframe\">\n",
       "  <thead>\n",
       "    <tr style=\"text-align: right;\">\n",
       "      <th></th>\n",
       "      <th>customer_id</th>\n",
       "      <th>postal_group_articles</th>\n",
       "    </tr>\n",
       "  </thead>\n",
       "  <tbody>\n",
       "    <tr>\n",
       "      <th>0</th>\n",
       "      <td>00039306476aaf41a07fed942884f16b30abfa83a2a8be...</td>\n",
       "      <td>[0909370001, 0751471001, 0865799006, 091852200...</td>\n",
       "    </tr>\n",
       "    <tr>\n",
       "      <th>1</th>\n",
       "      <td>0003e867a930d0d6842f923d6ba7c9b77aba33fe2a0fbf...</td>\n",
       "      <td>[0909370001, 0865799006, 0924243001, 091852200...</td>\n",
       "    </tr>\n",
       "    <tr>\n",
       "      <th>2</th>\n",
       "      <td>000493dd9fc463df1acc2081450c9e75ef8e87d5dd17ed...</td>\n",
       "      <td>[0909370001, 0751471001, 0865799006, 091852200...</td>\n",
       "    </tr>\n",
       "    <tr>\n",
       "      <th>3</th>\n",
       "      <td>000525e3fe01600d717da8423643a8303390a055c578ed...</td>\n",
       "      <td>[0909370001, 0918522001, 0924243001, 086579900...</td>\n",
       "    </tr>\n",
       "    <tr>\n",
       "      <th>4</th>\n",
       "      <td>00077dbd5c4a4991e092e63893ccf29294a9d5c46e8501...</td>\n",
       "      <td>[0909370001, 0918522001, 0706016001, 091829200...</td>\n",
       "    </tr>\n",
       "  </tbody>\n",
       "</table>\n",
       "</div>"
      ],
      "text/plain": [
       "                                         customer_id  \\\n",
       "0  00039306476aaf41a07fed942884f16b30abfa83a2a8be...   \n",
       "1  0003e867a930d0d6842f923d6ba7c9b77aba33fe2a0fbf...   \n",
       "2  000493dd9fc463df1acc2081450c9e75ef8e87d5dd17ed...   \n",
       "3  000525e3fe01600d717da8423643a8303390a055c578ed...   \n",
       "4  00077dbd5c4a4991e092e63893ccf29294a9d5c46e8501...   \n",
       "\n",
       "                               postal_group_articles  \n",
       "0  [0909370001, 0751471001, 0865799006, 091852200...  \n",
       "1  [0909370001, 0865799006, 0924243001, 091852200...  \n",
       "2  [0909370001, 0751471001, 0865799006, 091852200...  \n",
       "3  [0909370001, 0918522001, 0924243001, 086579900...  \n",
       "4  [0909370001, 0918522001, 0706016001, 091829200...  "
      ]
     },
     "execution_count": 7,
     "metadata": {},
     "output_type": "execute_result"
    }
   ],
   "source": [
    "postal_code_groups = top_sales_validation['postal_code_group'].unique()\n",
    "\n",
    "postal_codes_lists = {}\n",
    "\n",
    "top_sales_postal_code_groups = top_sales_validation.groupby(['article_id', 'postal_code_group'], as_index = False)['sales'].sum()\n",
    "\n",
    "for group in postal_code_groups :\n",
    "    postal_codes_lists[group] = top_sales_postal_code_groups[top_sales_postal_code_groups['postal_code_group'] == group].nlargest(n = 100, columns=\"sales\")['article_id'].tolist()\n",
    "\n",
    "validation_customers['postal_group_articles'] = validation_customers['postal_code_group'].apply(lambda x: postal_codes_lists[x])\n",
    "\n",
    "validation_customers[['customer_id', 'postal_group_articles']].head(5)"
   ]
  },
  {
   "cell_type": "markdown",
   "metadata": {},
   "source": [
    "#### Classement par groupe d'utilisateur"
   ]
  },
  {
   "cell_type": "code",
   "execution_count": 8,
   "metadata": {},
   "outputs": [],
   "source": [
    "customer_groups = top_sales_validation['group'].unique()\n",
    "\n",
    "customer_group_lists = {}\n",
    "\n",
    "top_sales_customer_groups = top_sales_validation.groupby(['article_id', 'group'], as_index = False)['sales'].sum()\n",
    "\n",
    "for group in customer_groups :\n",
    "    customer_group_lists[group] = top_sales_customer_groups[top_sales_customer_groups['group'] == group].nlargest(n = 100, columns=\"sales\")['article_id'].tolist()\n",
    "\n",
    "validation_customers['customer_group_articles'] = validation_customers['group'].apply(lambda x: customer_group_lists[x])"
   ]
  },
  {
   "cell_type": "markdown",
   "metadata": {},
   "source": [
    "#### Classement par catégorie"
   ]
  },
  {
   "cell_type": "code",
   "execution_count": 9,
   "metadata": {},
   "outputs": [],
   "source": [
    "categories = top_sales_validation['index_group_name'].unique()\n",
    "categories_string = []\n",
    "\n",
    "top_sales_categories = top_sales_validation.groupby(['article_id', 'index_group_name'], as_index = False)['sales'].sum()\n",
    "\n",
    "top_sales_category_lists = {}\n",
    "\n",
    "for category in categories:\n",
    "    category_string = category.split('/')[0].lower()\n",
    "    categories_string.append(category_string)\n",
    "    \n",
    "    top_sales_category_lists[category_string] = top_sales_categories[top_sales_categories['index_group_name'] == category].nlargest(n = 100, columns = ['sales'])\n",
    "    top_sales_category_lists[category_string]['shares'] = top_sales_category_lists[category_string]['sales'] / top_sales_category_lists[category_string]['sales'].sum()\n",
    "    top_sales_category_lists[category_string]['index_group_name'] = category_string\n"
   ]
  },
  {
   "cell_type": "code",
   "execution_count": 10,
   "metadata": {},
   "outputs": [],
   "source": [
    "def get_category_list(x, balanced = False):\n",
    "    global categories\n",
    "    global top_sales_category_lists\n",
    "    \n",
    "    top_sales_weighted = []\n",
    "    \n",
    "    for category in categories_string:\n",
    "    \n",
    "        if x[category] == 0:\n",
    "            continue\n",
    "        \n",
    "        column = 'shares' if balanced else 'sales'\n",
    "        \n",
    "        top_sales_category_lists[category]['sales_weighted'] = top_sales_category_lists[category][column] * x[category]\n",
    "        \n",
    "        top_sales_weighted.append(top_sales_category_lists[category])\n",
    "        \n",
    "    return pd.concat(top_sales_weighted).nlargest(n = 100, columns = ['sales_weighted'])['article_id'].tolist()\n",
    "\n",
    "def get_category_list_weighted(x):\n",
    "    return get_category_list(x, balanced = True)"
   ]
  },
  {
   "cell_type": "code",
   "execution_count": 11,
   "metadata": {},
   "outputs": [
    {
     "name": "stderr",
     "output_type": "stream",
     "text": [
      "Pandas Apply: 100%|██████████| 68984/68984 [01:20<00:00, 857.98it/s]\n"
     ]
    }
   ],
   "source": [
    "validation_customers['category_list'] = validation_customers.swifter.apply(get_category_list, axis = 1)\n"
   ]
  },
  {
   "cell_type": "code",
   "execution_count": 12,
   "metadata": {},
   "outputs": [
    {
     "name": "stderr",
     "output_type": "stream",
     "text": [
      "Pandas Apply: 100%|██████████| 68984/68984 [01:17<00:00, 884.82it/s]\n"
     ]
    }
   ],
   "source": [
    "# liste utilisant les parts de vente dans chaque catégorie et non les ventes en valeur absolue.\n",
    "validation_customers['category_list_balanced'] = validation_customers.swifter.apply(get_category_list_weighted, axis = 1)"
   ]
  },
  {
   "cell_type": "markdown",
   "metadata": {},
   "source": [
    "#### Classement par âge (pondération discrète)"
   ]
  },
  {
   "cell_type": "code",
   "execution_count": 13,
   "metadata": {},
   "outputs": [],
   "source": [
    "customer_age_lists = {}\n",
    "\n",
    "top_sales_ages = top_sales_validation.groupby('article_id', as_index = False).agg(\n",
    "    sales = ('sales', 'sum'),\n",
    "    age_around_15 = ('age_around_15', 'sum'),\n",
    "    age_around_25 = ('age_around_25', 'sum'),\n",
    "    age_around_35 = ('age_around_35', 'sum'),\n",
    "    age_around_45 = ('age_around_45', 'sum'),\n",
    "    age_around_55 = ('age_around_55', 'sum'),\n",
    "    age_around_65 = ('age_around_65', 'sum'),\n",
    ")\n",
    "\n",
    "validation_customers['age_articles'] = ''\n",
    "\n",
    "for age in ages_centers :\n",
    "    age_list = top_sales_ages.nlargest(n = 100, columns=f\"age_around_{age}\")['article_id'].tolist()\n",
    "    \n",
    "    validation_customers['age_articles'] = validation_customers.apply(\n",
    "        lambda x: \n",
    "            age_list if x[f\"age_around_{age}\"] > 0.5 \n",
    "            else x['age_articles']\n",
    "        , axis = 1\n",
    "    )"
   ]
  },
  {
   "cell_type": "markdown",
   "metadata": {},
   "source": [
    "#### Classement par âge (pondération continue)"
   ]
  },
  {
   "cell_type": "code",
   "execution_count": 14,
   "metadata": {},
   "outputs": [
    {
     "name": "stderr",
     "output_type": "stream",
     "text": [
      "Pandas Apply: 100%|██████████| 68984/68984 [02:23<00:00, 482.15it/s]\n"
     ]
    }
   ],
   "source": [
    "def age_weighted_list(x):\n",
    "    global top_sales_ages\n",
    "    \n",
    "    top_sales_ages['sales_weighted'] = 0\n",
    "    \n",
    "    for age in ages_centers:\n",
    "        column = f'age_around_{age}'\n",
    "        top_sales_ages['sales_weighted'] += top_sales_ages[column] * x[column]\n",
    "        \n",
    "    return top_sales_ages.nlargest(n = 100, columns = ['sales_weighted'])['article_id'].tolist()\n",
    "\n",
    "\n",
    "validation_customers['age_articles_weighted'] = validation_customers.swifter.apply(age_weighted_list, axis = 1)"
   ]
  },
  {
   "cell_type": "code",
   "execution_count": 15,
   "metadata": {},
   "outputs": [],
   "source": [
    "validation_purchases.to_pickle('pickles/second_iteration_validation_purchases.pkl')\n",
    "validation_customers.to_pickle('pickles/second_iteration_shortlists.pkl')"
   ]
  },
  {
   "cell_type": "code",
   "execution_count": 16,
   "metadata": {},
   "outputs": [
    {
     "name": "stdout",
     "output_type": "stream",
     "text": [
      " Calcul pour les articles 1-95"
     ]
    }
   ],
   "source": [
    "best_articles_curve = max_score_curve(validation_purchases['purchase_list'], validation_customers['best_articles'])"
   ]
  },
  {
   "cell_type": "code",
   "execution_count": 17,
   "metadata": {},
   "outputs": [
    {
     "name": "stdout",
     "output_type": "stream",
     "text": [
      " Calcul pour les articles 1-95"
     ]
    }
   ],
   "source": [
    "postal_group_curve = max_score_curve(validation_purchases['purchase_list'], validation_customers['postal_group_articles'])"
   ]
  },
  {
   "cell_type": "code",
   "execution_count": 18,
   "metadata": {},
   "outputs": [
    {
     "name": "stdout",
     "output_type": "stream",
     "text": [
      " Calcul pour les articles 1-95"
     ]
    }
   ],
   "source": [
    "customer_group_curve = max_score_curve(validation_purchases['purchase_list'], validation_customers['customer_group_articles'])"
   ]
  },
  {
   "cell_type": "code",
   "execution_count": 19,
   "metadata": {},
   "outputs": [
    {
     "name": "stdout",
     "output_type": "stream",
     "text": [
      " Calcul pour les articles 1-95"
     ]
    }
   ],
   "source": [
    "category_list_curve = max_score_curve(validation_purchases['purchase_list'], validation_customers['category_list'])"
   ]
  },
  {
   "cell_type": "code",
   "execution_count": 27,
   "metadata": {},
   "outputs": [
    {
     "name": "stdout",
     "output_type": "stream",
     "text": [
      " Calcul pour les articles 1-95"
     ]
    }
   ],
   "source": [
    "category_list_balanced_curve = max_score_curve(validation_purchases['purchase_list'], validation_customers['category_list_balanced'])"
   ]
  },
  {
   "cell_type": "code",
   "execution_count": 21,
   "metadata": {},
   "outputs": [
    {
     "name": "stdout",
     "output_type": "stream",
     "text": [
      " Calcul pour les articles 1-95"
     ]
    }
   ],
   "source": [
    "age_curve = max_score_curve(validation_purchases['purchase_list'], validation_customers['age_articles'])"
   ]
  },
  {
   "cell_type": "code",
   "execution_count": 26,
   "metadata": {},
   "outputs": [
    {
     "name": "stdout",
     "output_type": "stream",
     "text": [
      " Calcul pour les articles 1-95"
     ]
    }
   ],
   "source": [
    "age_weighted_curve = max_score_curve(validation_purchases['purchase_list'], validation_customers['age_articles_weighted'])"
   ]
  },
  {
   "cell_type": "code",
   "execution_count": 31,
   "metadata": {},
   "outputs": [
    {
     "data": {
      "image/png": "[encoded data removed]",
      "text/plain": [
       "<Figure size 576x432 with 1 Axes>"
      ]
     },
     "metadata": {
      "needs_background": "light"
     },
     "output_type": "display_data"
    }
   ],
   "source": [
    "import matplotlib.pyplot as plt\n",
    "%matplotlib inline\n",
    "\n",
    "x = np.arange(0, 101, 5)\n",
    "\n",
    "plt.figure(figsize = (8, 6))\n",
    "plt.plot(x, best_articles_curve, label = \"Ventes générales\")\n",
    "plt.plot(x, postal_group_curve, label = \"Par codes postaux\")\n",
    "plt.plot(x, customer_group_curve, label = \"Par cluster de clients\")\n",
    "plt.plot(x, category_list_curve, label = \"Par catégories préférées\")\n",
    "plt.plot(x, category_list_balanced_curve, label = \"Par catégories préférées (rééquilibré)\")\n",
    "plt.plot(x, age_curve, label = \"Par tranche d'âge (discrète)\")\n",
    "plt.plot(x, age_weighted_curve, label = \"Par tranche d'âge (continue)\")\n",
    "\n",
    "plt.xlabel(\"Nombre d'articles dans la sélection\")\n",
    "plt.ylabel(\"Précision@12 maximum\")\n",
    "plt.title(\"Score maximum selon différentes sélections d'articles\")\n",
    "plt.legend()\n",
    "\n",
    "plt.show()"
   ]
  },
  {
   "cell_type": "markdown",
   "metadata": {},
   "source": [
    "Les listes par âge (pondération continue), clustering de clients et surtout catégories préférées rééquilibrée offrent un gain potentiel significatif.\n",
    "Il serait donc opportun de croiser ses différentes listes."
   ]
  },
  {
   "cell_type": "markdown",
   "metadata": {},
   "source": [
    "#### Sélection croisée Groupe / Catégorie / Âge"
   ]
  },
  {
   "cell_type": "code",
   "execution_count": 38,
   "metadata": {},
   "outputs": [
    {
     "name": "stderr",
     "output_type": "stream",
     "text": [
      "/tmp/ipykernel_8145/611996942.py:29: SettingWithCopyWarning: \n",
      "A value is trying to be set on a copy of a slice from a DataFrame.\n",
      "Try using .loc[row_indexer,col_indexer] = value instead\n",
      "\n",
      "See the caveats in the documentation: https://pandas.pydata.org/pandas-docs/stable/user_guide/indexing.html#returning-a-view-versus-a-copy\n",
      "  cross_lists[group][category_string]['shares'] = cross_lists[group][category_string]['sales'] / cross_lists[group][category_string]['sales'].sum()\n",
      "/tmp/ipykernel_8145/611996942.py:30: SettingWithCopyWarning: \n",
      "A value is trying to be set on a copy of a slice from a DataFrame.\n",
      "Try using .loc[row_indexer,col_indexer] = value instead\n",
      "\n",
      "See the caveats in the documentation: https://pandas.pydata.org/pandas-docs/stable/user_guide/indexing.html#returning-a-view-versus-a-copy\n",
      "  cross_lists[group][category_string]['index_group_name'] = category_string\n"
     ]
    }
   ],
   "source": [
    "# Préparation des classements.\n",
    "\n",
    "groups = top_sales_validation['group'].unique()\n",
    "categories = top_sales_validation['index_group_name'].unique()\n",
    "\n",
    "cross_lists = {}\n",
    "\n",
    "top_sales_validation['index_group_name'] = top_sales_validation['index_group_name'].astype(str)\n",
    "\n",
    "top_sales_cross = top_sales_validation.groupby(['article_id', 'index_group_name', 'group'], as_index = False).agg(\n",
    "    sales = ('sales', 'sum'),\n",
    "    age_around_15 = ('age_around_15', 'sum'),\n",
    "    age_around_25 = ('age_around_25', 'sum'),\n",
    "    age_around_35 = ('age_around_35', 'sum'),\n",
    "    age_around_45 = ('age_around_45', 'sum'),\n",
    "    age_around_55 = ('age_around_55', 'sum'),\n",
    "    age_around_65 = ('age_around_65', 'sum'),\n",
    ")\n",
    "\n",
    "for group in groups :\n",
    "    cross_lists[group] = {}\n",
    "    \n",
    "    categories = top_sales_validation['index_group_name'].unique()\n",
    "\n",
    "    for category in categories:\n",
    "        category_string = category.split('/')[0].lower()\n",
    "        \n",
    "        cross_lists[group][category_string] = top_sales_cross[(top_sales_cross['group'] == group) & (top_sales_cross['index_group_name'] == category)]\n",
    "        cross_lists[group][category_string]['shares'] = cross_lists[group][category_string]['sales'] / cross_lists[group][category_string]['sales'].sum()\n",
    "        cross_lists[group][category_string]['index_group_name'] = category_string\n",
    "        cross_lists[group][category_string] = cross_lists[group][category_string].nlargest(n = 100, columns = 'shares')"
   ]
  },
  {
   "cell_type": "code",
   "execution_count": 2,
   "metadata": {},
   "outputs": [],
   "source": [
    "def get_cross_list(x):\n",
    "    global cross_lists\n",
    "    \n",
    "    top_sales_weighted = []\n",
    "    group = x['group']\n",
    "    \n",
    "    for category in cross_lists[group].keys():\n",
    "    \n",
    "        if x[category] == 0:\n",
    "            continue\n",
    "        \n",
    "        cross_lists[group][category]['shares_weighted'] = cross_lists[group][category]['shares'] * x[category]\n",
    "        cross_lists[group][category]['sales_cross_weighted'] = 0\n",
    "            \n",
    "        for age in ages_centers:\n",
    "            column = f\"age_around_{age}\"\n",
    "            \n",
    "            if x[column] == 0:\n",
    "                continue\n",
    "            \n",
    "            cross_lists[group][category]['sales_cross_weighted'] += cross_lists[group][category][column] * cross_lists[group][category]['shares_weighted']\n",
    "            \n",
    "            top_sales_weighted.append(cross_lists[group][category])\n",
    "    \n",
    "    if len(top_sales_weighted) == 0:\n",
    "        return []\n",
    "    \n",
    "    final_list = pd.concat(top_sales_weighted).groupby('article_id', as_index = False).agg(\n",
    "        sales_cross_weighted = ('sales_cross_weighted', 'max')\n",
    "    )\n",
    "    \n",
    "    return final_list.nlargest(n = 100, columns = ['sales_cross_weighted'])['article_id'].tolist()"
   ]
  },
  {
   "cell_type": "code",
   "execution_count": 41,
   "metadata": {},
   "outputs": [
    {
     "name": "stderr",
     "output_type": "stream",
     "text": [
      "Pandas Apply: 100%|██████████| 68984/68984 [05:24<00:00, 212.56it/s]\n"
     ]
    }
   ],
   "source": [
    "cross_list = validation_customers.swifter.apply(lambda x: get_cross_list(x), axis = 1)"
   ]
  },
  {
   "cell_type": "code",
   "execution_count": 43,
   "metadata": {},
   "outputs": [],
   "source": [
    "validation_customers['cross_list'] = cross_list"
   ]
  },
  {
   "cell_type": "code",
   "execution_count": null,
   "metadata": {},
   "outputs": [],
   "source": [
    "cross_curve = max_score_curve(validation_purchases['purchase_list'], validation_customers['cross_list'])"
   ]
  },
  {
   "cell_type": "code",
   "execution_count": 20,
   "metadata": {},
   "outputs": [],
   "source": [
    "validation_purchases = pd.read_pickle('pickles/second_iteration_validation_purchases.pkl')\n",
    "validation_customers = pd.read_pickle('pickles/second_iteration_shortlists.pkl')"
   ]
  },
  {
   "cell_type": "markdown",
   "metadata": {},
   "source": [
    "#### Articles susceptibles d'être rachetés"
   ]
  },
  {
   "cell_type": "code",
   "execution_count": 21,
   "metadata": {},
   "outputs": [],
   "source": [
    "already_purchased_list = pd.read_pickle('pickles/already_purchased_list_train.pkl')\n",
    "\n",
    "already_purchased_list = validation_purchases[['customer_id']].merge(already_purchased_list, on = 'customer_id', how = 'left')"
   ]
  },
  {
   "cell_type": "code",
   "execution_count": 22,
   "metadata": {},
   "outputs": [],
   "source": [
    "already_purchased_list[already_purchased_list['list'].isna()] = already_purchased_list[already_purchased_list['list'].isna()].fillna('').apply(list)"
   ]
  },
  {
   "cell_type": "code",
   "execution_count": null,
   "metadata": {},
   "outputs": [],
   "source": [
    "repurchase_curve = max_score_curve(validation_purchases['purchase_list'], already_purchased_list['list'])"
   ]
  },
  {
   "cell_type": "markdown",
   "metadata": {},
   "source": [
    "#### Paires d'articles\n",
    "Articles qui sont en général achetés ensemble "
   ]
  },
  {
   "cell_type": "code",
   "execution_count": 23,
   "metadata": {},
   "outputs": [],
   "source": [
    "pairs_list = pd.read_pickle(\"pickles/articles_pairs_list_training.pkl\")\n",
    "\n",
    "pairs_list = validation_purchases[['customer_id']].merge(pairs_list, on = 'customer_id', how = 'left')\n",
    "pairs_list[pairs_list['list'].isna()] = pairs_list[pairs_list['list'].isna()].fillna('').apply(list)"
   ]
  },
  {
   "cell_type": "code",
   "execution_count": 24,
   "metadata": {},
   "outputs": [
    {
     "name": "stdout",
     "output_type": "stream",
     "text": [
      " Calcul pour les articles 1-95"
     ]
    }
   ],
   "source": [
    "pairs_curve = max_score_curve(validation_purchases['purchase_list'], pairs_list['list'])"
   ]
  },
  {
   "cell_type": "code",
   "execution_count": 19,
   "metadata": {},
   "outputs": [
    {
     "data": {
      "image/png": "[encoded data removed]",
      "text/plain": [
       "<Figure size 576x432 with 1 Axes>"
      ]
     },
     "metadata": {
      "needs_background": "light"
     },
     "output_type": "display_data"
    }
   ],
   "source": [
    "import matplotlib.pyplot as plt\n",
    "%matplotlib inline\n",
    "\n",
    "x = np.arange(0, 101, 5)\n",
    "\n",
    "plt.figure(figsize = (8, 6))\n",
    "#plt.plot(x, best_articles_curve, label = \"Ventes générales\")\n",
    "plt.plot(x, repurchase_curve, label = \"Rachats potentiels\")\n",
    "plt.plot(x, pairs_curve, label = \"Articles achetés de pair\")\n",
    "plt.plot(x, cross_curve, label = \"Par catégories + âge + groupe\")\n",
    "\n",
    "plt.xlabel(\"Nombre d'articles dans la sélection\")\n",
    "plt.ylabel(\"Score linéaire\")\n",
    "plt.title(\"Score maximum selon différentes sélections d'articles\")\n",
    "plt.legend()\n",
    "\n",
    "plt.show()"
   ]
  },
  {
   "cell_type": "markdown",
   "metadata": {},
   "source": [
    "**Observations**\n",
    "- Les trois listes semblent prometteuses.\n",
    "- La liste croisée catégorie / âge / groupe est meilleure que la courbe par catégorie, mais de très peu."
   ]
  },
  {
   "cell_type": "markdown",
   "metadata": {},
   "source": [
    "#### Détermination du nombre optimal d'articles de chaque liste"
   ]
  },
  {
   "cell_type": "code",
   "execution_count": null,
   "metadata": {},
   "outputs": [],
   "source": [
    "# Courbes plus précises\n",
    "cross_curve = max_score_curve(validation_purchases['purchase_list'], validation_customers['cross_list'], 100, 1)\n",
    "repurchase_curve = max_score_curve(validation_purchases['purchase_list'], already_purchased_list['list'], 100, 1)\n",
    "pairs_curve = max_score_curve(validation_purchases['purchase_list'], pairs_list['list'], 100, 1)"
   ]
  },
  {
   "cell_type": "code",
   "execution_count": 27,
   "metadata": {},
   "outputs": [],
   "source": [
    "def amount_of_each_list(score_list_1, score_list_2, score_list_3, length):\n",
    "    i_1 = 1\n",
    "    i_2 = 1\n",
    "    i_3 = 1\n",
    "    \n",
    "    for n in range(0, length):\n",
    "        score_1 = score_list_1[i_1] - score_list_1[i_1 - 1]\n",
    "        score_2 = score_list_2[i_2] - score_list_2[i_2 - 1]\n",
    "        score_3 = score_list_3[i_3] - score_list_3[i_3 - 1]\n",
    "        \n",
    "        \n",
    "        if score_1 >= score_2 and score_1 >= score_3 :\n",
    "            i_1 += 1\n",
    "        elif score_2 >= score_3 :\n",
    "            i_2 += 1\n",
    "        else :\n",
    "            i_3 += 1\n",
    "            \n",
    "    return i_1 - 1, i_2 - 1, i_3 - 1\n",
    "            "
   ]
  },
  {
   "cell_type": "code",
   "execution_count": 31,
   "metadata": {},
   "outputs": [
    {
     "name": "stdout",
     "output_type": "stream",
     "text": [
      "Pour une liste de 12 éléments, prendre : \n",
      " 4 rachats \n",
      " 8 articles de la liste croisée, \n",
      " 0 articles appairés. \n"
     ]
    }
   ],
   "source": [
    "i_1, i_2, i_3 = amount_of_each_list(repurchase_curve, cross_curve, pairs_curve, 12)\n",
    "print(f\"Pour une liste de 12 éléments, prendre : \\n {i_1} rachats \\n {i_2} articles de la liste croisée, \\n {i_3} articles appairés. \")"
   ]
  },
  {
   "cell_type": "code",
   "execution_count": 32,
   "metadata": {},
   "outputs": [
    {
     "name": "stdout",
     "output_type": "stream",
     "text": [
      "Pour une liste de 100 éléments, prendre : \n",
      " 7 rachats \n",
      " 68 articles de la liste croisée, \n",
      " 25 articles appairés. \n"
     ]
    }
   ],
   "source": [
    "i_1, i_2, i_3 = amount_of_each_list(repurchase_curve, cross_curve, pairs_curve, 100)\n",
    "print(f\"Pour une liste de 100 éléments, prendre : \\n {i_1} rachats \\n {i_2} articles de la liste croisée, \\n {i_3} articles appairés. \")"
   ]
  },
  {
   "cell_type": "markdown",
   "metadata": {},
   "source": [
    "### Évaluation de la liste finale"
   ]
  },
  {
   "cell_type": "code",
   "execution_count": 25,
   "metadata": {},
   "outputs": [],
   "source": [
    "validation_purchases['cross_list'] = validation_customers['cross_list']\n",
    "validation_purchases['pair_list'] = pairs_list['list']\n",
    "validation_purchases['repurchase_list'] = already_purchased_list['list']"
   ]
  },
  {
   "cell_type": "code",
   "execution_count": 26,
   "metadata": {},
   "outputs": [],
   "source": [
    "validation_purchases['length'] = validation_purchases['cross_list'].apply(lambda x: len(x))\n",
    "validation_purchases['length'].value_counts()\n",
    "validation_purchases = validation_purchases[validation_purchases['length'] == 100]"
   ]
  },
  {
   "cell_type": "code",
   "execution_count": 9,
   "metadata": {},
   "outputs": [],
   "source": [
    "def process_shortlist(raw):\n",
    "    shortlist = []\n",
    "    \n",
    "    i_1 = 0\n",
    "    i_2 = 0\n",
    "    i_3 = 0\n",
    "    \n",
    "    while (len(shortlist) < 100) & (i_3 < len(raw['cross_list'])):\n",
    "        if i_1 < 7 and i_1 < len(raw['repurchase_list']):\n",
    "            article_id = raw['repurchase_list'][i_1]\n",
    "            i_1 += 1\n",
    "        elif i_2 < 25 and i_2 < len(raw['pair_list']):\n",
    "            article_id = raw['pair_list'][i_2]\n",
    "            i_2 += 1\n",
    "        else:\n",
    "            article_id = raw['cross_list'][i_3]\n",
    "            i_3 += 1\n",
    "    \n",
    "        if article_id not in shortlist:\n",
    "            shortlist.append(article_id)\n",
    "            \n",
    "    return shortlist\n",
    "\n",
    "validation_purchases['shortlist'] = validation_purchases.swifter.apply(lambda x: process_shortlist(x), axis = 1)"
   ]
  },
  {
   "cell_type": "code",
   "execution_count": 47,
   "metadata": {},
   "outputs": [
    {
     "name": "stderr",
     "output_type": "stream",
     "text": [
      "Pandas Apply: 100%|██████████| 68439/68439 [00:22<00:00, 3029.28it/s]"
     ]
    },
    {
     "name": "stdout",
     "output_type": "stream",
     "text": [
      "Score linéaire maximal obtenu par la shortlist:  0.1822552817544708\n"
     ]
    },
    {
     "name": "stderr",
     "output_type": "stream",
     "text": [
      "\n"
     ]
    }
   ],
   "source": [
    "max_score = get_maximum_score(validation_purchases['purchase_list'], validation_purchases['shortlist']).sum() / len(validation_purchases)\n",
    "\n",
    "print(\"Score linéaire maximal obtenu par la shortlist: \", max_score)"
   ]
  },
  {
   "cell_type": "code",
   "execution_count": 28,
   "metadata": {},
   "outputs": [
    {
     "data": {
      "text/html": [
       "<div>\n",
       "<style scoped>\n",
       "    .dataframe tbody tr th:only-of-type {\n",
       "        vertical-align: middle;\n",
       "    }\n",
       "\n",
       "    .dataframe tbody tr th {\n",
       "        vertical-align: top;\n",
       "    }\n",
       "\n",
       "    .dataframe thead th {\n",
       "        text-align: right;\n",
       "    }\n",
       "</style>\n",
       "<table border=\"1\" class=\"dataframe\">\n",
       "  <thead>\n",
       "    <tr style=\"text-align: right;\">\n",
       "      <th></th>\n",
       "      <th>customer_id</th>\n",
       "      <th>purchase_list</th>\n",
       "      <th>cross_list</th>\n",
       "      <th>pair_list</th>\n",
       "      <th>repurchase_list</th>\n",
       "      <th>length</th>\n",
       "      <th>shortlist</th>\n",
       "    </tr>\n",
       "  </thead>\n",
       "  <tbody>\n",
       "    <tr>\n",
       "      <th>0</th>\n",
       "      <td>00039306476aaf41a07fed942884f16b30abfa83a2a8be...</td>\n",
       "      <td>[0624486001]</td>\n",
       "      <td>[0909370001, 0924243001, 0865799006, 091852200...</td>\n",
       "      <td>[0111593001, 0111593001, 0123173001, 011158600...</td>\n",
       "      <td></td>\n",
       "      <td>100</td>\n",
       "      <td>[0111593001, 0123173001, 0111586001, 015834000...</td>\n",
       "    </tr>\n",
       "    <tr>\n",
       "      <th>1</th>\n",
       "      <td>0003e867a930d0d6842f923d6ba7c9b77aba33fe2a0fbf...</td>\n",
       "      <td>[0827487003]</td>\n",
       "      <td>[0805947001, 0809238005, 0809238001, 071479002...</td>\n",
       "      <td>[0377277002, 0759871002, 0759871002, 075987100...</td>\n",
       "      <td>[0621381012, 0880017001, 0640021012]</td>\n",
       "      <td>100</td>\n",
       "      <td>[0621381012, 0880017001, 0640021012, 037727700...</td>\n",
       "    </tr>\n",
       "    <tr>\n",
       "      <th>2</th>\n",
       "      <td>000493dd9fc463df1acc2081450c9e75ef8e87d5dd17ed...</td>\n",
       "      <td>[0640021019, 0757926001, 0788575004]</td>\n",
       "      <td>[0448509014, 0706016002, 0715624001, 070601600...</td>\n",
       "      <td>[0759871002, 0759871002, 0759871002, 070601600...</td>\n",
       "      <td>[0556255001, 0399136061, 0732842021, 073284201...</td>\n",
       "      <td>100</td>\n",
       "      <td>[0556255001, 0399136061, 0732842021, 073284201...</td>\n",
       "    </tr>\n",
       "    <tr>\n",
       "      <th>3</th>\n",
       "      <td>000525e3fe01600d717da8423643a8303390a055c578ed...</td>\n",
       "      <td>[0874110016]</td>\n",
       "      <td>[0809238005, 0809238001, 0448509014, 080594700...</td>\n",
       "      <td></td>\n",
       "      <td></td>\n",
       "      <td>100</td>\n",
       "      <td>[0809238005, 0809238001, 0448509014, 080594700...</td>\n",
       "    </tr>\n",
       "    <tr>\n",
       "      <th>4</th>\n",
       "      <td>00077dbd5c4a4991e092e63893ccf29294a9d5c46e8501...</td>\n",
       "      <td>[0915529005, 0158340001, 0448509014, 048663900...</td>\n",
       "      <td>[0909370001, 0918522001, 0924243001, 086579900...</td>\n",
       "      <td>[0158340001, 0759871002, 0759871001, 070601600...</td>\n",
       "      <td>[0806388001, 0933989002, 0456163060, 092974400...</td>\n",
       "      <td>100</td>\n",
       "      <td>[0806388001, 0933989002, 0456163060, 092974400...</td>\n",
       "    </tr>\n",
       "  </tbody>\n",
       "</table>\n",
       "</div>"
      ],
      "text/plain": [
       "                                         customer_id  \\\n",
       "0  00039306476aaf41a07fed942884f16b30abfa83a2a8be...   \n",
       "1  0003e867a930d0d6842f923d6ba7c9b77aba33fe2a0fbf...   \n",
       "2  000493dd9fc463df1acc2081450c9e75ef8e87d5dd17ed...   \n",
       "3  000525e3fe01600d717da8423643a8303390a055c578ed...   \n",
       "4  00077dbd5c4a4991e092e63893ccf29294a9d5c46e8501...   \n",
       "\n",
       "                                       purchase_list  \\\n",
       "0                                       [0624486001]   \n",
       "1                                       [0827487003]   \n",
       "2               [0640021019, 0757926001, 0788575004]   \n",
       "3                                       [0874110016]   \n",
       "4  [0915529005, 0158340001, 0448509014, 048663900...   \n",
       "\n",
       "                                          cross_list  \\\n",
       "0  [0909370001, 0924243001, 0865799006, 091852200...   \n",
       "1  [0805947001, 0809238005, 0809238001, 071479002...   \n",
       "2  [0448509014, 0706016002, 0715624001, 070601600...   \n",
       "3  [0809238005, 0809238001, 0448509014, 080594700...   \n",
       "4  [0909370001, 0918522001, 0924243001, 086579900...   \n",
       "\n",
       "                                           pair_list  \\\n",
       "0  [0111593001, 0111593001, 0123173001, 011158600...   \n",
       "1  [0377277002, 0759871002, 0759871002, 075987100...   \n",
       "2  [0759871002, 0759871002, 0759871002, 070601600...   \n",
       "3                                                      \n",
       "4  [0158340001, 0759871002, 0759871001, 070601600...   \n",
       "\n",
       "                                     repurchase_list  length  \\\n",
       "0                                                        100   \n",
       "1               [0621381012, 0880017001, 0640021012]     100   \n",
       "2  [0556255001, 0399136061, 0732842021, 073284201...     100   \n",
       "3                                                        100   \n",
       "4  [0806388001, 0933989002, 0456163060, 092974400...     100   \n",
       "\n",
       "                                           shortlist  \n",
       "0  [0111593001, 0123173001, 0111586001, 015834000...  \n",
       "1  [0621381012, 0880017001, 0640021012, 037727700...  \n",
       "2  [0556255001, 0399136061, 0732842021, 073284201...  \n",
       "3  [0809238005, 0809238001, 0448509014, 080594700...  \n",
       "4  [0806388001, 0933989002, 0456163060, 092974400...  "
      ]
     },
     "execution_count": 28,
     "metadata": {},
     "output_type": "execute_result"
    }
   ],
   "source": [
    "validation_purchases.to_pickle('pickles/article_lists_train.pkl')\n",
    "validation_purchases.head()"
   ]
  },
  {
   "cell_type": "markdown",
   "metadata": {},
   "source": [
    "### Conclusion\n",
    "\n",
    "- Entraîner un algorithme sur la shortlist permettrait d'obtenir une précision à 12 maximale de 0.18. Cette limite est très supérieure aux scores obtenus sur la compétition (~0.035) et nous pouvons donc la considérer comme acceptable dans un premier temps.\n",
    "- Le score maximal obtenu pour des listes fait intervenir des notions séquentielles, de relations entre les articles (rachat + articles appairés) et / ou d'historique d'achat du client. Nous sommes donc confortés dans l'idée qu'un modèle de type RNN / GNN serait approprié sur cette problématique."
   ]
  },
  {
   "cell_type": "markdown",
   "metadata": {},
   "source": [
    "### Annexe - Crosslist pour le jeu de données de test\n",
    "- Génération de la crosslist pour l'ensemble des clients à partir des données de la semaine 0."
   ]
  },
  {
   "cell_type": "code",
   "execution_count": 3,
   "metadata": {},
   "outputs": [],
   "source": [
    "\n",
    "def top_sales_cross_lists(week_sales):\n",
    "    \"\"\"Création des listings nécessaires à l'élaboration de la liste croisée âge / catégorie / groupe.\n",
    "\n",
    "    Args:\n",
    "        week_sales (pd.DataFrame): Les transactions pour la semaine choisie\n",
    "\n",
    "    Returns:\n",
    "        dictionnary: Listes par groupe et par catégorie, avec les pondérations par âge.\n",
    "    \"\"\"\n",
    "    global articles\n",
    "    global customers\n",
    "    \n",
    "    top_sales = week_sales.merge(customers, on = 'customer_id', how = 'left')\n",
    "    \n",
    "    top_sales = top_sales.groupby(['article_id', 'group'], as_index = False).agg(\n",
    "        sales = ('article_id', 'count'),\n",
    "        age_around_15 = ('age_around_15', 'sum'),\n",
    "        age_around_25 = ('age_around_25', 'sum'),\n",
    "        age_around_35 = ('age_around_35', 'sum'),\n",
    "        age_around_45 = ('age_around_45', 'sum'),\n",
    "        age_around_55 = ('age_around_55', 'sum'),\n",
    "        age_around_65 = ('age_around_65', 'sum'),\n",
    "    )\n",
    "    \n",
    "    top_sales = top_sales.merge(articles[['article_id', 'index_group_name']], on = 'article_id')\n",
    "    \n",
    "    top_sales['index_group_name'] = top_sales['index_group_name'].apply(lambda x: x.split('/')[0].lower())\n",
    "    \n",
    "    # Préparation des listes.\n",
    "\n",
    "    groups = top_sales['group'].unique()\n",
    "    categories = top_sales['index_group_name'].unique()\n",
    "\n",
    "    cross_lists = {}\n",
    "\n",
    "    for group in groups :\n",
    "        cross_lists[group] = {}\n",
    "        \n",
    "        categories = top_sales['index_group_name'].unique()\n",
    "\n",
    "        for category in categories:\n",
    "            \n",
    "            cross_lists[group][category] = top_sales[(top_sales['group'] == group) & (top_sales['index_group_name'] == category)]\n",
    "            cross_lists[group][category]['shares'] = cross_lists[group][category]['sales'] / cross_lists[group][category]['sales'].sum()\n",
    "            cross_lists[group][category]['index_group_name'] = category\n",
    "            cross_lists[group][category] = cross_lists[group][category].nlargest(n = 100, columns = 'shares')\n",
    "        \n",
    "    \n",
    "    return cross_lists"
   ]
  },
  {
   "cell_type": "code",
   "execution_count": 4,
   "metadata": {},
   "outputs": [],
   "source": [
    "customers = pd.read_pickle('pickles/customers_second_iteration.pkl')\n",
    "articles = pd.read_pickle('pickles/articles_second_iteration.pkl')"
   ]
  },
  {
   "cell_type": "code",
   "execution_count": null,
   "metadata": {},
   "outputs": [],
   "source": [
    "transactions = pd.read_pickle('pickles/transactions_clean.pkl')\n",
    "cross_lists = top_sales_cross_lists(transactions[transactions['week_number'] == 0])"
   ]
  },
  {
   "cell_type": "code",
   "execution_count": null,
   "metadata": {},
   "outputs": [],
   "source": [
    "# Génération de la cross-list par blocs de 50 000 clients.\n",
    "length = len(customers)\n",
    "chunks = []\n",
    "index = 0\n",
    "rows_by_block = 100000\n",
    "\n",
    "while index < length:\n",
    "    print(f\"\\r Traitement des lignes {index}-{index + rows_by_block}       \", end = \"\")\n",
    "    end = min(index * rows_by_block, length)\n",
    "\n",
    "    chunk = customers.loc[index : min(index + rows_by_block, length) - 1].swifter.apply(lambda x: get_cross_list(x), axis = 1)\n",
    "    \n",
    "    chunks.append(chunk)\n",
    "    \n",
    "    index += rows_by_block"
   ]
  },
  {
   "cell_type": "code",
   "execution_count": null,
   "metadata": {},
   "outputs": [],
   "source": [
    "for i in range(len(chunks)):\n",
    "    #chunks[i].to_pickle(f\"pickles/cross_list_chunk_{i}.pkl\")\n",
    "    chunks[i] = chunks[i].iloc[0:100000]\n",
    "    print(\"Taille du chunk:\", len(chunks[i]))"
   ]
  },
  {
   "cell_type": "code",
   "execution_count": 12,
   "metadata": {},
   "outputs": [],
   "source": [
    "cross_list = pd.concat(chunks)"
   ]
  },
  {
   "cell_type": "code",
   "execution_count": 10,
   "metadata": {},
   "outputs": [
    {
     "data": {
      "text/html": [
       "<div>\n",
       "<style scoped>\n",
       "    .dataframe tbody tr th:only-of-type {\n",
       "        vertical-align: middle;\n",
       "    }\n",
       "\n",
       "    .dataframe tbody tr th {\n",
       "        vertical-align: top;\n",
       "    }\n",
       "\n",
       "    .dataframe thead th {\n",
       "        text-align: right;\n",
       "    }\n",
       "</style>\n",
       "<table border=\"1\" class=\"dataframe\">\n",
       "  <thead>\n",
       "    <tr style=\"text-align: right;\">\n",
       "      <th></th>\n",
       "      <th>customer_id</th>\n",
       "      <th>FN</th>\n",
       "      <th>Active</th>\n",
       "      <th>club_member_status</th>\n",
       "      <th>fashion_news_frequency</th>\n",
       "      <th>age</th>\n",
       "      <th>postal_code</th>\n",
       "      <th>average_cart_articles</th>\n",
       "      <th>average_cart_price</th>\n",
       "      <th>total_carts</th>\n",
       "      <th>...</th>\n",
       "      <th>repurchases</th>\n",
       "      <th>repurchases_interval</th>\n",
       "      <th>age_around_15</th>\n",
       "      <th>age_around_25</th>\n",
       "      <th>age_around_35</th>\n",
       "      <th>age_around_45</th>\n",
       "      <th>age_around_55</th>\n",
       "      <th>age_around_65</th>\n",
       "      <th>postal_code_group</th>\n",
       "      <th>group</th>\n",
       "    </tr>\n",
       "  </thead>\n",
       "  <tbody>\n",
       "    <tr>\n",
       "      <th>0</th>\n",
       "      <td>00000dbacae5abe5e23885899a1fa44253a17956c6d1c3...</td>\n",
       "      <td>0</td>\n",
       "      <td>0</td>\n",
       "      <td>ACTIVE</td>\n",
       "      <td>None</td>\n",
       "      <td>49</td>\n",
       "      <td>52043ee2162cf5aa7ee79974281641c6f11a68d276429a...</td>\n",
       "      <td>1.900000</td>\n",
       "      <td>0.054393</td>\n",
       "      <td>10</td>\n",
       "      <td>...</td>\n",
       "      <td>0.0</td>\n",
       "      <td>0.000000</td>\n",
       "      <td>0.0</td>\n",
       "      <td>0.0</td>\n",
       "      <td>0.0</td>\n",
       "      <td>0.6</td>\n",
       "      <td>0.4</td>\n",
       "      <td>0.0</td>\n",
       "      <td>4</td>\n",
       "      <td>6</td>\n",
       "    </tr>\n",
       "    <tr>\n",
       "      <th>1</th>\n",
       "      <td>0000423b00ade91418cceaf3b26c6af3dd342b51fd051e...</td>\n",
       "      <td>0</td>\n",
       "      <td>0</td>\n",
       "      <td>ACTIVE</td>\n",
       "      <td>None</td>\n",
       "      <td>25</td>\n",
       "      <td>2973abc54daa8a5f8ccfe9362140c63247c5eee03f1d93...</td>\n",
       "      <td>3.250000</td>\n",
       "      <td>0.100510</td>\n",
       "      <td>24</td>\n",
       "      <td>...</td>\n",
       "      <td>14.0</td>\n",
       "      <td>5.285714</td>\n",
       "      <td>0.0</td>\n",
       "      <td>1.0</td>\n",
       "      <td>0.0</td>\n",
       "      <td>0.0</td>\n",
       "      <td>0.0</td>\n",
       "      <td>0.0</td>\n",
       "      <td>4</td>\n",
       "      <td>9</td>\n",
       "    </tr>\n",
       "    <tr>\n",
       "      <th>2</th>\n",
       "      <td>000058a12d5b43e67d225668fa1f8d618c13dc232df0ca...</td>\n",
       "      <td>0</td>\n",
       "      <td>0</td>\n",
       "      <td>ACTIVE</td>\n",
       "      <td>None</td>\n",
       "      <td>24</td>\n",
       "      <td>64f17e6a330a85798e4998f62d0930d14db8db1c054af6...</td>\n",
       "      <td>2.142857</td>\n",
       "      <td>0.086646</td>\n",
       "      <td>7</td>\n",
       "      <td>...</td>\n",
       "      <td>1.0</td>\n",
       "      <td>0.000000</td>\n",
       "      <td>0.1</td>\n",
       "      <td>0.9</td>\n",
       "      <td>0.0</td>\n",
       "      <td>0.0</td>\n",
       "      <td>0.0</td>\n",
       "      <td>0.0</td>\n",
       "      <td>4</td>\n",
       "      <td>9</td>\n",
       "    </tr>\n",
       "    <tr>\n",
       "      <th>3</th>\n",
       "      <td>00005ca1c9ed5f5146b52ac8639a40ca9d57aeff4d1bd2...</td>\n",
       "      <td>0</td>\n",
       "      <td>0</td>\n",
       "      <td>ACTIVE</td>\n",
       "      <td>None</td>\n",
       "      <td>54</td>\n",
       "      <td>5d36574f52495e81f019b680c843c443bd343d5ca5b1c2...</td>\n",
       "      <td>2.000000</td>\n",
       "      <td>0.060983</td>\n",
       "      <td>1</td>\n",
       "      <td>...</td>\n",
       "      <td>0.0</td>\n",
       "      <td>0.000000</td>\n",
       "      <td>0.0</td>\n",
       "      <td>0.0</td>\n",
       "      <td>0.0</td>\n",
       "      <td>0.1</td>\n",
       "      <td>0.9</td>\n",
       "      <td>0.0</td>\n",
       "      <td>1</td>\n",
       "      <td>4</td>\n",
       "    </tr>\n",
       "    <tr>\n",
       "      <th>4</th>\n",
       "      <td>00006413d8573cd20ed7128e53b7b13819fe5cfc2d801f...</td>\n",
       "      <td>1</td>\n",
       "      <td>1</td>\n",
       "      <td>ACTIVE</td>\n",
       "      <td>Regularly</td>\n",
       "      <td>52</td>\n",
       "      <td>25fa5ddee9aac01b35208d01736e57942317d756b32ddd...</td>\n",
       "      <td>2.166667</td>\n",
       "      <td>0.078282</td>\n",
       "      <td>6</td>\n",
       "      <td>...</td>\n",
       "      <td>1.0</td>\n",
       "      <td>2.000000</td>\n",
       "      <td>0.0</td>\n",
       "      <td>0.0</td>\n",
       "      <td>0.0</td>\n",
       "      <td>0.3</td>\n",
       "      <td>0.7</td>\n",
       "      <td>0.0</td>\n",
       "      <td>1</td>\n",
       "      <td>5</td>\n",
       "    </tr>\n",
       "    <tr>\n",
       "      <th>...</th>\n",
       "      <td>...</td>\n",
       "      <td>...</td>\n",
       "      <td>...</td>\n",
       "      <td>...</td>\n",
       "      <td>...</td>\n",
       "      <td>...</td>\n",
       "      <td>...</td>\n",
       "      <td>...</td>\n",
       "      <td>...</td>\n",
       "      <td>...</td>\n",
       "      <td>...</td>\n",
       "      <td>...</td>\n",
       "      <td>...</td>\n",
       "      <td>...</td>\n",
       "      <td>...</td>\n",
       "      <td>...</td>\n",
       "      <td>...</td>\n",
       "      <td>...</td>\n",
       "      <td>...</td>\n",
       "      <td>...</td>\n",
       "      <td>...</td>\n",
       "    </tr>\n",
       "    <tr>\n",
       "      <th>1371975</th>\n",
       "      <td>ffffbbf78b6eaac697a8a5dfbfd2bfa8113ee5b403e474...</td>\n",
       "      <td>0</td>\n",
       "      <td>0</td>\n",
       "      <td>ACTIVE</td>\n",
       "      <td>None</td>\n",
       "      <td>24</td>\n",
       "      <td>7aa399f7e669990daba2d92c577b52237380662f36480b...</td>\n",
       "      <td>4.090909</td>\n",
       "      <td>0.105169</td>\n",
       "      <td>11</td>\n",
       "      <td>...</td>\n",
       "      <td>3.0</td>\n",
       "      <td>22.333333</td>\n",
       "      <td>0.1</td>\n",
       "      <td>0.9</td>\n",
       "      <td>0.0</td>\n",
       "      <td>0.0</td>\n",
       "      <td>0.0</td>\n",
       "      <td>0.0</td>\n",
       "      <td>4</td>\n",
       "      <td>9</td>\n",
       "    </tr>\n",
       "    <tr>\n",
       "      <th>1371976</th>\n",
       "      <td>ffffcd5046a6143d29a04fb8c424ce494a76e5cdf4fab5...</td>\n",
       "      <td>0</td>\n",
       "      <td>0</td>\n",
       "      <td>ACTIVE</td>\n",
       "      <td>None</td>\n",
       "      <td>21</td>\n",
       "      <td>3f47f1279beb72215f4de557d950e0bfa73789d24acb5e...</td>\n",
       "      <td>4.315789</td>\n",
       "      <td>0.092521</td>\n",
       "      <td>19</td>\n",
       "      <td>...</td>\n",
       "      <td>3.0</td>\n",
       "      <td>0.666667</td>\n",
       "      <td>0.4</td>\n",
       "      <td>0.6</td>\n",
       "      <td>0.0</td>\n",
       "      <td>0.0</td>\n",
       "      <td>0.0</td>\n",
       "      <td>0.0</td>\n",
       "      <td>1</td>\n",
       "      <td>1</td>\n",
       "    </tr>\n",
       "    <tr>\n",
       "      <th>1371977</th>\n",
       "      <td>ffffcf35913a0bee60e8741cb2b4e78b8a98ee5ff2e6a1...</td>\n",
       "      <td>1</td>\n",
       "      <td>1</td>\n",
       "      <td>ACTIVE</td>\n",
       "      <td>Regularly</td>\n",
       "      <td>21</td>\n",
       "      <td>4563fc79215672cd6a863f2b4bf56b8f898f2d96ed590e...</td>\n",
       "      <td>2.263158</td>\n",
       "      <td>0.039740</td>\n",
       "      <td>19</td>\n",
       "      <td>...</td>\n",
       "      <td>3.0</td>\n",
       "      <td>0.000000</td>\n",
       "      <td>0.4</td>\n",
       "      <td>0.6</td>\n",
       "      <td>0.0</td>\n",
       "      <td>0.0</td>\n",
       "      <td>0.0</td>\n",
       "      <td>0.0</td>\n",
       "      <td>4</td>\n",
       "      <td>0</td>\n",
       "    </tr>\n",
       "    <tr>\n",
       "      <th>1371978</th>\n",
       "      <td>ffffd7744cebcf3aca44ae7049d2a94b87074c3d4ffe38...</td>\n",
       "      <td>1</td>\n",
       "      <td>1</td>\n",
       "      <td>ACTIVE</td>\n",
       "      <td>Regularly</td>\n",
       "      <td>18</td>\n",
       "      <td>8892c18e9bc3dca6aa4000cb8094fc4b51ee8db2ed14d7...</td>\n",
       "      <td>1.750000</td>\n",
       "      <td>0.052301</td>\n",
       "      <td>4</td>\n",
       "      <td>...</td>\n",
       "      <td>1.0</td>\n",
       "      <td>2.000000</td>\n",
       "      <td>0.7</td>\n",
       "      <td>0.3</td>\n",
       "      <td>0.0</td>\n",
       "      <td>0.0</td>\n",
       "      <td>0.0</td>\n",
       "      <td>0.0</td>\n",
       "      <td>3</td>\n",
       "      <td>0</td>\n",
       "    </tr>\n",
       "    <tr>\n",
       "      <th>1371979</th>\n",
       "      <td>ffffd9ac14e89946416d80e791d064701994755c3ab686...</td>\n",
       "      <td>0</td>\n",
       "      <td>0</td>\n",
       "      <td>PRE-CREATE</td>\n",
       "      <td>None</td>\n",
       "      <td>65</td>\n",
       "      <td>0a1a03306fb2f62164c2a439b38c0caa64b40deaae8687...</td>\n",
       "      <td>1.000000</td>\n",
       "      <td>0.084729</td>\n",
       "      <td>1</td>\n",
       "      <td>...</td>\n",
       "      <td>0.0</td>\n",
       "      <td>0.000000</td>\n",
       "      <td>0.0</td>\n",
       "      <td>0.0</td>\n",
       "      <td>0.0</td>\n",
       "      <td>0.0</td>\n",
       "      <td>0.0</td>\n",
       "      <td>1.0</td>\n",
       "      <td>2</td>\n",
       "      <td>4</td>\n",
       "    </tr>\n",
       "  </tbody>\n",
       "</table>\n",
       "<p>1371980 rows × 28 columns</p>\n",
       "</div>"
      ],
      "text/plain": [
       "                                               customer_id  FN  Active  \\\n",
       "0        00000dbacae5abe5e23885899a1fa44253a17956c6d1c3...   0       0   \n",
       "1        0000423b00ade91418cceaf3b26c6af3dd342b51fd051e...   0       0   \n",
       "2        000058a12d5b43e67d225668fa1f8d618c13dc232df0ca...   0       0   \n",
       "3        00005ca1c9ed5f5146b52ac8639a40ca9d57aeff4d1bd2...   0       0   \n",
       "4        00006413d8573cd20ed7128e53b7b13819fe5cfc2d801f...   1       1   \n",
       "...                                                    ...  ..     ...   \n",
       "1371975  ffffbbf78b6eaac697a8a5dfbfd2bfa8113ee5b403e474...   0       0   \n",
       "1371976  ffffcd5046a6143d29a04fb8c424ce494a76e5cdf4fab5...   0       0   \n",
       "1371977  ffffcf35913a0bee60e8741cb2b4e78b8a98ee5ff2e6a1...   1       1   \n",
       "1371978  ffffd7744cebcf3aca44ae7049d2a94b87074c3d4ffe38...   1       1   \n",
       "1371979  ffffd9ac14e89946416d80e791d064701994755c3ab686...   0       0   \n",
       "\n",
       "        club_member_status fashion_news_frequency  age  \\\n",
       "0                   ACTIVE                   None   49   \n",
       "1                   ACTIVE                   None   25   \n",
       "2                   ACTIVE                   None   24   \n",
       "3                   ACTIVE                   None   54   \n",
       "4                   ACTIVE              Regularly   52   \n",
       "...                    ...                    ...  ...   \n",
       "1371975             ACTIVE                   None   24   \n",
       "1371976             ACTIVE                   None   21   \n",
       "1371977             ACTIVE              Regularly   21   \n",
       "1371978             ACTIVE              Regularly   18   \n",
       "1371979         PRE-CREATE                   None   65   \n",
       "\n",
       "                                               postal_code  \\\n",
       "0        52043ee2162cf5aa7ee79974281641c6f11a68d276429a...   \n",
       "1        2973abc54daa8a5f8ccfe9362140c63247c5eee03f1d93...   \n",
       "2        64f17e6a330a85798e4998f62d0930d14db8db1c054af6...   \n",
       "3        5d36574f52495e81f019b680c843c443bd343d5ca5b1c2...   \n",
       "4        25fa5ddee9aac01b35208d01736e57942317d756b32ddd...   \n",
       "...                                                    ...   \n",
       "1371975  7aa399f7e669990daba2d92c577b52237380662f36480b...   \n",
       "1371976  3f47f1279beb72215f4de557d950e0bfa73789d24acb5e...   \n",
       "1371977  4563fc79215672cd6a863f2b4bf56b8f898f2d96ed590e...   \n",
       "1371978  8892c18e9bc3dca6aa4000cb8094fc4b51ee8db2ed14d7...   \n",
       "1371979  0a1a03306fb2f62164c2a439b38c0caa64b40deaae8687...   \n",
       "\n",
       "         average_cart_articles  average_cart_price  total_carts  ...  \\\n",
       "0                     1.900000            0.054393           10  ...   \n",
       "1                     3.250000            0.100510           24  ...   \n",
       "2                     2.142857            0.086646            7  ...   \n",
       "3                     2.000000            0.060983            1  ...   \n",
       "4                     2.166667            0.078282            6  ...   \n",
       "...                        ...                 ...          ...  ...   \n",
       "1371975               4.090909            0.105169           11  ...   \n",
       "1371976               4.315789            0.092521           19  ...   \n",
       "1371977               2.263158            0.039740           19  ...   \n",
       "1371978               1.750000            0.052301            4  ...   \n",
       "1371979               1.000000            0.084729            1  ...   \n",
       "\n",
       "         repurchases  repurchases_interval  age_around_15  age_around_25  \\\n",
       "0                0.0              0.000000            0.0            0.0   \n",
       "1               14.0              5.285714            0.0            1.0   \n",
       "2                1.0              0.000000            0.1            0.9   \n",
       "3                0.0              0.000000            0.0            0.0   \n",
       "4                1.0              2.000000            0.0            0.0   \n",
       "...              ...                   ...            ...            ...   \n",
       "1371975          3.0             22.333333            0.1            0.9   \n",
       "1371976          3.0              0.666667            0.4            0.6   \n",
       "1371977          3.0              0.000000            0.4            0.6   \n",
       "1371978          1.0              2.000000            0.7            0.3   \n",
       "1371979          0.0              0.000000            0.0            0.0   \n",
       "\n",
       "         age_around_35  age_around_45  age_around_55  age_around_65  \\\n",
       "0                  0.0            0.6            0.4            0.0   \n",
       "1                  0.0            0.0            0.0            0.0   \n",
       "2                  0.0            0.0            0.0            0.0   \n",
       "3                  0.0            0.1            0.9            0.0   \n",
       "4                  0.0            0.3            0.7            0.0   \n",
       "...                ...            ...            ...            ...   \n",
       "1371975            0.0            0.0            0.0            0.0   \n",
       "1371976            0.0            0.0            0.0            0.0   \n",
       "1371977            0.0            0.0            0.0            0.0   \n",
       "1371978            0.0            0.0            0.0            0.0   \n",
       "1371979            0.0            0.0            0.0            1.0   \n",
       "\n",
       "         postal_code_group  group  \n",
       "0                        4      6  \n",
       "1                        4      9  \n",
       "2                        4      9  \n",
       "3                        1      4  \n",
       "4                        1      5  \n",
       "...                    ...    ...  \n",
       "1371975                  4      9  \n",
       "1371976                  1      1  \n",
       "1371977                  4      0  \n",
       "1371978                  3      0  \n",
       "1371979                  2      4  \n",
       "\n",
       "[1371980 rows x 28 columns]"
      ]
     },
     "execution_count": 10,
     "metadata": {},
     "output_type": "execute_result"
    }
   ],
   "source": [
    "customers"
   ]
  },
  {
   "cell_type": "code",
   "execution_count": 14,
   "metadata": {},
   "outputs": [],
   "source": [
    "cross_list.to_pickle('pickles/cross_list.pkl')"
   ]
  },
  {
   "cell_type": "code",
   "execution_count": 3,
   "metadata": {},
   "outputs": [],
   "source": [
    "cross_list = pd.read_pickle('pickles/cross_list.pkl')\n",
    "customers = pd.read_pickle('pickles/customers_second_iteration.pkl')"
   ]
  },
  {
   "cell_type": "code",
   "execution_count": 4,
   "metadata": {},
   "outputs": [
    {
     "data": {
      "text/html": [
       "<div>\n",
       "<style scoped>\n",
       "    .dataframe tbody tr th:only-of-type {\n",
       "        vertical-align: middle;\n",
       "    }\n",
       "\n",
       "    .dataframe tbody tr th {\n",
       "        vertical-align: top;\n",
       "    }\n",
       "\n",
       "    .dataframe thead th {\n",
       "        text-align: right;\n",
       "    }\n",
       "</style>\n",
       "<table border=\"1\" class=\"dataframe\">\n",
       "  <thead>\n",
       "    <tr style=\"text-align: right;\">\n",
       "      <th></th>\n",
       "      <th>customer_id</th>\n",
       "      <th>list</th>\n",
       "    </tr>\n",
       "  </thead>\n",
       "  <tbody>\n",
       "    <tr>\n",
       "      <th>0</th>\n",
       "      <td>02054367e574c7287a453fb3ae3174b8d5fa968ab1c418...</td>\n",
       "      <td>[0832482001, 0820484001, 0837351001, 083441201...</td>\n",
       "    </tr>\n",
       "    <tr>\n",
       "      <th>1</th>\n",
       "      <td>04e2301dc0581c5b443429e1614cf21ffe9b23d8d3fe05...</td>\n",
       "      <td>[0706104010, 0783969004, 0834799001, 068581600...</td>\n",
       "    </tr>\n",
       "    <tr>\n",
       "      <th>2</th>\n",
       "      <td>0456515f18cdd341dbb0077191bcd67e9e7738d81ed4f9...</td>\n",
       "      <td>[0847959002, 0803592003, 0798827001, 077290200...</td>\n",
       "    </tr>\n",
       "    <tr>\n",
       "      <th>3</th>\n",
       "      <td>0444412a01c8d761fa55b19bd29cf07bd80bfcbe82275a...</td>\n",
       "      <td>[0568601029, 0448515033, 0671444001, 079621000...</td>\n",
       "    </tr>\n",
       "    <tr>\n",
       "      <th>4</th>\n",
       "      <td>00336f6224d49f63d4c1f18315f0e82789f31be24506fa...</td>\n",
       "      <td>[0489435015, 0448509014, 0850259001, 064002101...</td>\n",
       "    </tr>\n",
       "  </tbody>\n",
       "</table>\n",
       "</div>"
      ],
      "text/plain": [
       "                                         customer_id  \\\n",
       "0  02054367e574c7287a453fb3ae3174b8d5fa968ab1c418...   \n",
       "1  04e2301dc0581c5b443429e1614cf21ffe9b23d8d3fe05...   \n",
       "2  0456515f18cdd341dbb0077191bcd67e9e7738d81ed4f9...   \n",
       "3  0444412a01c8d761fa55b19bd29cf07bd80bfcbe82275a...   \n",
       "4  00336f6224d49f63d4c1f18315f0e82789f31be24506fa...   \n",
       "\n",
       "                                                list  \n",
       "0  [0832482001, 0820484001, 0837351001, 083441201...  \n",
       "1  [0706104010, 0783969004, 0834799001, 068581600...  \n",
       "2  [0847959002, 0803592003, 0798827001, 077290200...  \n",
       "3  [0568601029, 0448515033, 0671444001, 079621000...  \n",
       "4  [0489435015, 0448509014, 0850259001, 064002101...  "
      ]
     },
     "execution_count": 4,
     "metadata": {},
     "output_type": "execute_result"
    }
   ],
   "source": [
    "pairs_list = pd.read_pickle(\"pickles/articles_pairs_list.pkl\")\n",
    "pairs_list.head()"
   ]
  },
  {
   "cell_type": "code",
   "execution_count": 5,
   "metadata": {},
   "outputs": [
    {
     "data": {
      "text/html": [
       "<div>\n",
       "<style scoped>\n",
       "    .dataframe tbody tr th:only-of-type {\n",
       "        vertical-align: middle;\n",
       "    }\n",
       "\n",
       "    .dataframe tbody tr th {\n",
       "        vertical-align: top;\n",
       "    }\n",
       "\n",
       "    .dataframe thead th {\n",
       "        text-align: right;\n",
       "    }\n",
       "</style>\n",
       "<table border=\"1\" class=\"dataframe\">\n",
       "  <thead>\n",
       "    <tr style=\"text-align: right;\">\n",
       "      <th></th>\n",
       "      <th>customer_id</th>\n",
       "      <th>list</th>\n",
       "    </tr>\n",
       "  </thead>\n",
       "  <tbody>\n",
       "    <tr>\n",
       "      <th>0</th>\n",
       "      <td>ffffbbf78b6eaac697a8a5dfbfd2bfa8113ee5b403e474...</td>\n",
       "      <td>[0557599022, 0822311009, 0822344001, 059958004...</td>\n",
       "    </tr>\n",
       "    <tr>\n",
       "      <th>1</th>\n",
       "      <td>fffef3b6b73545df065b521e19f64bf6fe93bfd450ab20...</td>\n",
       "      <td>[0898573003, 0910601003, 0881919001, 074826900...</td>\n",
       "    </tr>\n",
       "    <tr>\n",
       "      <th>2</th>\n",
       "      <td>fffd82f00fc748fae98fa569c6863a4c5b2242e0c81628...</td>\n",
       "      <td>[0570003002]</td>\n",
       "    </tr>\n",
       "    <tr>\n",
       "      <th>3</th>\n",
       "      <td>fffd0248a95c2e49fee876ff93598e2e20839e51b9b767...</td>\n",
       "      <td>[0573085028]</td>\n",
       "    </tr>\n",
       "    <tr>\n",
       "      <th>4</th>\n",
       "      <td>fffcd556af797bddc25d6d56600b6e298a19b90624a8ee...</td>\n",
       "      <td>[0806388001, 0806388002]</td>\n",
       "    </tr>\n",
       "  </tbody>\n",
       "</table>\n",
       "</div>"
      ],
      "text/plain": [
       "                                         customer_id  \\\n",
       "0  ffffbbf78b6eaac697a8a5dfbfd2bfa8113ee5b403e474...   \n",
       "1  fffef3b6b73545df065b521e19f64bf6fe93bfd450ab20...   \n",
       "2  fffd82f00fc748fae98fa569c6863a4c5b2242e0c81628...   \n",
       "3  fffd0248a95c2e49fee876ff93598e2e20839e51b9b767...   \n",
       "4  fffcd556af797bddc25d6d56600b6e298a19b90624a8ee...   \n",
       "\n",
       "                                                list  \n",
       "0  [0557599022, 0822311009, 0822344001, 059958004...  \n",
       "1  [0898573003, 0910601003, 0881919001, 074826900...  \n",
       "2                                       [0570003002]  \n",
       "3                                       [0573085028]  \n",
       "4                           [0806388001, 0806388002]  "
      ]
     },
     "execution_count": 5,
     "metadata": {},
     "output_type": "execute_result"
    }
   ],
   "source": [
    "repurchase_lists = pd.read_pickle('pickles/already_purchased_list.pkl')\n",
    "repurchase_lists.head()"
   ]
  },
  {
   "cell_type": "code",
   "execution_count": 6,
   "metadata": {},
   "outputs": [
    {
     "name": "stderr",
     "output_type": "stream",
     "text": [
      "/tmp/ipykernel_14871/4220916677.py:2: SettingWithCopyWarning: \n",
      "A value is trying to be set on a copy of a slice from a DataFrame.\n",
      "Try using .loc[row_indexer,col_indexer] = value instead\n",
      "\n",
      "See the caveats in the documentation: https://pandas.pydata.org/pandas-docs/stable/user_guide/indexing.html#returning-a-view-versus-a-copy\n",
      "  lists['cross_list'] = cross_list\n"
     ]
    }
   ],
   "source": [
    "lists = customers[['customer_id']]\n",
    "lists['cross_list'] = cross_list"
   ]
  },
  {
   "cell_type": "code",
   "execution_count": 7,
   "metadata": {},
   "outputs": [],
   "source": [
    "lists = lists.merge(repurchase_lists, on = 'customer_id', how = 'left').rename({'list': 'repurchase_list'}, axis = 1)\n",
    "lists = lists.merge(pairs_list, on = 'customer_id', how = 'left').rename({'list': 'pair_list'}, axis = 1)\n",
    "lists.fillna('', inplace = True)"
   ]
  },
  {
   "cell_type": "code",
   "execution_count": 10,
   "metadata": {},
   "outputs": [
    {
     "name": "stderr",
     "output_type": "stream",
     "text": [
      "Pandas Apply: 100%|██████████| 1371980/1371980 [13:33<00:00, 1686.88it/s]\n"
     ]
    }
   ],
   "source": [
    "lists['shortlist'] = lists.swifter.apply(lambda x: process_shortlist(x), axis = 1)"
   ]
  },
  {
   "cell_type": "code",
   "execution_count": 11,
   "metadata": {},
   "outputs": [
    {
     "data": {
      "text/html": [
       "<div>\n",
       "<style scoped>\n",
       "    .dataframe tbody tr th:only-of-type {\n",
       "        vertical-align: middle;\n",
       "    }\n",
       "\n",
       "    .dataframe tbody tr th {\n",
       "        vertical-align: top;\n",
       "    }\n",
       "\n",
       "    .dataframe thead th {\n",
       "        text-align: right;\n",
       "    }\n",
       "</style>\n",
       "<table border=\"1\" class=\"dataframe\">\n",
       "  <thead>\n",
       "    <tr style=\"text-align: right;\">\n",
       "      <th></th>\n",
       "      <th>customer_id</th>\n",
       "      <th>cross_list</th>\n",
       "      <th>repurchase_list</th>\n",
       "      <th>pair_list</th>\n",
       "      <th>shortlist</th>\n",
       "    </tr>\n",
       "  </thead>\n",
       "  <tbody>\n",
       "    <tr>\n",
       "      <th>0</th>\n",
       "      <td>00000dbacae5abe5e23885899a1fa44253a17956c6d1c3...</td>\n",
       "      <td>[0751471001, 0915529003, 0928206001, 057308504...</td>\n",
       "      <td></td>\n",
       "      <td>[0805000001, 0877278002, 0673396002, 082557900...</td>\n",
       "      <td>[0805000001, 0877278002, 0673396002, 082557900...</td>\n",
       "    </tr>\n",
       "    <tr>\n",
       "      <th>1</th>\n",
       "      <td>0000423b00ade91418cceaf3b26c6af3dd342b51fd051e...</td>\n",
       "      <td>[0924243001, 0918522001, 0924243002, 090937000...</td>\n",
       "      <td>[0351484002, 0826211002]</td>\n",
       "      <td>[0805406003, 0573085042, 0542402001, 079246900...</td>\n",
       "      <td>[0351484002, 0826211002, 0805406003, 057308504...</td>\n",
       "    </tr>\n",
       "    <tr>\n",
       "      <th>2</th>\n",
       "      <td>000058a12d5b43e67d225668fa1f8d618c13dc232df0ca...</td>\n",
       "      <td>[0918522001, 0924243001, 0866731001, 092424300...</td>\n",
       "      <td></td>\n",
       "      <td>[0727808002, 0858883001, 0699080001, 068581300...</td>\n",
       "      <td>[0727808002, 0858883001, 0699080001, 068581300...</td>\n",
       "    </tr>\n",
       "    <tr>\n",
       "      <th>3</th>\n",
       "      <td>00005ca1c9ed5f5146b52ac8639a40ca9d57aeff4d1bd2...</td>\n",
       "      <td>[0866731001, 0852584001, 0791587001, 091829200...</td>\n",
       "      <td></td>\n",
       "      <td></td>\n",
       "      <td>[0866731001, 0852584001, 0791587001, 091829200...</td>\n",
       "    </tr>\n",
       "    <tr>\n",
       "      <th>4</th>\n",
       "      <td>00006413d8573cd20ed7128e53b7b13819fe5cfc2d801f...</td>\n",
       "      <td>[0924243001, 0930380001, 0928206001, 091060100...</td>\n",
       "      <td>[0927530004, 0896152002, 0730683050, 0791587015]</td>\n",
       "      <td>[0732206001, 0896152001, 0791587001, 092753000...</td>\n",
       "      <td>[0927530004, 0896152002, 0730683050, 079158701...</td>\n",
       "    </tr>\n",
       "  </tbody>\n",
       "</table>\n",
       "</div>"
      ],
      "text/plain": [
       "                                         customer_id  \\\n",
       "0  00000dbacae5abe5e23885899a1fa44253a17956c6d1c3...   \n",
       "1  0000423b00ade91418cceaf3b26c6af3dd342b51fd051e...   \n",
       "2  000058a12d5b43e67d225668fa1f8d618c13dc232df0ca...   \n",
       "3  00005ca1c9ed5f5146b52ac8639a40ca9d57aeff4d1bd2...   \n",
       "4  00006413d8573cd20ed7128e53b7b13819fe5cfc2d801f...   \n",
       "\n",
       "                                          cross_list  \\\n",
       "0  [0751471001, 0915529003, 0928206001, 057308504...   \n",
       "1  [0924243001, 0918522001, 0924243002, 090937000...   \n",
       "2  [0918522001, 0924243001, 0866731001, 092424300...   \n",
       "3  [0866731001, 0852584001, 0791587001, 091829200...   \n",
       "4  [0924243001, 0930380001, 0928206001, 091060100...   \n",
       "\n",
       "                                    repurchase_list  \\\n",
       "0                                                     \n",
       "1                          [0351484002, 0826211002]   \n",
       "2                                                     \n",
       "3                                                     \n",
       "4  [0927530004, 0896152002, 0730683050, 0791587015]   \n",
       "\n",
       "                                           pair_list  \\\n",
       "0  [0805000001, 0877278002, 0673396002, 082557900...   \n",
       "1  [0805406003, 0573085042, 0542402001, 079246900...   \n",
       "2  [0727808002, 0858883001, 0699080001, 068581300...   \n",
       "3                                                      \n",
       "4  [0732206001, 0896152001, 0791587001, 092753000...   \n",
       "\n",
       "                                           shortlist  \n",
       "0  [0805000001, 0877278002, 0673396002, 082557900...  \n",
       "1  [0351484002, 0826211002, 0805406003, 057308504...  \n",
       "2  [0727808002, 0858883001, 0699080001, 068581300...  \n",
       "3  [0866731001, 0852584001, 0791587001, 091829200...  \n",
       "4  [0927530004, 0896152002, 0730683050, 079158701...  "
      ]
     },
     "execution_count": 11,
     "metadata": {},
     "output_type": "execute_result"
    }
   ],
   "source": [
    "lists.to_pickle(\"pickles/articles_list_test.pkl\")\n",
    "lists.head()"
   ]
  },
  {
   "cell_type": "markdown",
   "metadata": {},
   "source": [
    "#### Soumission Kaggle"
   ]
  },
  {
   "cell_type": "code",
   "execution_count": 15,
   "metadata": {},
   "outputs": [
    {
     "name": "stderr",
     "output_type": "stream",
     "text": [
      "/tmp/ipykernel_4725/2861380053.py:2: SettingWithCopyWarning: \n",
      "A value is trying to be set on a copy of a slice from a DataFrame.\n",
      "Try using .loc[row_indexer,col_indexer] = value instead\n",
      "\n",
      "See the caveats in the documentation: https://pandas.pydata.org/pandas-docs/stable/user_guide/indexing.html#returning-a-view-versus-a-copy\n",
      "  submission['prediction'] = cross_list.apply(lambda x: ' '.join(x[0:12]))\n"
     ]
    },
    {
     "data": {
      "text/html": [
       "<div>\n",
       "<style scoped>\n",
       "    .dataframe tbody tr th:only-of-type {\n",
       "        vertical-align: middle;\n",
       "    }\n",
       "\n",
       "    .dataframe tbody tr th {\n",
       "        vertical-align: top;\n",
       "    }\n",
       "\n",
       "    .dataframe thead th {\n",
       "        text-align: right;\n",
       "    }\n",
       "</style>\n",
       "<table border=\"1\" class=\"dataframe\">\n",
       "  <thead>\n",
       "    <tr style=\"text-align: right;\">\n",
       "      <th></th>\n",
       "      <th>customer_id</th>\n",
       "      <th>prediction</th>\n",
       "    </tr>\n",
       "  </thead>\n",
       "  <tbody>\n",
       "    <tr>\n",
       "      <th>0</th>\n",
       "      <td>00000dbacae5abe5e23885899a1fa44253a17956c6d1c3...</td>\n",
       "      <td>0751471001 0915529003 0928206001 0573085042 09...</td>\n",
       "    </tr>\n",
       "    <tr>\n",
       "      <th>1</th>\n",
       "      <td>0000423b00ade91418cceaf3b26c6af3dd342b51fd051e...</td>\n",
       "      <td>0924243001 0918522001 0924243002 0909370001 09...</td>\n",
       "    </tr>\n",
       "    <tr>\n",
       "      <th>2</th>\n",
       "      <td>000058a12d5b43e67d225668fa1f8d618c13dc232df0ca...</td>\n",
       "      <td>0918522001 0924243001 0866731001 0924243002 09...</td>\n",
       "    </tr>\n",
       "    <tr>\n",
       "      <th>3</th>\n",
       "      <td>00005ca1c9ed5f5146b52ac8639a40ca9d57aeff4d1bd2...</td>\n",
       "      <td>0866731001 0852584001 0791587001 0918292001 08...</td>\n",
       "    </tr>\n",
       "    <tr>\n",
       "      <th>4</th>\n",
       "      <td>00006413d8573cd20ed7128e53b7b13819fe5cfc2d801f...</td>\n",
       "      <td>0924243001 0930380001 0928206001 0910601003 09...</td>\n",
       "    </tr>\n",
       "    <tr>\n",
       "      <th>...</th>\n",
       "      <td>...</td>\n",
       "      <td>...</td>\n",
       "    </tr>\n",
       "    <tr>\n",
       "      <th>1371975</th>\n",
       "      <td>ffffbbf78b6eaac697a8a5dfbfd2bfa8113ee5b403e474...</td>\n",
       "      <td>0918522001 0924243001 0924243002 0909370001 08...</td>\n",
       "    </tr>\n",
       "    <tr>\n",
       "      <th>1371976</th>\n",
       "      <td>ffffcd5046a6143d29a04fb8c424ce494a76e5cdf4fab5...</td>\n",
       "      <td>0448509014 0788575002 0788575004 0894780001 07...</td>\n",
       "    </tr>\n",
       "    <tr>\n",
       "      <th>1371977</th>\n",
       "      <td>ffffcf35913a0bee60e8741cb2b4e78b8a98ee5ff2e6a1...</td>\n",
       "      <td>0924243001 0934835001 0911699002 0918522001 09...</td>\n",
       "    </tr>\n",
       "    <tr>\n",
       "      <th>1371978</th>\n",
       "      <td>ffffd7744cebcf3aca44ae7049d2a94b87074c3d4ffe38...</td>\n",
       "      <td>0934835001 0924243001 0911699002 0935541001 04...</td>\n",
       "    </tr>\n",
       "    <tr>\n",
       "      <th>1371979</th>\n",
       "      <td>ffffd9ac14e89946416d80e791d064701994755c3ab686...</td>\n",
       "      <td>0930380001 0924243001 0924243002 0751471043 07...</td>\n",
       "    </tr>\n",
       "  </tbody>\n",
       "</table>\n",
       "<p>1371980 rows × 2 columns</p>\n",
       "</div>"
      ],
      "text/plain": [
       "                                               customer_id  \\\n",
       "0        00000dbacae5abe5e23885899a1fa44253a17956c6d1c3...   \n",
       "1        0000423b00ade91418cceaf3b26c6af3dd342b51fd051e...   \n",
       "2        000058a12d5b43e67d225668fa1f8d618c13dc232df0ca...   \n",
       "3        00005ca1c9ed5f5146b52ac8639a40ca9d57aeff4d1bd2...   \n",
       "4        00006413d8573cd20ed7128e53b7b13819fe5cfc2d801f...   \n",
       "...                                                    ...   \n",
       "1371975  ffffbbf78b6eaac697a8a5dfbfd2bfa8113ee5b403e474...   \n",
       "1371976  ffffcd5046a6143d29a04fb8c424ce494a76e5cdf4fab5...   \n",
       "1371977  ffffcf35913a0bee60e8741cb2b4e78b8a98ee5ff2e6a1...   \n",
       "1371978  ffffd7744cebcf3aca44ae7049d2a94b87074c3d4ffe38...   \n",
       "1371979  ffffd9ac14e89946416d80e791d064701994755c3ab686...   \n",
       "\n",
       "                                                prediction  \n",
       "0        0751471001 0915529003 0928206001 0573085042 09...  \n",
       "1        0924243001 0918522001 0924243002 0909370001 09...  \n",
       "2        0918522001 0924243001 0866731001 0924243002 09...  \n",
       "3        0866731001 0852584001 0791587001 0918292001 08...  \n",
       "4        0924243001 0930380001 0928206001 0910601003 09...  \n",
       "...                                                    ...  \n",
       "1371975  0918522001 0924243001 0924243002 0909370001 08...  \n",
       "1371976  0448509014 0788575002 0788575004 0894780001 07...  \n",
       "1371977  0924243001 0934835001 0911699002 0918522001 09...  \n",
       "1371978  0934835001 0924243001 0911699002 0935541001 04...  \n",
       "1371979  0930380001 0924243001 0924243002 0751471043 07...  \n",
       "\n",
       "[1371980 rows x 2 columns]"
      ]
     },
     "execution_count": 15,
     "metadata": {},
     "output_type": "execute_result"
    }
   ],
   "source": [
    "submission = customers[['customer_id']]\n",
    "submission['prediction'] = cross_list.apply(lambda x: ' '.join(x[0:12]))\n",
    "\n",
    "submission.to_csv('submissions/submission_cross_list.csv', index = False)\n",
    "submission"
   ]
  },
  {
   "cell_type": "code",
   "execution_count": null,
   "metadata": {},
   "outputs": [],
   "source": []
  }
 ],
 "metadata": {
  "interpreter": {
   "hash": "556b15acb71fbccb0059bce8ff607ae84b982497bd2dd0381fcb515435bd8f90"
  },
  "kernelspec": {
   "display_name": "Python 3.9.7 ('base')",
   "language": "python",
   "name": "python3"
  },
  "language_info": {
   "codemirror_mode": {
    "name": "ipython",
    "version": 3
   },
   "file_extension": ".py",
   "mimetype": "text/x-python",
   "name": "python",
   "nbconvert_exporter": "python",
   "pygments_lexer": "ipython3",
   "version": "3.9.7"
  },
  "orig_nbformat": 4
 },
 "nbformat": 4,
 "nbformat_minor": 2
}
