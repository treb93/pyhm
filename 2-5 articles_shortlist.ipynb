{
 "cells": [
  {
   "cell_type": "markdown",
   "metadata": {},
   "source": [
    "## Shortlist d'articles\n",
    "\n",
    "Le but de ce notebook est de déterminer une liste restreinte d'articles, statique ou dynamique, qui sera utilisée pour les modélisations.\n",
    "\n",
    "On se basera pour cela sur les ventes, couplées aux critères suivants : \n",
    "- Groupe de client\n",
    "- Groupe de code postal\n",
    "- Âge du client\n",
    "- Catégories préférées par le client\n",
    "- Articles susceptibles d'être rachetés\n",
    "- Articles qui vont de pair avec des articles déjà achetés\n",
    "\n",
    "**L'idée est de déterminer une liste de 50 articles par client, sur la base de laquelle le score maximal obtenu sera satisfaisant.**"
   ]
  },
  {
   "cell_type": "code",
   "execution_count": 1,
   "metadata": {},
   "outputs": [],
   "source": [
    "import pandas as pd\n",
    "import numpy as np\n",
    "\n",
    "ages_centers = [15, 25, 35, 45, 55, 65]\n",
    "\n",
    "def get_maximum_score(purchased_articles, shortlist):\n",
    "    \"\"\"Get the maximum (linear) score that can be obtained with an article shortlist.\n",
    "\n",
    "    Args:\n",
    "        purchased_articles (pd.Series): Series containing the list of purchased article for each customer.\n",
    "        shortlist (pd.Series): Series containing the shortlist of articles for each customer.\n",
    "        \n",
    "        \n",
    "    Returns:\n",
    "        A pd.Series object containing the maximum linear score for each customer.\n",
    "    \"\"\"\n",
    "    return pd.concat([purchased_articles.rename('purchased_articles'), shortlist.rename('shortlist')], axis = 1).apply(\n",
    "        lambda x: min( \n",
    "            np.sum(\n",
    "                np.where(\n",
    "                    [article in x.purchased_articles for article in x.shortlist], # Gives one sub-point for right article.\n",
    "                    1, \n",
    "                    0\n",
    "                )\n",
    "            ) / min(len(x.purchased_articles), 12), # Predict 12 articles is sufficient for having the maximum score.\n",
    "            1 # The max score is 1 per article.\n",
    "        ),\n",
    "    axis=1)\n",
    "\n",
    "def map12_score_table():\n",
    "    \"\"\"Get a score array for MAP@12.\n",
    "\n",
    "    Returns:\n",
    "        An array that gives the maximum score contribution for each position in the list.\n",
    "    \"\"\"\n",
    "        \n",
    "    # Get a table containing the subscore for each position, depending on the purchased article length.\n",
    "    score_table = np.zeros(12)\n",
    "    \n",
    "    for position in range(0, 12):\n",
    "        for i in range(position, 12): # iterate on each time the article intervenes on the score.\n",
    "            score_table[position] += 1 / (i + 1)\n",
    "\n",
    "    score_table = score_table / np.sum(score_table)\n",
    "    \n",
    "    return score_table\n",
    "\n",
    "def map12(purchased_articles, prediction):\n",
    "    \"\"\"Process the map12 score from the purchased articles and a prediction.\n",
    "\n",
    "    Args:\n",
    "        purchased_articles (pd.Series): the list of purchased articles for each customer\n",
    "        prediction (pd.Series): the prediction (list format) for each customer.\n",
    "        \n",
    "    Returns:\n",
    "        A pd.Series object containing the score for each customer.\n",
    "    \"\"\"\n",
    "    \n",
    "    return pd.concat([purchased_articles.rename('purchased_articles'), prediction.rename('prediction')], axis = 1).apply(\n",
    "        lambda x: np.sum(\n",
    "            np.fromiter(\n",
    "                (np.where(\n",
    "                x.prediction[cutoff] in x.purchased_articles,\n",
    "                np.sum(\n",
    "                    np.fromiter(\n",
    "                        (np.where(\n",
    "                            x.prediction[position] in x.purchased_articles,\n",
    "                            1 / (cutoff + 1), \n",
    "                            0\n",
    "                        ) for position in range(0, cutoff + 1)),\n",
    "                        float\n",
    "                    )\n",
    "                ),\n",
    "                0\n",
    "            ) for cutoff in range(0, min(len(x.prediction), 12)) ),\n",
    "            float)\n",
    "        ) / min(len(x.purchased_articles), 12),\n",
    "    axis=1)\n",
    "    \n",
    "def max_score_curve(purchased_articles, shortlist, max = 50, step = 5):\n",
    "    curve = [0]\n",
    "    \n",
    "    length = len(shortlist)\n",
    "    \n",
    "    score = 0\n",
    "    \n",
    "    for i in np.arange(0, max, step):\n",
    "        print(f\"\\r Calcul pour les articles 1-{i}\", end=\"\")\n",
    "        score += get_maximum_score(\n",
    "                purchased_articles,\n",
    "                shortlist.apply(lambda x: x[i: i + step])\n",
    "            ).sum() / length\n",
    "            \n",
    "        curve.append(\n",
    "            score\n",
    "        )\n",
    "    \n",
    "    return curve"
   ]
  },
  {
   "cell_type": "markdown",
   "metadata": {},
   "source": [
    "### Création des données de validations\n",
    "-> Sur la base de la dernière semaine du jeu de données"
   ]
  },
  {
   "cell_type": "code",
   "execution_count": 2,
   "metadata": {},
   "outputs": [],
   "source": [
    "transactions = pd.read_pickle('pickles/transactions.pkl')\n",
    "transactions_last_week = transactions[transactions['week_number'] == 0]"
   ]
  },
  {
   "cell_type": "code",
   "execution_count": 3,
   "metadata": {},
   "outputs": [],
   "source": [
    "validation_purchases = transactions_last_week.groupby(['customer_id'], as_index = False).agg(\n",
    "    purchase_list = ('article_id', lambda x: list(x))\n",
    ")"
   ]
  },
  {
   "cell_type": "code",
   "execution_count": 4,
   "metadata": {},
   "outputs": [
    {
     "data": {
      "text/plain": [
       "count       105.000000\n",
       "mean      76917.314286\n",
       "std       15344.606781\n",
       "min       49127.000000\n",
       "25%       68004.000000\n",
       "50%       73096.000000\n",
       "75%       80937.000000\n",
       "max      134010.000000\n",
       "Name: customer_id, dtype: float64"
      ]
     },
     "execution_count": 4,
     "metadata": {},
     "output_type": "execute_result"
    }
   ],
   "source": [
    "transactions.groupby('week_number')['customer_id'].nunique().describe()"
   ]
  },
  {
   "cell_type": "markdown",
   "metadata": {},
   "source": [
    "### Création des listes pour chaque Client\n",
    "Ici, on travaille uniquement sur les clients qui ont des achats."
   ]
  },
  {
   "cell_type": "code",
   "execution_count": 5,
   "metadata": {},
   "outputs": [],
   "source": [
    "customers = pd.read_pickle('pickles/customers_second_iteration.pkl')\n",
    "articles = pd.read_pickle('pickles/articles_second_iteration.pkl')"
   ]
  },
  {
   "cell_type": "code",
   "execution_count": 6,
   "metadata": {},
   "outputs": [],
   "source": [
    "before_last_week_sales = transactions[transactions['week_number'] == 1]"
   ]
  },
  {
   "cell_type": "code",
   "execution_count": 8,
   "metadata": {},
   "outputs": [
    {
     "name": "stderr",
     "output_type": "stream",
     "text": [
      "/tmp/ipykernel_5768/158463998.py:2: FutureWarning: In a future version of pandas all arguments of DataFrame.drop except for the argument 'labels' will be keyword-only\n",
      "  validation_customers.drop(['FN', 'Active', 'club_member_status',\n"
     ]
    }
   ],
   "source": [
    "\n",
    "validation_customers = validation_purchases[['customer_id']].merge(customers, on = 'customer_id', how = 'left')\n",
    "validation_customers.drop(['FN', 'Active', 'club_member_status',\n",
    "       'fashion_news_frequency', 'age', 'average_cart_articles',\n",
    "       'average_cart_price', 'total_carts', 'total_articles', 'total_price',\n",
    "       'average_cart_interval', 'repurchases', 'repurchases_interval'], 1, inplace = True)\n",
    "before_last_week_sales = transactions[transactions['week_number'] == 1].merge(customers, on = 'customer_id', how = 'left')"
   ]
  },
  {
   "cell_type": "code",
   "execution_count": 9,
   "metadata": {},
   "outputs": [
    {
     "data": {
      "text/html": [
       "<div>\n",
       "<style scoped>\n",
       "    .dataframe tbody tr th:only-of-type {\n",
       "        vertical-align: middle;\n",
       "    }\n",
       "\n",
       "    .dataframe tbody tr th {\n",
       "        vertical-align: top;\n",
       "    }\n",
       "\n",
       "    .dataframe thead th {\n",
       "        text-align: right;\n",
       "    }\n",
       "</style>\n",
       "<table border=\"1\" class=\"dataframe\">\n",
       "  <thead>\n",
       "    <tr style=\"text-align: right;\">\n",
       "      <th></th>\n",
       "      <th>article_id</th>\n",
       "      <th>postal_code_group</th>\n",
       "      <th>group</th>\n",
       "      <th>sales</th>\n",
       "      <th>age_around_15</th>\n",
       "      <th>age_around_25</th>\n",
       "      <th>age_around_35</th>\n",
       "      <th>age_around_45</th>\n",
       "      <th>age_around_55</th>\n",
       "      <th>age_around_65</th>\n",
       "      <th>index_group_name</th>\n",
       "    </tr>\n",
       "  </thead>\n",
       "  <tbody>\n",
       "    <tr>\n",
       "      <th>0</th>\n",
       "      <td>0108775044</td>\n",
       "      <td>4</td>\n",
       "      <td>4</td>\n",
       "      <td>1</td>\n",
       "      <td>0.0</td>\n",
       "      <td>0.0</td>\n",
       "      <td>0.0</td>\n",
       "      <td>0.2</td>\n",
       "      <td>0.8</td>\n",
       "      <td>0.0</td>\n",
       "      <td>Ladieswear</td>\n",
       "    </tr>\n",
       "    <tr>\n",
       "      <th>1</th>\n",
       "      <td>0108775044</td>\n",
       "      <td>5</td>\n",
       "      <td>5</td>\n",
       "      <td>1</td>\n",
       "      <td>0.0</td>\n",
       "      <td>0.3</td>\n",
       "      <td>0.7</td>\n",
       "      <td>0.0</td>\n",
       "      <td>0.0</td>\n",
       "      <td>0.0</td>\n",
       "      <td>Ladieswear</td>\n",
       "    </tr>\n",
       "    <tr>\n",
       "      <th>2</th>\n",
       "      <td>0111565001</td>\n",
       "      <td>1</td>\n",
       "      <td>1</td>\n",
       "      <td>1</td>\n",
       "      <td>0.1</td>\n",
       "      <td>0.9</td>\n",
       "      <td>0.0</td>\n",
       "      <td>0.0</td>\n",
       "      <td>0.0</td>\n",
       "      <td>0.0</td>\n",
       "      <td>Ladieswear</td>\n",
       "    </tr>\n",
       "    <tr>\n",
       "      <th>3</th>\n",
       "      <td>0111565001</td>\n",
       "      <td>1</td>\n",
       "      <td>4</td>\n",
       "      <td>1</td>\n",
       "      <td>0.0</td>\n",
       "      <td>0.0</td>\n",
       "      <td>0.0</td>\n",
       "      <td>0.5</td>\n",
       "      <td>0.5</td>\n",
       "      <td>0.0</td>\n",
       "      <td>Ladieswear</td>\n",
       "    </tr>\n",
       "    <tr>\n",
       "      <th>4</th>\n",
       "      <td>0111565001</td>\n",
       "      <td>1</td>\n",
       "      <td>5</td>\n",
       "      <td>1</td>\n",
       "      <td>0.0</td>\n",
       "      <td>0.5</td>\n",
       "      <td>0.5</td>\n",
       "      <td>0.0</td>\n",
       "      <td>0.0</td>\n",
       "      <td>0.0</td>\n",
       "      <td>Ladieswear</td>\n",
       "    </tr>\n",
       "    <tr>\n",
       "      <th>...</th>\n",
       "      <td>...</td>\n",
       "      <td>...</td>\n",
       "      <td>...</td>\n",
       "      <td>...</td>\n",
       "      <td>...</td>\n",
       "      <td>...</td>\n",
       "      <td>...</td>\n",
       "      <td>...</td>\n",
       "      <td>...</td>\n",
       "      <td>...</td>\n",
       "      <td>...</td>\n",
       "    </tr>\n",
       "    <tr>\n",
       "      <th>119311</th>\n",
       "      <td>0956217002</td>\n",
       "      <td>4</td>\n",
       "      <td>1</td>\n",
       "      <td>1</td>\n",
       "      <td>0.0</td>\n",
       "      <td>0.9</td>\n",
       "      <td>0.1</td>\n",
       "      <td>0.0</td>\n",
       "      <td>0.0</td>\n",
       "      <td>0.0</td>\n",
       "      <td>Ladieswear</td>\n",
       "    </tr>\n",
       "    <tr>\n",
       "      <th>119312</th>\n",
       "      <td>0956217002</td>\n",
       "      <td>4</td>\n",
       "      <td>3</td>\n",
       "      <td>2</td>\n",
       "      <td>0.0</td>\n",
       "      <td>0.0</td>\n",
       "      <td>0.0</td>\n",
       "      <td>0.0</td>\n",
       "      <td>0.7</td>\n",
       "      <td>1.2</td>\n",
       "      <td>Ladieswear</td>\n",
       "    </tr>\n",
       "    <tr>\n",
       "      <th>119313</th>\n",
       "      <td>0956217002</td>\n",
       "      <td>4</td>\n",
       "      <td>5</td>\n",
       "      <td>1</td>\n",
       "      <td>0.0</td>\n",
       "      <td>0.4</td>\n",
       "      <td>0.6</td>\n",
       "      <td>0.0</td>\n",
       "      <td>0.0</td>\n",
       "      <td>0.0</td>\n",
       "      <td>Ladieswear</td>\n",
       "    </tr>\n",
       "    <tr>\n",
       "      <th>119314</th>\n",
       "      <td>0956217002</td>\n",
       "      <td>4</td>\n",
       "      <td>6</td>\n",
       "      <td>3</td>\n",
       "      <td>0.2</td>\n",
       "      <td>2.5</td>\n",
       "      <td>0.3</td>\n",
       "      <td>0.0</td>\n",
       "      <td>0.0</td>\n",
       "      <td>0.0</td>\n",
       "      <td>Ladieswear</td>\n",
       "    </tr>\n",
       "    <tr>\n",
       "      <th>119315</th>\n",
       "      <td>0956217002</td>\n",
       "      <td>5</td>\n",
       "      <td>4</td>\n",
       "      <td>1</td>\n",
       "      <td>0.0</td>\n",
       "      <td>0.0</td>\n",
       "      <td>0.0</td>\n",
       "      <td>0.5</td>\n",
       "      <td>0.5</td>\n",
       "      <td>0.0</td>\n",
       "      <td>Ladieswear</td>\n",
       "    </tr>\n",
       "  </tbody>\n",
       "</table>\n",
       "<p>119316 rows × 11 columns</p>\n",
       "</div>"
      ],
      "text/plain": [
       "        article_id  postal_code_group  group  sales  age_around_15  \\\n",
       "0       0108775044                  4      4      1            0.0   \n",
       "1       0108775044                  5      5      1            0.0   \n",
       "2       0111565001                  1      1      1            0.1   \n",
       "3       0111565001                  1      4      1            0.0   \n",
       "4       0111565001                  1      5      1            0.0   \n",
       "...            ...                ...    ...    ...            ...   \n",
       "119311  0956217002                  4      1      1            0.0   \n",
       "119312  0956217002                  4      3      2            0.0   \n",
       "119313  0956217002                  4      5      1            0.0   \n",
       "119314  0956217002                  4      6      3            0.2   \n",
       "119315  0956217002                  5      4      1            0.0   \n",
       "\n",
       "        age_around_25  age_around_35  age_around_45  age_around_55  \\\n",
       "0                 0.0            0.0            0.2            0.8   \n",
       "1                 0.3            0.7            0.0            0.0   \n",
       "2                 0.9            0.0            0.0            0.0   \n",
       "3                 0.0            0.0            0.5            0.5   \n",
       "4                 0.5            0.5            0.0            0.0   \n",
       "...               ...            ...            ...            ...   \n",
       "119311            0.9            0.1            0.0            0.0   \n",
       "119312            0.0            0.0            0.0            0.7   \n",
       "119313            0.4            0.6            0.0            0.0   \n",
       "119314            2.5            0.3            0.0            0.0   \n",
       "119315            0.0            0.0            0.5            0.5   \n",
       "\n",
       "        age_around_65 index_group_name  \n",
       "0                 0.0       Ladieswear  \n",
       "1                 0.0       Ladieswear  \n",
       "2                 0.0       Ladieswear  \n",
       "3                 0.0       Ladieswear  \n",
       "4                 0.0       Ladieswear  \n",
       "...               ...              ...  \n",
       "119311            0.0       Ladieswear  \n",
       "119312            1.2       Ladieswear  \n",
       "119313            0.0       Ladieswear  \n",
       "119314            0.0       Ladieswear  \n",
       "119315            0.0       Ladieswear  \n",
       "\n",
       "[119316 rows x 11 columns]"
      ]
     },
     "execution_count": 9,
     "metadata": {},
     "output_type": "execute_result"
    }
   ],
   "source": [
    "top_sales_validation = before_last_week_sales.groupby(['article_id', 'postal_code_group', 'group'], as_index = False).agg(\n",
    "    sales = ('article_id', 'count'),\n",
    "    age_around_15 = ('age_around_15', 'sum'),\n",
    "    age_around_25 = ('age_around_25', 'sum'),\n",
    "    age_around_35 = ('age_around_35', 'sum'),\n",
    "    age_around_45 = ('age_around_45', 'sum'),\n",
    "    age_around_55 = ('age_around_55', 'sum'),\n",
    "    age_around_65 = ('age_around_65', 'sum'),\n",
    ")\n",
    "\n",
    "    \n",
    "# Add index group\n",
    "top_sales_validation = top_sales_validation.merge(articles[['article_id', 'index_group_name']], on = 'article_id')\n",
    "top_sales_validation"
   ]
  },
  {
   "cell_type": "markdown",
   "metadata": {},
   "source": [
    "#### Articles les plus vendus"
   ]
  },
  {
   "cell_type": "code",
   "execution_count": 9,
   "metadata": {},
   "outputs": [
    {
     "data": {
      "text/html": [
       "<div>\n",
       "<style scoped>\n",
       "    .dataframe tbody tr th:only-of-type {\n",
       "        vertical-align: middle;\n",
       "    }\n",
       "\n",
       "    .dataframe tbody tr th {\n",
       "        vertical-align: top;\n",
       "    }\n",
       "\n",
       "    .dataframe thead th {\n",
       "        text-align: right;\n",
       "    }\n",
       "</style>\n",
       "<table border=\"1\" class=\"dataframe\">\n",
       "  <thead>\n",
       "    <tr style=\"text-align: right;\">\n",
       "      <th></th>\n",
       "      <th>customer_id</th>\n",
       "      <th>baby</th>\n",
       "      <th>divided</th>\n",
       "      <th>ladieswear</th>\n",
       "      <th>menswear</th>\n",
       "      <th>sport</th>\n",
       "      <th>age_around_15</th>\n",
       "      <th>age_around_25</th>\n",
       "      <th>age_around_35</th>\n",
       "      <th>age_around_45</th>\n",
       "      <th>age_around_55</th>\n",
       "      <th>age_around_65</th>\n",
       "      <th>postal_code_group</th>\n",
       "      <th>group</th>\n",
       "      <th>best_articles</th>\n",
       "    </tr>\n",
       "  </thead>\n",
       "  <tbody>\n",
       "    <tr>\n",
       "      <th>0</th>\n",
       "      <td>00039306476aaf41a07fed942884f16b30abfa83a2a8be...</td>\n",
       "      <td>0.000000</td>\n",
       "      <td>0.161290</td>\n",
       "      <td>0.645161</td>\n",
       "      <td>0.193548</td>\n",
       "      <td>0.000000</td>\n",
       "      <td>0.0</td>\n",
       "      <td>0.8</td>\n",
       "      <td>0.2</td>\n",
       "      <td>0.0</td>\n",
       "      <td>0.0</td>\n",
       "      <td>0.0</td>\n",
       "      <td>1</td>\n",
       "      <td>1</td>\n",
       "      <td>[0909370001, 0865799006, 0918522001, 092424300...</td>\n",
       "    </tr>\n",
       "    <tr>\n",
       "      <th>1</th>\n",
       "      <td>0003e867a930d0d6842f923d6ba7c9b77aba33fe2a0fbf...</td>\n",
       "      <td>0.000000</td>\n",
       "      <td>0.944444</td>\n",
       "      <td>0.055556</td>\n",
       "      <td>0.000000</td>\n",
       "      <td>0.000000</td>\n",
       "      <td>0.0</td>\n",
       "      <td>0.2</td>\n",
       "      <td>0.8</td>\n",
       "      <td>0.0</td>\n",
       "      <td>0.0</td>\n",
       "      <td>0.0</td>\n",
       "      <td>4</td>\n",
       "      <td>2</td>\n",
       "      <td>[0909370001, 0865799006, 0918522001, 092424300...</td>\n",
       "    </tr>\n",
       "    <tr>\n",
       "      <th>2</th>\n",
       "      <td>000493dd9fc463df1acc2081450c9e75ef8e87d5dd17ed...</td>\n",
       "      <td>0.000000</td>\n",
       "      <td>0.875000</td>\n",
       "      <td>0.125000</td>\n",
       "      <td>0.000000</td>\n",
       "      <td>0.000000</td>\n",
       "      <td>0.0</td>\n",
       "      <td>0.6</td>\n",
       "      <td>0.4</td>\n",
       "      <td>0.0</td>\n",
       "      <td>0.0</td>\n",
       "      <td>0.0</td>\n",
       "      <td>1</td>\n",
       "      <td>0</td>\n",
       "      <td>[0909370001, 0865799006, 0918522001, 092424300...</td>\n",
       "    </tr>\n",
       "    <tr>\n",
       "      <th>3</th>\n",
       "      <td>000525e3fe01600d717da8423643a8303390a055c578ed...</td>\n",
       "      <td>0.000000</td>\n",
       "      <td>1.000000</td>\n",
       "      <td>0.000000</td>\n",
       "      <td>0.000000</td>\n",
       "      <td>0.000000</td>\n",
       "      <td>0.0</td>\n",
       "      <td>1.0</td>\n",
       "      <td>0.0</td>\n",
       "      <td>0.0</td>\n",
       "      <td>0.0</td>\n",
       "      <td>0.0</td>\n",
       "      <td>5</td>\n",
       "      <td>6</td>\n",
       "      <td>[0909370001, 0865799006, 0918522001, 092424300...</td>\n",
       "    </tr>\n",
       "    <tr>\n",
       "      <th>4</th>\n",
       "      <td>00077dbd5c4a4991e092e63893ccf29294a9d5c46e8501...</td>\n",
       "      <td>0.055556</td>\n",
       "      <td>0.208333</td>\n",
       "      <td>0.694444</td>\n",
       "      <td>0.013889</td>\n",
       "      <td>0.027778</td>\n",
       "      <td>0.2</td>\n",
       "      <td>0.8</td>\n",
       "      <td>0.0</td>\n",
       "      <td>0.0</td>\n",
       "      <td>0.0</td>\n",
       "      <td>0.0</td>\n",
       "      <td>0</td>\n",
       "      <td>1</td>\n",
       "      <td>[0909370001, 0865799006, 0918522001, 092424300...</td>\n",
       "    </tr>\n",
       "  </tbody>\n",
       "</table>\n",
       "</div>"
      ],
      "text/plain": [
       "                                         customer_id      baby   divided  \\\n",
       "0  00039306476aaf41a07fed942884f16b30abfa83a2a8be...  0.000000  0.161290   \n",
       "1  0003e867a930d0d6842f923d6ba7c9b77aba33fe2a0fbf...  0.000000  0.944444   \n",
       "2  000493dd9fc463df1acc2081450c9e75ef8e87d5dd17ed...  0.000000  0.875000   \n",
       "3  000525e3fe01600d717da8423643a8303390a055c578ed...  0.000000  1.000000   \n",
       "4  00077dbd5c4a4991e092e63893ccf29294a9d5c46e8501...  0.055556  0.208333   \n",
       "\n",
       "   ladieswear  menswear     sport  age_around_15  age_around_25  \\\n",
       "0    0.645161  0.193548  0.000000            0.0            0.8   \n",
       "1    0.055556  0.000000  0.000000            0.0            0.2   \n",
       "2    0.125000  0.000000  0.000000            0.0            0.6   \n",
       "3    0.000000  0.000000  0.000000            0.0            1.0   \n",
       "4    0.694444  0.013889  0.027778            0.2            0.8   \n",
       "\n",
       "   age_around_35  age_around_45  age_around_55  age_around_65  \\\n",
       "0            0.2            0.0            0.0            0.0   \n",
       "1            0.8            0.0            0.0            0.0   \n",
       "2            0.4            0.0            0.0            0.0   \n",
       "3            0.0            0.0            0.0            0.0   \n",
       "4            0.0            0.0            0.0            0.0   \n",
       "\n",
       "   postal_code_group  group                                      best_articles  \n",
       "0                  1      1  [0909370001, 0865799006, 0918522001, 092424300...  \n",
       "1                  4      2  [0909370001, 0865799006, 0918522001, 092424300...  \n",
       "2                  1      0  [0909370001, 0865799006, 0918522001, 092424300...  \n",
       "3                  5      6  [0909370001, 0865799006, 0918522001, 092424300...  \n",
       "4                  0      1  [0909370001, 0865799006, 0918522001, 092424300...  "
      ]
     },
     "execution_count": 9,
     "metadata": {},
     "output_type": "execute_result"
    }
   ],
   "source": [
    "top_sales_general = top_sales_validation.groupby('article_id', as_index = False)['sales'].sum().nlargest(n = 100, columns=\"sales\")['article_id'].tolist()\n",
    "validation_customers['best_articles'] = validation_customers['customer_id'].apply(lambda x: top_sales_general)\n",
    "validation_customers.head(5)"
   ]
  },
  {
   "cell_type": "code",
   "execution_count": 19,
   "metadata": {},
   "outputs": [
    {
     "data": {
      "text/plain": [
       "0.008336265044440449"
      ]
     },
     "execution_count": 19,
     "metadata": {},
     "output_type": "execute_result"
    }
   ],
   "source": [
    "best_articles_map12 = map12(\n",
    "    validation_purchases['purchase_list'],\n",
    "    validation_customers['best_articles'].apply(lambda x: x[0:11])\n",
    ")\n",
    "\n",
    "best_articles_map12.sum() / len(best_articles_map12)"
   ]
  },
  {
   "cell_type": "markdown",
   "metadata": {},
   "source": [
    "#### Classement par groupe de code postal"
   ]
  },
  {
   "cell_type": "code",
   "execution_count": 20,
   "metadata": {},
   "outputs": [],
   "source": [
    "postal_code_groups = top_sales_validation['postal_code_group'].unique()\n",
    "\n",
    "postal_codes_lists = {}\n",
    "\n",
    "top_sales_postal_code_groups = top_sales_validation.groupby(['article_id', 'postal_code_group'], as_index = False)['sales'].sum()\n",
    "\n",
    "for group in postal_code_groups :\n",
    "    postal_codes_lists[group] = top_sales_postal_code_groups[top_sales_postal_code_groups['postal_code_group'] == group].nlargest(n = 100, columns=\"sales\")['article_id'].tolist()\n",
    "\n",
    "validation_customers['postal_group_articles'] = validation_customers['postal_code_group'].apply(lambda x: postal_codes_lists[x])"
   ]
  },
  {
   "cell_type": "markdown",
   "metadata": {},
   "source": [
    "#### Classement par groupe d'utilisateur"
   ]
  },
  {
   "cell_type": "code",
   "execution_count": 21,
   "metadata": {},
   "outputs": [],
   "source": [
    "customer_groups = top_sales_validation['group'].unique()\n",
    "\n",
    "customer_group_lists = {}\n",
    "\n",
    "top_sales_customer_groups = top_sales_validation.groupby(['article_id', 'group'], as_index = False)['sales'].sum()\n",
    "\n",
    "for group in customer_groups :\n",
    "    customer_group_lists[group] = top_sales_customer_groups[top_sales_customer_groups['group'] == group].nlargest(n = 100, columns=\"sales\")['article_id'].tolist()\n",
    "\n",
    "validation_customers['customer_group_articles'] = validation_customers['group'].apply(lambda x: customer_group_lists[x])"
   ]
  },
  {
   "cell_type": "markdown",
   "metadata": {},
   "source": [
    "#### Classement par catégorie"
   ]
  },
  {
   "cell_type": "code",
   "execution_count": 22,
   "metadata": {},
   "outputs": [],
   "source": [
    "categories = top_sales_validation['index_group_name'].unique()\n",
    "categories_string = []\n",
    "\n",
    "top_sales_categories = top_sales_validation.groupby(['article_id', 'index_group_name'], as_index = False)['sales'].sum()\n",
    "\n",
    "top_sales_category_lists = {}\n",
    "\n",
    "for category in categories:\n",
    "    category_string = category.split('/')[0].lower()\n",
    "    categories_string.append(category_string)\n",
    "    \n",
    "    top_sales_category_lists[category_string] = top_sales_categories[top_sales_categories['index_group_name'] == category].nlargest(n = 100, columns = ['sales'])\n",
    "    top_sales_category_lists[category_string]['shares'] = top_sales_category_lists[category_string]['sales'] / top_sales_category_lists[category_string]['sales'].sum()\n",
    "    top_sales_category_lists[category_string]['index_group_name'] = category_string\n"
   ]
  },
  {
   "cell_type": "code",
   "execution_count": 48,
   "metadata": {},
   "outputs": [],
   "source": [
    "def get_category_list(x, balanced = False):\n",
    "    global categories\n",
    "    global top_sales_category_lists\n",
    "    \n",
    "    top_sales_weighted = []\n",
    "    \n",
    "    for category in categories_string:\n",
    "    \n",
    "        if x[category] == 0:\n",
    "            continue\n",
    "        \n",
    "        column = 'shares' if balanced else 'sales'\n",
    "        \n",
    "        top_sales_category_lists[category]['sales_weighted'] = top_sales_category_lists[category][column] * x[category]\n",
    "        \n",
    "        top_sales_weighted.append(top_sales_category_lists[category])\n",
    "        \n",
    "    return pd.concat(top_sales_weighted).nlargest(n = 100, columns = ['sales_weighted'])['article_id'].tolist()\n",
    "\n",
    "def get_category_list_weighted(x):\n",
    "    return get_category_list(x, balanced = True)"
   ]
  },
  {
   "cell_type": "code",
   "execution_count": 49,
   "metadata": {},
   "outputs": [],
   "source": [
    "validation_customers['category_list'] = validation_customers.apply(get_category_list, axis = 1)\n"
   ]
  },
  {
   "cell_type": "code",
   "execution_count": 25,
   "metadata": {},
   "outputs": [],
   "source": [
    "# liste utilisant les parts de vente dans chaque catégorie et non les ventes en valeur absolue.\n",
    "validation_customers['category_list_balanced'] = validation_customers.apply(get_category_list_weighted, axis = 1)"
   ]
  },
  {
   "cell_type": "markdown",
   "metadata": {},
   "source": [
    "#### Classement par âge (pondération discrète)"
   ]
  },
  {
   "cell_type": "code",
   "execution_count": 26,
   "metadata": {},
   "outputs": [],
   "source": [
    "customer_age_lists = {}\n",
    "\n",
    "top_sales_ages = top_sales_validation.groupby('article_id', as_index = False).agg(\n",
    "    sales = ('sales', 'sum'),\n",
    "    age_around_15 = ('age_around_15', 'sum'),\n",
    "    age_around_25 = ('age_around_25', 'sum'),\n",
    "    age_around_35 = ('age_around_35', 'sum'),\n",
    "    age_around_45 = ('age_around_45', 'sum'),\n",
    "    age_around_55 = ('age_around_55', 'sum'),\n",
    "    age_around_65 = ('age_around_65', 'sum'),\n",
    ")\n",
    "\n",
    "validation_customers['age_articles'] = ''\n",
    "\n",
    "for age in ages_centers :\n",
    "    age_list = top_sales_ages.nlargest(n = 100, columns=f\"age_around_{age}\")['article_id'].tolist()\n",
    "    \n",
    "    validation_customers['age_articles'] = validation_customers.apply(\n",
    "        lambda x: \n",
    "            age_list if x[f\"age_around_{age}\"] > 0.5 \n",
    "            else x['age_articles']\n",
    "        , axis = 1\n",
    "    )"
   ]
  },
  {
   "cell_type": "markdown",
   "metadata": {},
   "source": [
    "#### Classement par âge (pondération continue)"
   ]
  },
  {
   "cell_type": "code",
   "execution_count": 27,
   "metadata": {},
   "outputs": [],
   "source": [
    "def age_weighted_list(x):\n",
    "    global top_sales_ages\n",
    "    \n",
    "    top_sales_ages['sales_weighted'] = 0\n",
    "    \n",
    "    for age in ages_centers:\n",
    "        column = f'age_around_{age}'\n",
    "        top_sales_ages['sales_weighted'] += top_sales_ages[column] * x[column]\n",
    "        \n",
    "    return top_sales_ages.nlargest(n = 100, columns = ['sales_weighted'])['article_id'].tolist()\n",
    "\n",
    "\n",
    "validation_customers['age_articles_weighted'] = validation_customers.apply(age_weighted_list, axis = 1)"
   ]
  },
  {
   "cell_type": "code",
   "execution_count": 29,
   "metadata": {},
   "outputs": [],
   "source": [
    "validation_purchases.to_pickle('pickles/second_iteration_validation_purchases.pkl')\n",
    "validation_customers.to_pickle('pickles/second_iteration_shortlists.pkl')"
   ]
  },
  {
   "cell_type": "code",
   "execution_count": 39,
   "metadata": {},
   "outputs": [
    {
     "name": "stdout",
     "output_type": "stream",
     "text": [
      " Calcul pour les articles 1-50"
     ]
    }
   ],
   "source": [
    "best_articles_curve = max_score_curve(validation_purchases['purchase_list'], validation_customers['best_articles'])"
   ]
  },
  {
   "cell_type": "code",
   "execution_count": 40,
   "metadata": {},
   "outputs": [
    {
     "name": "stdout",
     "output_type": "stream",
     "text": [
      " Calcul pour les articles 1-50"
     ]
    }
   ],
   "source": [
    "postal_group_curve = max_score_curve(validation_purchases['purchase_list'], validation_customers['postal_group_articles'])"
   ]
  },
  {
   "cell_type": "code",
   "execution_count": 41,
   "metadata": {},
   "outputs": [
    {
     "name": "stdout",
     "output_type": "stream",
     "text": [
      " Calcul pour les articles 1-50"
     ]
    }
   ],
   "source": [
    "customer_group_curve = max_score_curve(validation_purchases['purchase_list'], validation_customers['customer_group_articles'])"
   ]
  },
  {
   "cell_type": "code",
   "execution_count": 50,
   "metadata": {},
   "outputs": [
    {
     "name": "stdout",
     "output_type": "stream",
     "text": [
      " Calcul pour les articles 1-50"
     ]
    }
   ],
   "source": [
    "category_list_curve = max_score_curve(validation_purchases['purchase_list'], validation_customers['category_list'])"
   ]
  },
  {
   "cell_type": "code",
   "execution_count": 43,
   "metadata": {},
   "outputs": [
    {
     "name": "stdout",
     "output_type": "stream",
     "text": [
      " Calcul pour les articles 1-50"
     ]
    }
   ],
   "source": [
    "category_list_balanced_curve = max_score_curve(validation_purchases['purchase_list'], validation_customers['category_list_balanced'])"
   ]
  },
  {
   "cell_type": "code",
   "execution_count": 44,
   "metadata": {},
   "outputs": [
    {
     "name": "stdout",
     "output_type": "stream",
     "text": [
      " Calcul pour les articles 1-50"
     ]
    }
   ],
   "source": [
    "age_curve = max_score_curve(validation_purchases['purchase_list'], validation_customers['age_articles'])"
   ]
  },
  {
   "cell_type": "code",
   "execution_count": 45,
   "metadata": {},
   "outputs": [
    {
     "name": "stdout",
     "output_type": "stream",
     "text": [
      " Calcul pour les articles 1-50"
     ]
    }
   ],
   "source": [
    "age_weighted_curve = max_score_curve(validation_purchases['purchase_list'], validation_customers['age_articles_weighted'])"
   ]
  },
  {
   "cell_type": "code",
   "execution_count": 51,
   "metadata": {},
   "outputs": [
    {
     "data": {
      "image/png": "[encoded data removed]",
      "text/plain": [
       "<Figure size 576x432 with 1 Axes>"
      ]
     },
     "metadata": {
      "needs_background": "light"
     },
     "output_type": "display_data"
    }
   ],
   "source": [
    "import matplotlib.pyplot as plt\n",
    "%matplotlib inline\n",
    "\n",
    "x = np.arange(0, 51, 5)\n",
    "\n",
    "plt.figure(figsize = (8, 6))\n",
    "plt.plot(x, best_articles_curve, label = \"Ventes générales\")\n",
    "plt.plot(x, postal_group_curve, label = \"Par codes postaux\")\n",
    "plt.plot(x, customer_group_curve, label = \"Par cluster de clients\")\n",
    "plt.plot(x, category_list_curve, label = \"Par catégories préférées\")\n",
    "plt.plot(x, category_list_balanced_curve, label = \"Par catégories préférées (rééquilibré)\")\n",
    "plt.plot(x, age_curve, label = \"Par tranche d'âge (discrète)\")\n",
    "plt.plot(x, age_weighted_curve, label = \"Par tranche d'âge (continue)\")\n",
    "\n",
    "plt.xlabel(\"Nombre d'articles dans la sélection\")\n",
    "plt.ylabel(\"Score linéaire\")\n",
    "plt.title(\"Score maximum selon différentes sélections d'articles\")\n",
    "plt.legend()\n",
    "\n",
    "plt.show()"
   ]
  },
  {
   "cell_type": "markdown",
   "metadata": {},
   "source": [
    "Les listes par âge (pondération continue), clustering de clients et surtout catégories préférées rééquilibrée offrent un gain potentiel significatif.\n",
    "Il serait donc opportun de croiser ses différentes listes."
   ]
  },
  {
   "cell_type": "markdown",
   "metadata": {},
   "source": [
    "#### Sélection croisée Groupe / Catégorie / Âge"
   ]
  },
  {
   "cell_type": "code",
   "execution_count": 10,
   "metadata": {},
   "outputs": [
    {
     "name": "stderr",
     "output_type": "stream",
     "text": [
      "/tmp/ipykernel_5768/1261146488.py:27: SettingWithCopyWarning: \n",
      "A value is trying to be set on a copy of a slice from a DataFrame.\n",
      "Try using .loc[row_indexer,col_indexer] = value instead\n",
      "\n",
      "See the caveats in the documentation: https://pandas.pydata.org/pandas-docs/stable/user_guide/indexing.html#returning-a-view-versus-a-copy\n",
      "  cross_lists[group][category_string]['shares'] = cross_lists[group][category_string]['sales'] / cross_lists[group][category_string]['sales'].sum()\n",
      "/tmp/ipykernel_5768/1261146488.py:28: SettingWithCopyWarning: \n",
      "A value is trying to be set on a copy of a slice from a DataFrame.\n",
      "Try using .loc[row_indexer,col_indexer] = value instead\n",
      "\n",
      "See the caveats in the documentation: https://pandas.pydata.org/pandas-docs/stable/user_guide/indexing.html#returning-a-view-versus-a-copy\n",
      "  cross_lists[group][category_string]['index_group_name'] = category_string\n"
     ]
    }
   ],
   "source": [
    "# Préparation des classements.\n",
    "\n",
    "groups = top_sales_validation['group'].unique()\n",
    "categories = top_sales_validation['index_group_name'].unique()\n",
    "\n",
    "cross_lists = {}\n",
    "\n",
    "top_sales_cross = top_sales_validation.groupby(['article_id', 'index_group_name', 'group'], as_index = False).agg(\n",
    "    sales = ('sales', 'sum'),\n",
    "    age_around_15 = ('age_around_15', 'sum'),\n",
    "    age_around_25 = ('age_around_25', 'sum'),\n",
    "    age_around_35 = ('age_around_35', 'sum'),\n",
    "    age_around_45 = ('age_around_45', 'sum'),\n",
    "    age_around_55 = ('age_around_55', 'sum'),\n",
    "    age_around_65 = ('age_around_65', 'sum'),\n",
    ")\n",
    "\n",
    "for group in groups :\n",
    "    cross_lists[group] = {}\n",
    "    \n",
    "    categories = top_sales_validation['index_group_name'].unique()\n",
    "\n",
    "    for category in categories:\n",
    "        category_string = category.split('/')[0].lower()\n",
    "        \n",
    "        cross_lists[group][category_string] = top_sales_cross[(top_sales_cross['group'] == group) & (top_sales_cross['index_group_name'] == category)]\n",
    "        cross_lists[group][category_string]['shares'] = cross_lists[group][category_string]['sales'] / cross_lists[group][category_string]['sales'].sum()\n",
    "        cross_lists[group][category_string]['index_group_name'] = category_string\n",
    "        cross_lists[group][category_string] = cross_lists[group][category_string].nlargest(n = 100, columns = 'shares')"
   ]
  },
  {
   "cell_type": "code",
   "execution_count": 11,
   "metadata": {},
   "outputs": [],
   "source": [
    "def get_cross_list(x):\n",
    "    global cross_lists\n",
    "    \n",
    "    top_sales_weighted = []\n",
    "    group = x['group']\n",
    "    \n",
    "    for category in cross_lists[group].keys():\n",
    "    \n",
    "        if x[category] == 0:\n",
    "            continue\n",
    "        \n",
    "        cross_lists[group][category]['shares_weighted'] = cross_lists[group][category]['shares'] * x[category]\n",
    "        cross_lists[group][category]['sales_cross_weighted'] = 0\n",
    "            \n",
    "        for age in ages_centers:\n",
    "            column = f\"age_around_{age}\"\n",
    "            \n",
    "            if x[column] == 0:\n",
    "                continue\n",
    "            \n",
    "            cross_lists[group][category]['sales_cross_weighted'] += cross_lists[group][category][column] * cross_lists[group][category]['shares_weighted']\n",
    "            \n",
    "            top_sales_weighted.append(cross_lists[group][category])\n",
    "    \n",
    "    if len(top_sales_weighted) == 0:\n",
    "        return []\n",
    "    \n",
    "    final_list = pd.concat(top_sales_weighted).groupby('article_id', as_index = False).agg(\n",
    "        sales_cross_weighted = ('sales_cross_weighted', 'max')\n",
    "    )\n",
    "    \n",
    "    return final_list.nlargest(n = 100, columns = ['sales_cross_weighted'])['article_id'].tolist()"
   ]
  },
  {
   "cell_type": "code",
   "execution_count": 12,
   "metadata": {},
   "outputs": [],
   "source": [
    "cross_list = validation_customers.apply(lambda x: get_cross_list(x), axis = 1)"
   ]
  },
  {
   "cell_type": "code",
   "execution_count": 19,
   "metadata": {},
   "outputs": [
    {
     "name": "stdout",
     "output_type": "stream",
     "text": [
      " Calcul pour les articles 1-45"
     ]
    }
   ],
   "source": [
    "cross_curve = max_score_curve(validation_purchases['purchase_list'], cross_list)"
   ]
  },
  {
   "cell_type": "markdown",
   "metadata": {},
   "source": [
    "#### Articles susceptibles d'être rachetés"
   ]
  },
  {
   "cell_type": "code",
   "execution_count": 13,
   "metadata": {},
   "outputs": [],
   "source": [
    "already_purchased_list = pd.read_pickle('pickles/already_purchased_list.pkl')\n",
    "\n",
    "already_purchased_list = validation_purchases[['customer_id']].merge(already_purchased_list, on = 'customer_id', how = 'left')"
   ]
  },
  {
   "cell_type": "code",
   "execution_count": 14,
   "metadata": {},
   "outputs": [],
   "source": [
    "already_purchased_list[already_purchased_list['list'].isna()] = already_purchased_list[already_purchased_list['list'].isna()].fillna('').apply(list)"
   ]
  },
  {
   "cell_type": "code",
   "execution_count": 57,
   "metadata": {},
   "outputs": [
    {
     "name": "stdout",
     "output_type": "stream",
     "text": [
      " Calcul pour les articles 1-50"
     ]
    }
   ],
   "source": [
    "repurchase_curve = max_score_curve(validation_purchases['purchase_list'], already_purchased_list['list'])"
   ]
  },
  {
   "cell_type": "markdown",
   "metadata": {},
   "source": [
    "#### Paires d'articles\n",
    "Articles qui sont en général achetés ensemble "
   ]
  },
  {
   "cell_type": "code",
   "execution_count": 15,
   "metadata": {},
   "outputs": [],
   "source": [
    "pairs_list = pd.read_pickle(\"pickles/articles_pairs_list.pkl\")\n",
    "\n",
    "pairs_list = validation_purchases[['customer_id']].merge(pairs_list, on = 'customer_id', how = 'left')\n",
    "pairs_list[pairs_list['list'].isna()] = pairs_list[pairs_list['list'].isna()].fillna('').apply(list)"
   ]
  },
  {
   "cell_type": "code",
   "execution_count": 6,
   "metadata": {},
   "outputs": [
    {
     "data": {
      "text/html": [
       "<div>\n",
       "<style scoped>\n",
       "    .dataframe tbody tr th:only-of-type {\n",
       "        vertical-align: middle;\n",
       "    }\n",
       "\n",
       "    .dataframe tbody tr th {\n",
       "        vertical-align: top;\n",
       "    }\n",
       "\n",
       "    .dataframe thead th {\n",
       "        text-align: right;\n",
       "    }\n",
       "</style>\n",
       "<table border=\"1\" class=\"dataframe\">\n",
       "  <thead>\n",
       "    <tr style=\"text-align: right;\">\n",
       "      <th></th>\n",
       "      <th>customer_id</th>\n",
       "      <th>list</th>\n",
       "    </tr>\n",
       "  </thead>\n",
       "  <tbody>\n",
       "    <tr>\n",
       "      <th>0</th>\n",
       "      <td>00039306476aaf41a07fed942884f16b30abfa83a2a8be...</td>\n",
       "      <td></td>\n",
       "    </tr>\n",
       "    <tr>\n",
       "      <th>1</th>\n",
       "      <td>0003e867a930d0d6842f923d6ba7c9b77aba33fe2a0fbf...</td>\n",
       "      <td>[0875329001, 0827487003]</td>\n",
       "    </tr>\n",
       "    <tr>\n",
       "      <th>2</th>\n",
       "      <td>000493dd9fc463df1acc2081450c9e75ef8e87d5dd17ed...</td>\n",
       "      <td>[0706016001, 0862496001, 0834368002, 083126900...</td>\n",
       "    </tr>\n",
       "    <tr>\n",
       "      <th>3</th>\n",
       "      <td>000525e3fe01600d717da8423643a8303390a055c578ed...</td>\n",
       "      <td></td>\n",
       "    </tr>\n",
       "    <tr>\n",
       "      <th>4</th>\n",
       "      <td>00077dbd5c4a4991e092e63893ccf29294a9d5c46e8501...</td>\n",
       "      <td>[0806388002]</td>\n",
       "    </tr>\n",
       "    <tr>\n",
       "      <th>...</th>\n",
       "      <td>...</td>\n",
       "      <td>...</td>\n",
       "    </tr>\n",
       "    <tr>\n",
       "      <th>68979</th>\n",
       "      <td>fffa67737587e52ff1afa9c7c6490b5eb7acbc439fe82b...</td>\n",
       "      <td></td>\n",
       "    </tr>\n",
       "    <tr>\n",
       "      <th>68980</th>\n",
       "      <td>fffa7d7799eb390a76308454cbdd76e473d65b1497fbe4...</td>\n",
       "      <td></td>\n",
       "    </tr>\n",
       "    <tr>\n",
       "      <th>68981</th>\n",
       "      <td>fffae8eb3a282d8c43c77dd2ca0621703b71e90904dfde...</td>\n",
       "      <td>[0652924004, 0797892001, 0652924010]</td>\n",
       "    </tr>\n",
       "    <tr>\n",
       "      <th>68982</th>\n",
       "      <td>fffd870c6324ad3bda24e4d6aeae221c199479086bfdfd...</td>\n",
       "      <td></td>\n",
       "    </tr>\n",
       "    <tr>\n",
       "      <th>68983</th>\n",
       "      <td>fffef3b6b73545df065b521e19f64bf6fe93bfd450ab20...</td>\n",
       "      <td></td>\n",
       "    </tr>\n",
       "  </tbody>\n",
       "</table>\n",
       "<p>68984 rows × 2 columns</p>\n",
       "</div>"
      ],
      "text/plain": [
       "                                             customer_id  \\\n",
       "0      00039306476aaf41a07fed942884f16b30abfa83a2a8be...   \n",
       "1      0003e867a930d0d6842f923d6ba7c9b77aba33fe2a0fbf...   \n",
       "2      000493dd9fc463df1acc2081450c9e75ef8e87d5dd17ed...   \n",
       "3      000525e3fe01600d717da8423643a8303390a055c578ed...   \n",
       "4      00077dbd5c4a4991e092e63893ccf29294a9d5c46e8501...   \n",
       "...                                                  ...   \n",
       "68979  fffa67737587e52ff1afa9c7c6490b5eb7acbc439fe82b...   \n",
       "68980  fffa7d7799eb390a76308454cbdd76e473d65b1497fbe4...   \n",
       "68981  fffae8eb3a282d8c43c77dd2ca0621703b71e90904dfde...   \n",
       "68982  fffd870c6324ad3bda24e4d6aeae221c199479086bfdfd...   \n",
       "68983  fffef3b6b73545df065b521e19f64bf6fe93bfd450ab20...   \n",
       "\n",
       "                                                    list  \n",
       "0                                                         \n",
       "1                               [0875329001, 0827487003]  \n",
       "2      [0706016001, 0862496001, 0834368002, 083126900...  \n",
       "3                                                         \n",
       "4                                           [0806388002]  \n",
       "...                                                  ...  \n",
       "68979                                                     \n",
       "68980                                                     \n",
       "68981               [0652924004, 0797892001, 0652924010]  \n",
       "68982                                                     \n",
       "68983                                                     \n",
       "\n",
       "[68984 rows x 2 columns]"
      ]
     },
     "execution_count": 6,
     "metadata": {},
     "output_type": "execute_result"
    }
   ],
   "source": [
    "pairs_list"
   ]
  },
  {
   "cell_type": "code",
   "execution_count": 58,
   "metadata": {},
   "outputs": [
    {
     "name": "stdout",
     "output_type": "stream",
     "text": [
      " Calcul pour les articles 1-50"
     ]
    }
   ],
   "source": [
    "pairs_curve = max_score_curve(validation_purchases['purchase_list'], pairs_list['list'])"
   ]
  },
  {
   "cell_type": "code",
   "execution_count": 60,
   "metadata": {},
   "outputs": [
    {
     "data": {
      "image/png": "[encoded data removed]",
      "text/plain": [
       "<Figure size 576x432 with 1 Axes>"
      ]
     },
     "metadata": {
      "needs_background": "light"
     },
     "output_type": "display_data"
    }
   ],
   "source": [
    "import matplotlib.pyplot as plt\n",
    "%matplotlib inline\n",
    "\n",
    "x = np.arange(0, 51, 5)\n",
    "\n",
    "plt.figure(figsize = (8, 6))\n",
    "#plt.plot(x, best_articles_curve, label = \"Ventes générales\")\n",
    "plt.plot(x, repurchase_curve, label = \"Rachats potentiels\")\n",
    "plt.plot(x, pairs_curve, label = \"Articles achetés de pair\")\n",
    "plt.plot(x, cross_curve, label = \"Par catégories + âge + groupe\")\n",
    "\n",
    "plt.xlabel(\"Nombre d'articles dans la sélection\")\n",
    "plt.ylabel(\"Score linéaire\")\n",
    "plt.title(\"Score maximum selon différentes sélections d'articles\")\n",
    "plt.legend()\n",
    "\n",
    "plt.show()"
   ]
  },
  {
   "cell_type": "markdown",
   "metadata": {},
   "source": [
    "**Observations**\n",
    "- La liste des articles achetés de pair semble très prometteuse.\n",
    "- La liste croisée catégorie / âge / groupe est sensiblement meilleure que chaque critère un à un, sans pour autant doubler ou tripler le score maximum.\n",
    "- La courbe des rachats potentiels semble anormalement basse, **sans doute parce qu'elle concerne qu'une faible partie des clients**\n",
    "\n",
    "-> Il faudrait retracer la courbe des achats potentiels en ne prenant que les clients qui ont des articles dans la liste."
   ]
  },
  {
   "cell_type": "markdown",
   "metadata": {},
   "source": [
    "#### Retraçage de la courbe des rachats\n",
    "Pondérées par le nombre d'utilisateurs qui ont des éléments dans la liste"
   ]
  },
  {
   "cell_type": "code",
   "execution_count": 16,
   "metadata": {},
   "outputs": [
    {
     "name": "stdout",
     "output_type": "stream",
     "text": [
      " Calcul pour les articles 1-11"
     ]
    }
   ],
   "source": [
    "repurchase_curve_adjusted = [0]\n",
    "\n",
    "length = len(already_purchased_list['list'])\n",
    "\n",
    "score = 0\n",
    "\n",
    "already_purchased_list_length = already_purchased_list['list'].apply(lambda x: len(x))\n",
    "\n",
    "for i in np.arange(0, 50, 1):\n",
    "    length = len(already_purchased_list[already_purchased_list_length > i])\n",
    "    \n",
    "    if length == 0:\n",
    "        repurchase_curve_adjusted.append(\n",
    "            score\n",
    "        )\n",
    "        continue\n",
    "    \n",
    "    print(f\"\\r Calcul pour les articles 1-{i + 1}\", end=\"\")\n",
    "    score += get_maximum_score(\n",
    "            validation_purchases['purchase_list'],\n",
    "            already_purchased_list['list'].apply(lambda x: x[i: i + 1])\n",
    "        ).sum() / length\n",
    "        \n",
    "    repurchase_curve_adjusted.append(\n",
    "        score\n",
    "    )\n"
   ]
  },
  {
   "cell_type": "code",
   "execution_count": 17,
   "metadata": {},
   "outputs": [
    {
     "name": "stdout",
     "output_type": "stream",
     "text": [
      " Calcul pour les articles 1-49"
     ]
    }
   ],
   "source": [
    "# Courbes plus précises\n",
    "cross_curve = max_score_curve(validation_purchases['purchase_list'], cross_list, 50, 1)\n",
    "pairs_curve = max_score_curve(validation_purchases['purchase_list'], pairs_list['list'], 50, 1)"
   ]
  },
  {
   "cell_type": "code",
   "execution_count": 18,
   "metadata": {},
   "outputs": [
    {
     "data": {
      "image/png": "[encoded data removed]",
      "text/plain": [
       "<Figure size 576x432 with 1 Axes>"
      ]
     },
     "metadata": {
      "needs_background": "light"
     },
     "output_type": "display_data"
    }
   ],
   "source": [
    "import matplotlib.pyplot as plt\n",
    "%matplotlib inline\n",
    "\n",
    "\n",
    "\n",
    "x = np.arange(0, 51, 1)\n",
    "\n",
    "plt.figure(figsize = (8, 6))\n",
    "#plt.plot(x, best_articles_curve, label = \"Ventes générales\")\n",
    "plt.plot(x, repurchase_curve_adjusted, label = \"Rachats potentiels - score ajusté\")\n",
    "plt.plot(x, pairs_curve, label = \"Articles achetés de pair\")\n",
    "plt.plot(x, cross_curve, label = \"Par catégories + âge + groupe\")\n",
    "\n",
    "plt.xlabel(\"Nombre d'articles dans la sélection\")\n",
    "plt.ylabel(\"Score linéaire\")\n",
    "plt.title(\"Score maximum selon différentes sélections d'articles\")\n",
    "plt.legend()\n",
    "\n",
    "plt.show()"
   ]
  },
  {
   "cell_type": "markdown",
   "metadata": {},
   "source": [
    "**Observations**\n",
    "- Les courbes sont globalement concaves, ce qui laisse supposer que les principes de scoring choisis sont plutôt bons. Juste la sélection croisée pourrait peut-être être améliorée.\n",
    "- le gain potentiel de liste des rachats est très significatif jusqu'à 7 articles.\n",
    "- Au delà de 25-30 articles, les courbes orange et vertes semblent parallèles"
   ]
  },
  {
   "cell_type": "markdown",
   "metadata": {},
   "source": [
    "#### Détermination du nombre optimal d'articles de chaque liste"
   ]
  },
  {
   "cell_type": "code",
   "execution_count": 19,
   "metadata": {},
   "outputs": [],
   "source": [
    "def amount_of_each_list(score_list_1, score_list_2, score_list_3, length):\n",
    "    i_1 = 1\n",
    "    i_2 = 1\n",
    "    i_3 = 1\n",
    "    \n",
    "    for n in range(0, length):\n",
    "        score_1 = score_list_1[i_1] - score_list_1[i_1 - 1]\n",
    "        score_2 = score_list_2[i_2] - score_list_2[i_2 - 1]\n",
    "        score_3 = score_list_3[i_3] - score_list_3[i_3 - 1]\n",
    "        \n",
    "        \n",
    "        if score_1 >= score_2 and score_1 >= score_3 :\n",
    "            i_1 += 1\n",
    "        elif score_2 >= score_3 :\n",
    "            i_2 += 1\n",
    "        else :\n",
    "            i_3 += 1\n",
    "            \n",
    "    return i_1 - 1, i_2 - 1, i_3 - 1\n",
    "            "
   ]
  },
  {
   "cell_type": "code",
   "execution_count": 20,
   "metadata": {},
   "outputs": [
    {
     "name": "stdout",
     "output_type": "stream",
     "text": [
      "Pour une liste de 12 éléments, prendre : \n",
      " 5 rachats \n",
      " 7 articles appairés, \n",
      " 0 articles de la liste croisée. \n"
     ]
    }
   ],
   "source": [
    "i_1, i_2, i_3 = amount_of_each_list(repurchase_curve_adjusted, pairs_curve, cross_curve, 12)\n",
    "print(f\"Pour une liste de 12 éléments, prendre : \\n {i_1} rachats \\n {i_2} articles appairés, \\n {i_3} articles de la liste croisée. \")"
   ]
  },
  {
   "cell_type": "code",
   "execution_count": 21,
   "metadata": {},
   "outputs": [
    {
     "name": "stdout",
     "output_type": "stream",
     "text": [
      "Pour une shortlist de 50 éléments, prendre : \n",
      " 8 rachats \n",
      " 29 articles appairés, \n",
      " 13 articles de la liste croisée. \n"
     ]
    }
   ],
   "source": [
    "i_1, i_2, i_3 = amount_of_each_list(repurchase_curve_adjusted, pairs_curve, cross_curve, 50)\n",
    "print(f\"Pour une shortlist de 50 éléments, prendre : \\n {i_1} rachats \\n {i_2} articles appairés, \\n {i_3} articles de la liste croisée. \")"
   ]
  },
  {
   "cell_type": "markdown",
   "metadata": {},
   "source": [
    "#### Évaluation de la liste finale"
   ]
  },
  {
   "cell_type": "code",
   "execution_count": 23,
   "metadata": {},
   "outputs": [],
   "source": [
    "validation_purchases['cross_list'] = cross_list\n",
    "validation_purchases['pair_list'] = pairs_list['list']\n",
    "validation_purchases['repurchase_list'] = already_purchased_list['list']"
   ]
  },
  {
   "cell_type": "code",
   "execution_count": 24,
   "metadata": {},
   "outputs": [],
   "source": [
    "validation_purchases['length'] = validation_purchases['cross_list'].apply(lambda x: len(x))\n",
    "validation_purchases['length'].value_counts()\n",
    "validation_purchases = validation_purchases[validation_purchases['length'] == 100]"
   ]
  },
  {
   "cell_type": "code",
   "execution_count": 28,
   "metadata": {},
   "outputs": [],
   "source": [
    "def process_shortlist(raw):\n",
    "    shortlist = []\n",
    "    \n",
    "    i_1 = 0\n",
    "    i_2 = 0\n",
    "    i_3 = 0\n",
    "    \n",
    "    while (len(shortlist) < 50) & (i_3 < len(raw['cross_list'])):\n",
    "        if i_1 < 8 and i_1 < len(raw['repurchase_list']):\n",
    "            article_id = raw['repurchase_list'][i_1]\n",
    "            i_1 += 1\n",
    "        elif i_2 < 27 and i_2 < len(raw['pair_list']):\n",
    "            article_id = raw['pair_list'][i_2]\n",
    "            i_2 += 1\n",
    "        else:\n",
    "            article_id = raw['cross_list'][i_3]\n",
    "            i_3 += 1\n",
    "    \n",
    "        if article_id not in shortlist:\n",
    "            shortlist.append(article_id)\n",
    "            \n",
    "    return shortlist\n",
    "\n",
    "validation_purchases['shortlist'] = validation_purchases.apply(lambda x: process_shortlist(x), axis = 1)"
   ]
  },
  {
   "cell_type": "code",
   "execution_count": 29,
   "metadata": {},
   "outputs": [
    {
     "name": "stdout",
     "output_type": "stream",
     "text": [
      "Score linéaire maximal obtenu par la shortlist:  0.2512086383694438\n"
     ]
    }
   ],
   "source": [
    "max_score = get_maximum_score(validation_purchases['purchase_list'], validation_purchases['shortlist']).sum() / len(validation_purchases)\n",
    "\n",
    "print(\"Score linéaire maximal obtenu par la shortlist: \", max_score)"
   ]
  },
  {
   "cell_type": "markdown",
   "metadata": {},
   "source": [
    "### Conclusion\n",
    "\n",
    "- Entraîner un algorithme sur la shortlist permettrait d'obtenir un score linéaire maximal de 0.25. Cette limite est très supérieure aux scores obtenus sur la compétition (~0.035) et nous pouvons donc la considérer comme acceptable.\n",
    "- Le score maximal obtenu pour des listes faisant intervenir des notions séquentielles, de relations entre les articles (rachat + articles appairés) et / ou d'historique d'achat du client, nous conforte dans l'idée qu'un modèle de type RNN / GNN serait approprié sur cette problématique."
   ]
  },
  {
   "cell_type": "code",
   "execution_count": null,
   "metadata": {},
   "outputs": [],
   "source": []
  }
 ],
 "metadata": {
  "interpreter": {
   "hash": "556b15acb71fbccb0059bce8ff607ae84b982497bd2dd0381fcb515435bd8f90"
  },
  "kernelspec": {
   "display_name": "Python 3.9.7 ('base')",
   "language": "python",
   "name": "python3"
  },
  "language_info": {
   "codemirror_mode": {
    "name": "ipython",
    "version": 3
   },
   "file_extension": ".py",
   "mimetype": "text/x-python",
   "name": "python",
   "nbconvert_exporter": "python",
   "pygments_lexer": "ipython3",
   "version": "3.9.7"
  },
  "orig_nbformat": 4
 },
 "nbformat": 4,
 "nbformat_minor": 2
}
